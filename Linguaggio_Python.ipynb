{
  "nbformat": 4,
  "nbformat_minor": 0,
  "metadata": {
    "colab": {
      "provenance": [],
      "authorship_tag": "ABX9TyNZY81V0HTLgkNS+b6kqX0h",
      "include_colab_link": true
    },
    "kernelspec": {
      "name": "python3",
      "display_name": "Python 3"
    },
    "language_info": {
      "name": "python"
    }
  },
  "cells": [
    {
      "cell_type": "markdown",
      "metadata": {
        "id": "view-in-github",
        "colab_type": "text"
      },
      "source": [
        "<a href=\"https://colab.research.google.com/github/mdessolis/pythontps/blob/main/Linguaggio_Python.ipynb\" target=\"_parent\"><img src=\"https://colab.research.google.com/assets/colab-badge.svg\" alt=\"Open In Colab\"/></a>"
      ]
    },
    {
      "cell_type": "markdown",
      "source": [
        "# Python for TPS\n",
        "\n",
        "## Sommario\n",
        "\n",
        "- [Introduzione](#introduzione)\n",
        "- [Principi del linguaggio](#principi-del-linguaggio)\n",
        "   - [Commenti](#commenti)\n",
        "   - [Variabili](#variabili)\n",
        "      - [Variabili numeriche](#variabili-numeriche)\n",
        "      - [Variabili stringa](#variabili-stringa)\n",
        "      - [Formatted string](#formatted-string)\n",
        "      - [Tuple](#tuple)\n",
        "      - [Liste](#liste)\n",
        "      - [Accedere agli elementi di liste e tuple](#accedere-agli-elementi-di-liste-e-tuple)\n",
        "      - [Set](#set)\n",
        "      - [Dictionary](#dictionary)\n",
        "   - [Controllo del flusso](#controllo-del-flusso)\n",
        "      - [if](#if)\n",
        "      - [while](#while)\n",
        "      - [for](#for)\n",
        "      - [List comprehension](#list-comprehension)\n",
        "      - [match](#match)\n",
        "   - [Operatori e funzioni di base](#operatori-e-funzioni-di-base)\n",
        "      - [Operatori di assegnamento](#operatori-di-assegnamento)\n",
        "      - [Operatori condizionali](#operatori-condizionali) \n",
        "      - [if inline](#if-inline)\n",
        "      - [Assegnazioni parallele](#assegnazioni-parallele)\n",
        "   - [Funzioni](#funzioni)\n",
        "      - [Passaggio di argomenti per riferimento o per valore](#passaggio-di-argomenti-per-riferimento-o-per-valore)\n",
        "      - [Built-in functions](#built-in-functions)\n",
        "   - [Classi e Oggetti](#classi-e-oggetti)\n"
      ],
      "metadata": {
        "id": "jC-Y9boZcSG2"
      }
    },
    {
      "cell_type": "markdown",
      "source": [
        "## Introduzione\n",
        "\n",
        "Il linguaggio Python si è imposto negli ultimi anni per una notevole flessibilità nelle istruzioni e per una sempre più crescente disponibilità di librerie di ausilio alle problematiche più disparate, dalla matematica all'AI alla analisi delle reti.\n",
        "\n",
        "In questa breve dispensa vedremo i fondamenti del linguaggio e diversi esempi di uso per lo studio di alcune tematiche legate all'insegnamento di **TPS** nelle classi quarte e quinte dell'articolazione **Informatica** dell'indirizzo **Informatica e Telecomunicazioni**."
      ],
      "metadata": {
        "id": "sDvmW0t2cdAd"
      }
    },
    {
      "cell_type": "markdown",
      "source": [
        "## Principi del linguaggio\n",
        "\n",
        "A differenza degli altri linguaggi di programmazione Python non usa parentesi graffe o altri simboli per rappresentare correttamente i blocchi di istruzione, ma l'indentazione. E' quindi fondamentale scrivere in modo ordinato le istruzioni rispettando rigorosamente l'indentazione, per convenzione di solito impostata a quattro spazi.\n"
      ],
      "metadata": {
        "id": "w3b27D9pch5y"
      }
    },
    {
      "cell_type": "markdown",
      "source": [
        "### Commenti ###\n",
        "\n",
        "E' bene iniziare sempre ogni programma e ogni funzione con delle righe di commento. In Python per indicare i commenti multiriga si usano di solito tre virgolette o tre apici come delimitatori, tenendo però presente che gli stessi delimitatori possono essere usati anche nelle assegnazioni:\n"
      ],
      "metadata": {
        "id": "KHp5FTwBclgz"
      }
    },
    {
      "cell_type": "code",
      "execution_count": 5,
      "metadata": {
        "colab": {
          "base_uri": "https://localhost:8080/",
          "height": 36
        },
        "id": "3ABIFagKcMka",
        "outputId": "a84e1930-fc45-4bf5-fe0d-4285cafb27e8"
      },
      "outputs": [
        {
          "output_type": "execute_result",
          "data": {
            "text/plain": [
              "'\\nQuesta è una stringa\\nsu più righe assegnata alla variabile a\\n'"
            ],
            "application/vnd.google.colaboratory.intrinsic+json": {
              "type": "string"
            }
          },
          "metadata": {},
          "execution_count": 5
        }
      ],
      "source": [
        "\"\"\"\n",
        "Questo è un commento in un programma\n",
        "\"\"\"\n",
        "\n",
        "a = \"\"\"\n",
        "Questa è una stringa\n",
        "su più righe assegnata alla variabile a\n",
        "\"\"\"\n",
        "\n",
        "a\n"
      ]
    },
    {
      "cell_type": "markdown",
      "source": [
        "I commenti su singola riga invece si scrivono preceduti dal carattere hash #"
      ],
      "metadata": {
        "id": "qgo-yi50dXaA"
      }
    },
    {
      "cell_type": "code",
      "source": [
        "\"\"\"\n",
        "Questo è un commento in un programma\n",
        "\"\"\"\n",
        "\n",
        "# Adesso assegniamo uno string literal alla variabile a\n",
        "a = \"\"\"\n",
        "Questa è una stringa\n",
        "su più righe assegnata alla variabile a\n",
        "\"\"\""
      ],
      "metadata": {
        "id": "wLA4K0_Cdb_N"
      },
      "execution_count": null,
      "outputs": []
    },
    {
      "cell_type": "markdown",
      "source": [
        "### Variabili\n"
      ],
      "metadata": {
        "id": "H6sXX8xjdix0"
      }
    },
    {
      "cell_type": "markdown",
      "source": [
        "#### Variabili numeriche\n",
        "\n",
        "Le variabili in Python non hanno necessità di dichiarazione preliminare del tipo, in quanto questo viene inferito dal valore assegnato. Quelle numeriche sono di tre tipi, **integer**, **float** e **complex**. E' da tenere presente che per le variabili intere non ci sono limiti al loro numero di cifre, mentre per quelle float dipende dall'implementazione ma in genere 2e306. Considerare anche che con assegnazioni successive una variabile può cambiare tipo e passare ad esempio da int a float. Esempi:"
      ],
      "metadata": {
        "id": "e1UhhC7tdktv"
      }
    },
    {
      "cell_type": "code",
      "source": [
        "a = 5\n",
        "type(a) # Mostra <class 'int'>\n",
        "\n",
        "a = a/2\n",
        "type(a) # Mostra <class 'float'>\n",
        "\n",
        "a = 87621836467784687346283746298374691823764978 # è sempre un intero\n",
        "\n",
        "a = 2e401\n",
        "a\n",
        "# inf se supera il limite di memorizzazione assegna il valore **inf**"
      ],
      "metadata": {
        "colab": {
          "base_uri": "https://localhost:8080/"
        },
        "id": "DEAsUez2dtpB",
        "outputId": "71093b68-ec7b-4c7b-a611-bffcfa48f3fe"
      },
      "execution_count": 7,
      "outputs": [
        {
          "output_type": "execute_result",
          "data": {
            "text/plain": [
              "inf"
            ]
          },
          "metadata": {},
          "execution_count": 7
        }
      ]
    },
    {
      "cell_type": "markdown",
      "source": [
        "E' bene precisare che le variabili hanno un comportamento differente rispetto ad altri linguaggi. Le variabili int, float (e così anche string) sono immutabili ed una assegnazione di un valore ad una variabile consiste nella creazione di un oggetto di un certo tipo e associazione di un nome all'oggetto. Se però si assegna un nuovo valore alla variabile non viene modificato l'oggetto ma ne viene creato uno nuovo.\n",
        "\n",
        "Una prova di questo la possiamo avere usando la funzione id(variabile) che restituisce un intero identificatore univoco di una variabile:\n"
      ],
      "metadata": {
        "id": "DcSnBgdAep30"
      }
    },
    {
      "cell_type": "code",
      "source": [
        "a = 5\n",
        "print(id(a)) # mostra 140713457410984, ha creato un oggetto int e associato il nome a\n",
        "print(id(5)) # mostra 140713457410984\n",
        "\n",
        "a += 1\n",
        "print(id(a)) # mostra 140713457411016, è un oggetto int differente con associato il nome a\n",
        "print(id(6)) # mostra 140713457411016\n",
        "\n",
        "b = 6\n",
        "print(id(b)) # mostra 140713457411016"
      ],
      "metadata": {
        "colab": {
          "base_uri": "https://localhost:8080/"
        },
        "id": "8gMFolkuerHx",
        "outputId": "f9b7994c-0509-4f52-ca66-b4e43b56f7db"
      },
      "execution_count": 9,
      "outputs": [
        {
          "output_type": "stream",
          "name": "stdout",
          "text": [
            "140305003354544\n",
            "140305003354544\n",
            "140305003354576\n",
            "140305003354576\n",
            "140305003354576\n"
          ]
        }
      ]
    },
    {
      "cell_type": "markdown",
      "source": [
        "#### Variabili stringa ####\n",
        "\n",
        "Le variabili stringa in Python sono immutabili, per cui si può assegnare un testo ad una variabile ma non si può modificarne parte ma solo riassegnare un nuovo testo."
      ],
      "metadata": {
        "id": "8cYnio2WfQqA"
      }
    },
    {
      "cell_type": "code",
      "source": [
        "a = \"Cuesta è una frase\"\n",
        "    \n",
        "\"\"\"\n",
        "L'istruzione seguente restituisce errore, non si può modificare una lettera della stringa.\n",
        "'str' object does not support item assignment\n",
        "\"\"\"\n",
        "a[0] = \"Q\" \n",
        "\n",
        "\"\"\"\n",
        "Questo è corretto perché riassegniamo l'intera stringa.\n",
        "a[1:] restituisce tutti i caratteri a partire dal secondo (v. liste)\n",
        "\"\"\"\n",
        "a = \"Q\" + a[1:] \n",
        "\n",
        "print(a)"
      ],
      "metadata": {
        "colab": {
          "base_uri": "https://localhost:8080/"
        },
        "id": "BtA4bYiCfUAy",
        "outputId": "6db6e776-f1da-460c-8e2e-423330da0513"
      },
      "execution_count": 16,
      "outputs": [
        {
          "output_type": "stream",
          "name": "stdout",
          "text": [
            "Questa è una frase\n"
          ]
        }
      ]
    },
    {
      "cell_type": "markdown",
      "source": [
        "Le variabili stringa sono anche considerate da Python come degli array (di caratteri) per cui possono essere usate come tali e si può accedere ai singoli caratteri con l'indice tra parentesi quadre oppure si possono usare alcuni costrutti di python per estrarre informazioni:"
      ],
      "metadata": {
        "id": "FkJQuR9WfZvL"
      }
    },
    {
      "cell_type": "code",
      "source": [
        "a = \"La donzelletta vien dalla campagna\"\n",
        "    \n",
        "print(len(a))      # restituisce 34\n",
        "print(a[1])        # restituisce 'a'\n",
        "print('alla' in a) # restituisce True ('alla' si trova dentro la stringa a)\n",
        "print('Alla' in a) # restituisce False('Alla' non si trova nella stringa a, la ricerca è case sensitive)\n",
        "for c in a: pass   # esegue un ciclo for memorizzando in c una ad una tutte le lettere presenti in a"
      ],
      "metadata": {
        "colab": {
          "base_uri": "https://localhost:8080/"
        },
        "id": "PXwLbhVifalD",
        "outputId": "739ca631-c6c3-47a1-b7a0-071832865fda"
      },
      "execution_count": 14,
      "outputs": [
        {
          "output_type": "stream",
          "name": "stdout",
          "text": [
            "34\n",
            "a\n",
            "True\n",
            "False\n"
          ]
        }
      ]
    },
    {
      "cell_type": "markdown",
      "source": [
        "#### Formatted string ####\n",
        "\n",
        "Le stringhe possono essere definite anche in modo formattato, cioè con dei codici che consentono l'inserimento di espressioni direttamente all'interno della stringa e del modo in cui devono essere mostrate.\n",
        "\n",
        "Python offre diversi metodi per la formattazione delle stringhe ma noi ci limiteremo alla modalità definita nelle ultime versioni, in quanto più sintetica da scrivere.\n",
        "\n",
        "Questa modalità consiste nel precedere le virgolette che racchiudono la stringa con la lettera \"f\" e inserire le espressioni all'interno di questa tra parentesi graffe:"
      ],
      "metadata": {
        "id": "ng166xRRgPQ8"
      }
    },
    {
      "cell_type": "code",
      "source": [
        "p = 15.3\n",
        "q = 12.78\n",
        "\n",
        "s = f\"{p} * {q} = {p*q}\" # memorizza in s la stringa '15.3 * 12.78 = 195.534'\n",
        "\n",
        "s = f\"{p:.1} * {q:.1} = {p*q:.1}\" # memorizza in s la stringa '2e+01 * 1e+01 = 2e+02'\n",
        "\n",
        "s = f\"{p:.1f} * {q:.1f} = {p*q:.1f}\" # memorizza in s la stringa '15.3 * 12.8 = 195.5'\n",
        "\n",
        "s = f\"{p:.3f} * {q:.3f} = {p*q:.3f}\" # memorizza in s la stringa '15.300 * 12.780 = 195.534'\n",
        "\n",
        "s = f\"{p:15.3f} * {q:15.3f} = {p*q:15.3f}\" \n",
        "# memorizza in s la stringa '         15.300 *          12.780 =         195.534'\n",
        "\n",
        "print(f\"{q:-^15}\")\n",
        "# crea una stringa di 15 caratteri con al centro il valore di q \n",
        "# e riempita non di spazi ma di \"-\": '-----12.78-----'\n",
        "\n",
        "print(f\"{q:^15.4f}\")\n",
        "# crea una stringa di 15 caratteri con al centro il valore di q \n",
        "# e spazi vuoti a destra e sinistra: '    12.7800    '\n",
        "\n",
        "print(f\"{q:15.4f}\")\n",
        "# crea una stringa di 15 caratteri con a destra il valore di q con 4 cifre decimali, \n",
        "# a sinistra spazi: '        12.7800'\n",
        "\n",
        "a = 1500000\n",
        "print(f\"{a:,}\") # inserisce il separatore delle migliaia e restituisce '1,500,000'\n",
        "\n",
        "x = 0.3532\n",
        "print(f\"{x:.2%}\") # restituisce x in formato percentuale: '35.32%'\n",
        "\n",
        "t = 4\n",
        "print(f\"{t:0>5}\") # riempie di zeri non significativi e restituisce '00004'\n",
        "\n",
        "print(f\"{t:0>5b}\") # riempie di zeri non significativi e restituisce in binario: '00100'"
      ],
      "metadata": {
        "colab": {
          "base_uri": "https://localhost:8080/"
        },
        "id": "ove8lNeigTzp",
        "outputId": "51eb624e-50c1-4338-94e5-6979d3ae2737"
      },
      "execution_count": 17,
      "outputs": [
        {
          "output_type": "stream",
          "name": "stdout",
          "text": [
            "-----12.78-----\n",
            "    12.7800    \n",
            "        12.7800\n",
            "1,500,000\n",
            "35.32%\n",
            "00004\n",
            "00100\n"
          ]
        }
      ]
    },
    {
      "cell_type": "markdown",
      "source": [
        "#### Tuple ####\n",
        "\n",
        "Le tuple sono delle variabili contenenti liste non modificabili di elementi. Questo significa che se vogliamo modificare un elemento della tupla ne dobbiamo creare una nuova con l'elemento modificato. \n",
        "\n",
        "E' invece possibile unire due o più tuple tra loro.\n",
        "\n",
        "Per rappresentare una tupla si indicano gli elementi che la compongono racchiusi tra parentesi tonde."
      ],
      "metadata": {
        "id": "dBQQXnUZgxF5"
      }
    },
    {
      "cell_type": "code",
      "source": [
        "a = (\"Milano\", \"Torino\", \"Bologna\")\n",
        "    \n",
        "a += (\"Genova\",) # aggiunge Genova alla tupla a (attenzione alla virgola finale, \n",
        "                 # se non messa non la considera una tupla!)\n",
        "\n",
        "print(a[0]) # restituisce \"Milano\"\n",
        "\n",
        "print(len(a)) # restituisce 4\n",
        "\n",
        "a = (\"Napoli\", ) + a[1:] \n",
        "# ricrea la tupla a sostituendo il primo elemento con \"Napoli\" al posto di \"Milano\"\n",
        "# a[1:] restituisce tutti gli elementi a partire da quello di indice 1, quindi salta il primo\n",
        "\n",
        "print(a.count(\"Genova\")) # restituisce il numero di occorrenze di \"Genova\" all'interno della tupla a"
      ],
      "metadata": {
        "colab": {
          "base_uri": "https://localhost:8080/"
        },
        "id": "Hn3uuowIg1WA",
        "outputId": "987d5daa-3b84-481a-b781-48ff4bc81659"
      },
      "execution_count": 18,
      "outputs": [
        {
          "output_type": "stream",
          "name": "stdout",
          "text": [
            "Milano\n",
            "4\n",
            "1\n"
          ]
        }
      ]
    },
    {
      "cell_type": "markdown",
      "source": [
        "#### Liste ####\n",
        "\n",
        "Le liste sono simili agli array degli altri linguaggi di programmazione, quindi si usano per memorizzare diversi elementi in una variabile, accessibili mediante indice o iteratori e, a differenza delle tuple, sono modificabili."
      ],
      "metadata": {
        "id": "fx6nIWvkhIy2"
      }
    },
    {
      "cell_type": "code",
      "source": [
        "a = [\"Milano\", \"Genova\", \"Bologna\"]\n",
        "    \n",
        "a.append(\"Genova\") # aggiunge \"Genova\" in fondo alla lista\n",
        "\n",
        "a += [\"Cagliari\", \"Bari\"] # aggiunge due stringhe in fondo alla lista\n",
        "\n",
        "print(a[0]) # restituisce \"Milano\"\n",
        "\n",
        "print(len(a)) # restituisce 6\n",
        "\n",
        "print(a.count(\"Genova\")) # restituisce il numero di occorrenze di \"Genova\" all'interno di a, quindi 2\n",
        "\n",
        "a.sort() # riordina gli elementi della lista\n",
        "\n",
        "print(a) # mostra a video [\"Bari\", \"Bologna\", \"Cagliari\", \"Genova\", \"Genova\", \"Milano\" ]\n",
        "\n",
        "a.remove(\"Genova\") # rimuove dalla lista a la prima occorrenza di \"Genova\" - messaggio di errore se non la trova\n",
        "\n",
        "print(a.pop(0)) # rimuove dalla lista a il primo elemento e lo restituisce\n",
        "\n",
        "a.reverse() # inverte l'ordine degli elementi della lista a\n",
        "\n",
        "print(\"Bologna\" in a) # restituisce True perché la stringa \"Bologna\" si trova nella lista a"
      ],
      "metadata": {
        "colab": {
          "base_uri": "https://localhost:8080/"
        },
        "id": "dwNXJdyHhJxj",
        "outputId": "d4f36756-7c92-4a68-f5f0-1a19e78937d6"
      },
      "execution_count": 19,
      "outputs": [
        {
          "output_type": "stream",
          "name": "stdout",
          "text": [
            "Milano\n",
            "6\n",
            "2\n",
            "['Bari', 'Bologna', 'Cagliari', 'Genova', 'Genova', 'Milano']\n",
            "Bari\n",
            "True\n"
          ]
        }
      ]
    },
    {
      "cell_type": "markdown",
      "source": [
        "#### Accedere agli elementi di liste e tuple ####\n",
        "\n",
        "Una delle potenzialità di Python sta nella semplicità con cui si può accedere a singoli o gruppi di elementi delle liste o delle tuple. A differenza di altri linguaggi che richiedono tra parentesi quadre l'indicazione di un unico indice di accesso, in Python possiamo definire anche degli intervalli di accesso:"
      ],
      "metadata": {
        "id": "IRcJQELthgmX"
      }
    },
    {
      "cell_type": "code",
      "source": [
        "v = [1,3,5,6,7,4,8]\n",
        "    \n",
        "print(v[0]) # restituisce 1\n",
        "\n",
        "print(v[4:]) # restituisce [7,4,8] (dall'elemento di indice 4 in poi)\n",
        "\n",
        "print(v[:3]) # restituisce [1,3,5] (dal primo elemento a quello di indice 3 incluso)\n",
        "\n",
        "print(v[-1]) # restituisce 8, l'ultimo elemento\n",
        "\n",
        "print(v[:-2]) # restituisce tutti gli elementi a parte gli ultimi due\n",
        "\n",
        "print(v[1:3]) # restituisce gli elementi di indice 1 e 2, quindi [3,5]\n",
        "\n",
        "print(v[::2]) # restituisce gli elementi di posizione zero e pari [1,5,7,8]\n",
        "\n",
        "print(v[1::2]) # restituisce gli elementi di posizione dispari [3,6,4]"
      ],
      "metadata": {
        "colab": {
          "base_uri": "https://localhost:8080/"
        },
        "id": "NHKU0TPfhkqM",
        "outputId": "38587a73-71a9-4fd4-a6ed-ed36b1f86a51"
      },
      "execution_count": 20,
      "outputs": [
        {
          "output_type": "stream",
          "name": "stdout",
          "text": [
            "1\n",
            "[7, 4, 8]\n",
            "[1, 3, 5]\n",
            "8\n",
            "[1, 3, 5, 6, 7]\n",
            "[3, 5]\n",
            "[1, 5, 7, 8]\n",
            "[3, 6, 4]\n"
          ]
        }
      ]
    },
    {
      "cell_type": "markdown",
      "source": [
        "#### Set ####\n",
        "\n",
        "I set sono degli elenchi di elementi non modificabili e non duplicati. Si rappresentano racchiudendo gli elementi tra parentesi graffe. \n",
        "\n",
        "Tenere presente che gli elementi sono disposti in ordine casuale quindi non si sa quale sequenza venga restituita in un ciclo di scansione o ad esempio eseguendo il metodo pop() che estrae un elemento a caso.\n",
        "\n",
        "Sono molto comodi da usare in certi contesti perché semplificano molte operazioni che con liste o tuple richiederebbero procedure apposite."
      ],
      "metadata": {
        "id": "vS_3ujAdiYHL"
      }
    },
    {
      "cell_type": "code",
      "source": [
        "s = {\"Milano\", \"Bologna\", \"Roma\", \"Bologna\"}\n",
        "# crea un set di 3 elementi. Il quarto non viene considerato perché già presente\n",
        "\n",
        "print(len(s)) # restituisce il numero di elementi del set s, quindi 3\n",
        "\n",
        "s.add(\"Napoli\") # aggiunge un elemento al set s\n",
        "\n",
        "s.update({\"Palermo\", \"Catania\"}) # aggiorna il set s aggiungendo gli elementi del set {\"Palermo\", \"Catania\"}\n",
        "\n",
        "s.remove(\"Catania\") # rimuove l'elemento \"Catania\" dal set s, errore se non lo trova\n",
        "\n",
        "s.pop() # rimuove un elemento dal set. Attenzione, l'elemento rimosso è random\n",
        "\n",
        "s = {\"Milano\", \"Bologna\", \"Roma\"}\n",
        "s2 = {\"Bologna\", \"Milano\", \"Catania\", \"Avellino\"}\n",
        "\n",
        "print(s.intersection(s2)) # restituisce un set composto dall'intersezione di s con s2 - {\"Bologna\",\"Milano\"}\n",
        "\n",
        "print(s.union(s2)) # restituisce un set composto dall'unione di s con s2 - {\"Bologna\", \"Milano\", \"Catania\", \"Avellino\", \"Roma\"}\n",
        "\n",
        "print(s.difference(s2)) # restitusce un set con gli elementi di s non presenti in s2 - {\"Roma\"}\n",
        "\n",
        "print(s.issubset(s2)) # restituisce True se s è un sottoinsieme di s2\n",
        "\n",
        "print(s.issuperset(s2)) # restituisce True se s2 è un sottoinsieme di s\n",
        "\n",
        "print(s.isdisjoint(s2)) # restituisce True se s e s2 non hanno elementi in comune (intersezione = {})   "
      ],
      "metadata": {
        "colab": {
          "base_uri": "https://localhost:8080/"
        },
        "id": "geut6sfvicDZ",
        "outputId": "73b57e25-10ab-4473-f490-908cad1e0457"
      },
      "execution_count": 22,
      "outputs": [
        {
          "output_type": "stream",
          "name": "stdout",
          "text": [
            "3\n",
            "{'Bologna', 'Milano'}\n",
            "{'Roma', 'Bologna', 'Milano', 'Catania', 'Avellino'}\n",
            "{'Roma'}\n",
            "False\n",
            "False\n",
            "False\n"
          ]
        }
      ]
    },
    {
      "cell_type": "markdown",
      "source": [
        "#### Dictionary ####\n",
        "\n",
        "Il tipo Dictionary permette di memorizzare in una variabile delle coppie di elementi chiave:valore, in modo simile quindi all'array associativo del PHP o alle map del C++.\n",
        "\n",
        "Le liste dictionary vanno dichiarate racchiudendo le coppie all'interno delle parentesi graffe e separando con il carattere \":\" la chiave dal valore."
      ],
      "metadata": {
        "id": "44arI4kujO2w"
      }
    },
    {
      "cell_type": "code",
      "source": [
        "abitanti = {\n",
        "    \"Milano\": 3500000,\n",
        "    \"Genova\": 850000,\n",
        "    \"Bologna\": 560000\n",
        "}\n",
        "\n",
        "print(abitanti['Bologna']) # restituisce 560000\n",
        "\n",
        "abitanti['Roma'] = 4000000 # aggiunge al dizionario una chiave \"Roma\" con valore 4000000\n",
        "\n",
        "print(abitanti.keys()) # restituisce una lista con tutte le chiavi memorizzate: [\"Bologna\", \"Genova\", \"Milano\", \"Roma\"]\n",
        "\n",
        "print(abitanti.values()) # restituisce una lista con tutti i valori memorizzati: [3500000, 850000, 560000, 4000000]\n",
        "\n",
        "print(abitanti.pop(\"Roma\")) # elimina la chiave \"Roma\" (e anche il suo valore) dal dictionary\n",
        "\n",
        "for k in abitanti.keys(): print(f\"{k}: {abitanti[k]}\") # stampa tutte le coppie del dictionary\n",
        "\n",
        "for k,v in abitanti.items(): print(f\"{k}: {v}\") # stampa tutte le coppie del dictionary"
      ],
      "metadata": {
        "colab": {
          "base_uri": "https://localhost:8080/"
        },
        "id": "1b1L8O9UjSfB",
        "outputId": "474289d7-5c74-4a25-cae4-92496d1dc997"
      },
      "execution_count": 24,
      "outputs": [
        {
          "output_type": "stream",
          "name": "stdout",
          "text": [
            "560000\n",
            "dict_keys(['Milano', 'Genova', 'Bologna', 'Roma'])\n",
            "dict_values([3500000, 850000, 560000, 4000000])\n",
            "4000000\n",
            "Milano: 3500000\n",
            "Genova: 850000\n",
            "Bologna: 560000\n",
            "Milano: 3500000\n",
            "Genova: 850000\n",
            "Bologna: 560000\n"
          ]
        }
      ]
    }
  ]
}