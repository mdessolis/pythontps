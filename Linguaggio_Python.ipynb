{
  "nbformat": 4,
  "nbformat_minor": 0,
  "metadata": {
    "colab": {
      "provenance": [],
      "authorship_tag": "ABX9TyNut2kSA9LN0YcjXv+SWnxw",
      "include_colab_link": true
    },
    "kernelspec": {
      "name": "python3",
      "display_name": "Python 3"
    },
    "language_info": {
      "name": "python"
    }
  },
  "cells": [
    {
      "cell_type": "markdown",
      "metadata": {
        "id": "view-in-github",
        "colab_type": "text"
      },
      "source": [
        "<a href=\"https://colab.research.google.com/github/mdessolis/pythontps/blob/main/Linguaggio_Python.ipynb\" target=\"_parent\"><img src=\"https://colab.research.google.com/assets/colab-badge.svg\" alt=\"Open In Colab\"/></a>"
      ]
    },
    {
      "cell_type": "markdown",
      "source": [
        "# Python for TPS\n",
        "\n",
        "## Sommario\n",
        "\n",
        "- [Introduzione](#Introduzione)\n",
        "- [Principi del linguaggio](#principi-del-linguaggio)\n",
        "   - [Commenti](#scrollTo=KHp5FTwBclgz)\n",
        "   - [Variabili](#scrollTo=H6sXX8xjdix0)\n",
        "      - [Variabili numeriche](#scrollTo=e1UhhC7tdktv)\n",
        "      - [Variabili stringa](#scrollTo=8cYnio2WfQqA)\n",
        "      - [Formatted string](#scrollTo=ng166xRRgPQ8)\n",
        "      - [Tuple](#scrollTo=dBQQXnUZgxF5)\n",
        "      - [Liste](#scrollTo=fx6nIWvkhIy2)\n",
        "      - [Accedere agli elementi di liste e tuple](#scrollTo=IRcJQELthgmX)\n",
        "      - [Set](#scrollTo=vS_3ujAdiYHL)\n",
        "      - [Dictionary](#scrollTo=44arI4kujO2w)\n",
        "   - [Controllo del flusso](#scrollTo=MZ-XdI9vvMGO)\n",
        "      - [if](#scrollTo=z7bEVgCuvOoE)\n",
        "      - [while](#scrollTo=3AyCGlWcvg8_)\n",
        "      - [for](#scrollTo=hpc0-NJQvmfr)\n",
        "      - [List comprehension](#scrollTo=o7CriiNuxM2-)\n",
        "      - [match](#scrollTo=I1BemXKtxjVp)\n",
        "   - [Operatori e funzioni di base](#scrollTo=bCNuZRDPxmUN)\n",
        "      - [Operatori di assegnamento](#scrollTo=JM8WdH_Kxp7s)\n",
        "      - [Operatori condizionali](#scrollTo=S6rBWa8Yxylz) \n",
        "      - [if inline](#scrollTo=BMRP6Ky4x2fK)\n",
        "      - [Assegnazioni parallele](#scrollTo=KF5vV38-x8am)\n",
        "   - [Funzioni](#scrollTo=E36TPhbyySjY)\n",
        "      - [Passaggio di argomenti per riferimento o per valore](#scrollTo=7QnjiFdFzeA6)\n",
        "      - [Built-in functions](#scrollTo=M9mdjoBX0XoL)\n",
        "   - [Classi e Oggetti](#scrollTo=Ra8rWVULuupn&line=22&uniqifier=1)\n"
      ],
      "metadata": {
        "id": "jC-Y9boZcSG2"
      }
    },
    {
      "cell_type": "markdown",
      "source": [
        "<a name=\"Introduzione\"></a>\n",
        "## Introduzione\n",
        "\n",
        "Il linguaggio Python si è imposto negli ultimi anni per una notevole flessibilità nelle istruzioni e per una sempre più crescente disponibilità di librerie di ausilio alle problematiche più disparate, dalla matematica all'AI alla analisi delle reti.\n",
        "\n",
        "In questa breve dispensa vedremo i fondamenti del linguaggio e diversi esempi di uso per lo studio di alcune tematiche legate all'insegnamento di **TPS** nelle classi quarte e quinte dell'articolazione **Informatica** dell'indirizzo **Informatica e Telecomunicazioni**."
      ],
      "metadata": {
        "id": "sDvmW0t2cdAd"
      }
    },
    {
      "cell_type": "markdown",
      "source": [
        "<a name=\"principi-del-linguaggio\"></a>\n",
        "## Principi del linguaggio\n",
        "\n",
        "A differenza degli altri linguaggi di programmazione Python non usa parentesi graffe o altri simboli per rappresentare correttamente i blocchi di istruzione, ma l'indentazione. E' quindi fondamentale scrivere in modo ordinato le istruzioni rispettando rigorosamente l'indentazione, per convenzione di solito impostata a quattro spazi.\n"
      ],
      "metadata": {
        "id": "w3b27D9pch5y"
      }
    },
    {
      "cell_type": "markdown",
      "source": [
        "### Commenti ###\n",
        "\n",
        "E' bene iniziare sempre ogni programma e ogni funzione con delle righe di commento. In Python per indicare i commenti multiriga si usano di solito tre virgolette o tre apici come delimitatori, tenendo però presente che gli stessi delimitatori possono essere usati anche nelle assegnazioni:\n"
      ],
      "metadata": {
        "id": "KHp5FTwBclgz"
      }
    },
    {
      "cell_type": "code",
      "execution_count": null,
      "metadata": {
        "colab": {
          "base_uri": "https://localhost:8080/",
          "height": 36
        },
        "id": "3ABIFagKcMka",
        "outputId": "a84e1930-fc45-4bf5-fe0d-4285cafb27e8"
      },
      "outputs": [
        {
          "output_type": "execute_result",
          "data": {
            "text/plain": [
              "'\\nQuesta è una stringa\\nsu più righe assegnata alla variabile a\\n'"
            ],
            "application/vnd.google.colaboratory.intrinsic+json": {
              "type": "string"
            }
          },
          "metadata": {},
          "execution_count": 5
        }
      ],
      "source": [
        "\"\"\"\n",
        "Questo è un commento in un programma\n",
        "\"\"\"\n",
        "\n",
        "a = \"\"\"\n",
        "Questa è una stringa\n",
        "su più righe assegnata alla variabile a\n",
        "\"\"\"\n",
        "\n",
        "a\n"
      ]
    },
    {
      "cell_type": "markdown",
      "source": [
        "I commenti su singola riga invece si scrivono preceduti dal carattere hash #"
      ],
      "metadata": {
        "id": "qgo-yi50dXaA"
      }
    },
    {
      "cell_type": "code",
      "source": [
        "\"\"\"\n",
        "Questo è un commento in un programma\n",
        "\"\"\"\n",
        "\n",
        "# Adesso assegniamo uno string literal alla variabile a\n",
        "a = \"\"\"\n",
        "Questa è una stringa\n",
        "su più righe assegnata alla variabile a\n",
        "\"\"\""
      ],
      "metadata": {
        "id": "wLA4K0_Cdb_N"
      },
      "execution_count": null,
      "outputs": []
    },
    {
      "cell_type": "markdown",
      "source": [
        "### Variabili\n"
      ],
      "metadata": {
        "id": "H6sXX8xjdix0"
      }
    },
    {
      "cell_type": "markdown",
      "source": [
        "#### Variabili numeriche\n",
        "\n",
        "Le variabili in Python non hanno necessità di dichiarazione preliminare del tipo, in quanto questo viene inferito dal valore assegnato. Quelle numeriche sono di tre tipi, **integer**, **float** e **complex**. E' da tenere presente che per le variabili intere non ci sono limiti al loro numero di cifre, mentre per quelle float dipende dall'implementazione ma in genere 2e306. Considerare anche che con assegnazioni successive una variabile può cambiare tipo e passare ad esempio da int a float. Esempi:"
      ],
      "metadata": {
        "id": "e1UhhC7tdktv"
      }
    },
    {
      "cell_type": "code",
      "source": [
        "a = 5\n",
        "type(a) # Mostra <class 'int'>\n",
        "\n",
        "a = a/2\n",
        "type(a) # Mostra <class 'float'>\n",
        "\n",
        "a = 87621836467784687346283746298374691823764978 # è sempre un intero\n",
        "\n",
        "a = 2e401\n",
        "a\n",
        "# inf se supera il limite di memorizzazione assegna il valore **inf**"
      ],
      "metadata": {
        "colab": {
          "base_uri": "https://localhost:8080/"
        },
        "id": "DEAsUez2dtpB",
        "outputId": "71093b68-ec7b-4c7b-a611-bffcfa48f3fe"
      },
      "execution_count": null,
      "outputs": [
        {
          "output_type": "execute_result",
          "data": {
            "text/plain": [
              "inf"
            ]
          },
          "metadata": {},
          "execution_count": 7
        }
      ]
    },
    {
      "cell_type": "markdown",
      "source": [
        "E' bene precisare che le variabili hanno un comportamento differente rispetto ad altri linguaggi. Le variabili int, float (e così anche string) sono immutabili ed una assegnazione di un valore ad una variabile consiste nella creazione di un oggetto di un certo tipo e associazione di un nome all'oggetto. Se però si assegna un nuovo valore alla variabile non viene modificato l'oggetto ma ne viene creato uno nuovo.\n",
        "\n",
        "Una prova di questo la possiamo avere usando la funzione id(variabile) che restituisce un intero identificatore univoco di una variabile:\n"
      ],
      "metadata": {
        "id": "DcSnBgdAep30"
      }
    },
    {
      "cell_type": "code",
      "source": [
        "a = 5\n",
        "print(id(a)) # mostra 140713457410984, ha creato un oggetto int e associato il nome a\n",
        "print(id(5)) # mostra 140713457410984\n",
        "\n",
        "a += 1\n",
        "print(id(a)) # mostra 140713457411016, è un oggetto int differente con associato il nome a\n",
        "print(id(6)) # mostra 140713457411016\n",
        "\n",
        "b = 6\n",
        "print(id(b)) # mostra 140713457411016"
      ],
      "metadata": {
        "colab": {
          "base_uri": "https://localhost:8080/"
        },
        "id": "8gMFolkuerHx",
        "outputId": "f9b7994c-0509-4f52-ca66-b4e43b56f7db"
      },
      "execution_count": null,
      "outputs": [
        {
          "output_type": "stream",
          "name": "stdout",
          "text": [
            "140305003354544\n",
            "140305003354544\n",
            "140305003354576\n",
            "140305003354576\n",
            "140305003354576\n"
          ]
        }
      ]
    },
    {
      "cell_type": "markdown",
      "source": [
        "#### Variabili stringa ####\n",
        "\n",
        "Le variabili stringa in Python sono immutabili, per cui si può assegnare un testo ad una variabile ma non si può modificarne parte ma solo riassegnare un nuovo testo."
      ],
      "metadata": {
        "id": "8cYnio2WfQqA"
      }
    },
    {
      "cell_type": "code",
      "source": [
        "a = \"Cuesta è una frase\"\n",
        "    \n",
        "\"\"\"\n",
        "L'istruzione seguente restituisce errore, non si può modificare una lettera della stringa.\n",
        "'str' object does not support item assignment\n",
        "\"\"\"\n",
        "a[0] = \"Q\" \n",
        "\n",
        "\"\"\"\n",
        "Questo è corretto perché riassegniamo l'intera stringa.\n",
        "a[1:] restituisce tutti i caratteri a partire dal secondo (v. liste)\n",
        "\"\"\"\n",
        "a = \"Q\" + a[1:] \n",
        "\n",
        "print(a)"
      ],
      "metadata": {
        "colab": {
          "base_uri": "https://localhost:8080/"
        },
        "id": "BtA4bYiCfUAy",
        "outputId": "6db6e776-f1da-460c-8e2e-423330da0513"
      },
      "execution_count": null,
      "outputs": [
        {
          "output_type": "stream",
          "name": "stdout",
          "text": [
            "Questa è una frase\n"
          ]
        }
      ]
    },
    {
      "cell_type": "markdown",
      "source": [
        "Le variabili stringa sono anche considerate da Python come degli array (di caratteri) per cui possono essere usate come tali e si può accedere ai singoli caratteri con l'indice tra parentesi quadre oppure si possono usare alcuni costrutti di python per estrarre informazioni:"
      ],
      "metadata": {
        "id": "FkJQuR9WfZvL"
      }
    },
    {
      "cell_type": "code",
      "source": [
        "a = \"La donzelletta vien dalla campagna\"\n",
        "    \n",
        "print(len(a))      # restituisce 34\n",
        "print(a[1])        # restituisce 'a'\n",
        "print('alla' in a) # restituisce True ('alla' si trova dentro la stringa a)\n",
        "print('Alla' in a) # restituisce False('Alla' non si trova nella stringa a, la ricerca è case sensitive)\n",
        "for c in a: pass   # esegue un ciclo for memorizzando in c una ad una tutte le lettere presenti in a"
      ],
      "metadata": {
        "colab": {
          "base_uri": "https://localhost:8080/"
        },
        "id": "PXwLbhVifalD",
        "outputId": "739ca631-c6c3-47a1-b7a0-071832865fda"
      },
      "execution_count": null,
      "outputs": [
        {
          "output_type": "stream",
          "name": "stdout",
          "text": [
            "34\n",
            "a\n",
            "True\n",
            "False\n"
          ]
        }
      ]
    },
    {
      "cell_type": "markdown",
      "source": [
        "#### Formatted string ####\n",
        "\n",
        "Le stringhe possono essere definite anche in modo formattato, cioè con dei codici che consentono l'inserimento di espressioni direttamente all'interno della stringa e del modo in cui devono essere mostrate.\n",
        "\n",
        "Python offre diversi metodi per la formattazione delle stringhe ma noi ci limiteremo alla modalità definita nelle ultime versioni, in quanto più sintetica da scrivere.\n",
        "\n",
        "Questa modalità consiste nel precedere le virgolette che racchiudono la stringa con la lettera \"f\" e inserire le espressioni all'interno di questa tra parentesi graffe:"
      ],
      "metadata": {
        "id": "ng166xRRgPQ8"
      }
    },
    {
      "cell_type": "code",
      "source": [
        "p = 15.3\n",
        "q = 12.78\n",
        "\n",
        "s = f\"{p} * {q} = {p*q}\" # memorizza in s la stringa '15.3 * 12.78 = 195.534'\n",
        "\n",
        "s = f\"{p:.1} * {q:.1} = {p*q:.1}\" # memorizza in s la stringa '2e+01 * 1e+01 = 2e+02'\n",
        "\n",
        "s = f\"{p:.1f} * {q:.1f} = {p*q:.1f}\" # memorizza in s la stringa '15.3 * 12.8 = 195.5'\n",
        "\n",
        "s = f\"{p:.3f} * {q:.3f} = {p*q:.3f}\" # memorizza in s la stringa '15.300 * 12.780 = 195.534'\n",
        "\n",
        "s = f\"{p:15.3f} * {q:15.3f} = {p*q:15.3f}\" \n",
        "# memorizza in s la stringa '         15.300 *          12.780 =         195.534'\n",
        "\n",
        "print(f\"{q:-^15}\")\n",
        "# crea una stringa di 15 caratteri con al centro il valore di q \n",
        "# e riempita non di spazi ma di \"-\": '-----12.78-----'\n",
        "\n",
        "print(f\"{q:^15.4f}\")\n",
        "# crea una stringa di 15 caratteri con al centro il valore di q \n",
        "# e spazi vuoti a destra e sinistra: '    12.7800    '\n",
        "\n",
        "print(f\"{q:15.4f}\")\n",
        "# crea una stringa di 15 caratteri con a destra il valore di q con 4 cifre decimali, \n",
        "# a sinistra spazi: '        12.7800'\n",
        "\n",
        "a = 1500000\n",
        "print(f\"{a:,}\") # inserisce il separatore delle migliaia e restituisce '1,500,000'\n",
        "\n",
        "x = 0.3532\n",
        "print(f\"{x:.2%}\") # restituisce x in formato percentuale: '35.32%'\n",
        "\n",
        "t = 4\n",
        "print(f\"{t:0>5}\") # riempie di zeri non significativi e restituisce '00004'\n",
        "\n",
        "print(f\"{t:0>5b}\") # riempie di zeri non significativi e restituisce in binario: '00100'"
      ],
      "metadata": {
        "colab": {
          "base_uri": "https://localhost:8080/"
        },
        "id": "ove8lNeigTzp",
        "outputId": "51eb624e-50c1-4338-94e5-6979d3ae2737"
      },
      "execution_count": null,
      "outputs": [
        {
          "output_type": "stream",
          "name": "stdout",
          "text": [
            "-----12.78-----\n",
            "    12.7800    \n",
            "        12.7800\n",
            "1,500,000\n",
            "35.32%\n",
            "00004\n",
            "00100\n"
          ]
        }
      ]
    },
    {
      "cell_type": "markdown",
      "source": [
        "#### Tuple ####\n",
        "\n",
        "Le tuple sono delle variabili contenenti liste non modificabili di elementi. Questo significa che se vogliamo modificare un elemento della tupla ne dobbiamo creare una nuova con l'elemento modificato. \n",
        "\n",
        "E' invece possibile unire due o più tuple tra loro.\n",
        "\n",
        "Per rappresentare una tupla si indicano gli elementi che la compongono racchiusi tra parentesi tonde."
      ],
      "metadata": {
        "id": "dBQQXnUZgxF5"
      }
    },
    {
      "cell_type": "code",
      "source": [
        "a = (\"Milano\", \"Torino\", \"Bologna\")\n",
        "    \n",
        "a += (\"Genova\",) # aggiunge Genova alla tupla a (attenzione alla virgola finale, \n",
        "                 # se non messa non la considera una tupla!)\n",
        "\n",
        "print(a[0]) # restituisce \"Milano\"\n",
        "\n",
        "print(len(a)) # restituisce 4\n",
        "\n",
        "a = (\"Napoli\", ) + a[1:] \n",
        "# ricrea la tupla a sostituendo il primo elemento con \"Napoli\" al posto di \"Milano\"\n",
        "# a[1:] restituisce tutti gli elementi a partire da quello di indice 1, quindi salta il primo\n",
        "\n",
        "print(a.count(\"Genova\")) # restituisce il numero di occorrenze di \"Genova\" all'interno della tupla a"
      ],
      "metadata": {
        "colab": {
          "base_uri": "https://localhost:8080/"
        },
        "id": "Hn3uuowIg1WA",
        "outputId": "987d5daa-3b84-481a-b781-48ff4bc81659"
      },
      "execution_count": null,
      "outputs": [
        {
          "output_type": "stream",
          "name": "stdout",
          "text": [
            "Milano\n",
            "4\n",
            "1\n"
          ]
        }
      ]
    },
    {
      "cell_type": "markdown",
      "source": [
        "#### Liste ####\n",
        "\n",
        "Le liste sono simili agli array degli altri linguaggi di programmazione, quindi si usano per memorizzare diversi elementi in una variabile, accessibili mediante indice o iteratori e, a differenza delle tuple, sono modificabili."
      ],
      "metadata": {
        "id": "fx6nIWvkhIy2"
      }
    },
    {
      "cell_type": "code",
      "source": [
        "a = [\"Milano\", \"Genova\", \"Bologna\"]\n",
        "    \n",
        "a.append(\"Genova\") # aggiunge \"Genova\" in fondo alla lista\n",
        "\n",
        "a += [\"Cagliari\", \"Bari\"] # aggiunge due stringhe in fondo alla lista\n",
        "\n",
        "print(a[0]) # restituisce \"Milano\"\n",
        "\n",
        "print(len(a)) # restituisce 6\n",
        "\n",
        "print(a.count(\"Genova\")) # restituisce il numero di occorrenze di \"Genova\" all'interno di a, quindi 2\n",
        "\n",
        "a.sort() # riordina gli elementi della lista\n",
        "\n",
        "print(a) # mostra a video [\"Bari\", \"Bologna\", \"Cagliari\", \"Genova\", \"Genova\", \"Milano\" ]\n",
        "\n",
        "a.remove(\"Genova\") # rimuove dalla lista a la prima occorrenza di \"Genova\" - messaggio di errore se non la trova\n",
        "\n",
        "print(a.pop(0)) # rimuove dalla lista a il primo elemento e lo restituisce\n",
        "\n",
        "a.reverse() # inverte l'ordine degli elementi della lista a\n",
        "\n",
        "print(\"Bologna\" in a) # restituisce True perché la stringa \"Bologna\" si trova nella lista a"
      ],
      "metadata": {
        "colab": {
          "base_uri": "https://localhost:8080/"
        },
        "id": "dwNXJdyHhJxj",
        "outputId": "d4f36756-7c92-4a68-f5f0-1a19e78937d6"
      },
      "execution_count": null,
      "outputs": [
        {
          "output_type": "stream",
          "name": "stdout",
          "text": [
            "Milano\n",
            "6\n",
            "2\n",
            "['Bari', 'Bologna', 'Cagliari', 'Genova', 'Genova', 'Milano']\n",
            "Bari\n",
            "True\n"
          ]
        }
      ]
    },
    {
      "cell_type": "markdown",
      "source": [
        "#### Accedere agli elementi di liste e tuple ####\n",
        "\n",
        "Una delle potenzialità di Python sta nella semplicità con cui si può accedere a singoli o gruppi di elementi delle liste o delle tuple. A differenza di altri linguaggi che richiedono tra parentesi quadre l'indicazione di un unico indice di accesso, in Python possiamo definire anche degli intervalli di accesso:"
      ],
      "metadata": {
        "id": "IRcJQELthgmX"
      }
    },
    {
      "cell_type": "code",
      "source": [
        "v = [1,3,5,6,7,4,8]\n",
        "    \n",
        "print(v[0]) # restituisce 1\n",
        "\n",
        "print(v[4:]) # restituisce [7,4,8] (dall'elemento di indice 4 in poi)\n",
        "\n",
        "print(v[:3]) # restituisce [1,3,5] (dal primo elemento a quello di indice 3 incluso)\n",
        "\n",
        "print(v[-1]) # restituisce 8, l'ultimo elemento\n",
        "\n",
        "print(v[:-2]) # restituisce tutti gli elementi a parte gli ultimi due\n",
        "\n",
        "print(v[1:3]) # restituisce gli elementi di indice 1 e 2, quindi [3,5]\n",
        "\n",
        "print(v[::2]) # restituisce gli elementi di posizione zero e pari [1,5,7,8]\n",
        "\n",
        "print(v[1::2]) # restituisce gli elementi di posizione dispari [3,6,4]"
      ],
      "metadata": {
        "colab": {
          "base_uri": "https://localhost:8080/"
        },
        "id": "NHKU0TPfhkqM",
        "outputId": "38587a73-71a9-4fd4-a6ed-ed36b1f86a51"
      },
      "execution_count": null,
      "outputs": [
        {
          "output_type": "stream",
          "name": "stdout",
          "text": [
            "1\n",
            "[7, 4, 8]\n",
            "[1, 3, 5]\n",
            "8\n",
            "[1, 3, 5, 6, 7]\n",
            "[3, 5]\n",
            "[1, 5, 7, 8]\n",
            "[3, 6, 4]\n"
          ]
        }
      ]
    },
    {
      "cell_type": "markdown",
      "source": [
        "#### Set ####\n",
        "\n",
        "I set sono degli elenchi di elementi non modificabili e non duplicati. Si rappresentano racchiudendo gli elementi tra parentesi graffe. \n",
        "\n",
        "Tenere presente che gli elementi sono disposti in ordine casuale quindi non si sa quale sequenza venga restituita in un ciclo di scansione o ad esempio eseguendo il metodo pop() che estrae un elemento a caso.\n",
        "\n",
        "Sono molto comodi da usare in certi contesti perché semplificano molte operazioni che con liste o tuple richiederebbero procedure apposite."
      ],
      "metadata": {
        "id": "vS_3ujAdiYHL"
      }
    },
    {
      "cell_type": "code",
      "source": [
        "s = {\"Milano\", \"Bologna\", \"Roma\", \"Bologna\"}\n",
        "# crea un set di 3 elementi. Il quarto non viene considerato perché già presente\n",
        "\n",
        "print(len(s)) # restituisce il numero di elementi del set s, quindi 3\n",
        "\n",
        "s.add(\"Napoli\") # aggiunge un elemento al set s\n",
        "\n",
        "s.update({\"Palermo\", \"Catania\"}) # aggiorna il set s aggiungendo gli elementi del set {\"Palermo\", \"Catania\"}\n",
        "\n",
        "s.remove(\"Catania\") # rimuove l'elemento \"Catania\" dal set s, errore se non lo trova\n",
        "\n",
        "s.pop() # rimuove un elemento dal set. Attenzione, l'elemento rimosso è random\n",
        "\n",
        "s = {\"Milano\", \"Bologna\", \"Roma\"}\n",
        "s2 = {\"Bologna\", \"Milano\", \"Catania\", \"Avellino\"}\n",
        "\n",
        "print(s.intersection(s2)) # restituisce un set composto dall'intersezione di s con s2 - {\"Bologna\",\"Milano\"}\n",
        "\n",
        "print(s.union(s2)) # restituisce un set composto dall'unione di s con s2 - {\"Bologna\", \"Milano\", \"Catania\", \"Avellino\", \"Roma\"}\n",
        "\n",
        "print(s.difference(s2)) # restitusce un set con gli elementi di s non presenti in s2 - {\"Roma\"}\n",
        "\n",
        "print(s.issubset(s2)) # restituisce True se s è un sottoinsieme di s2\n",
        "\n",
        "print(s.issuperset(s2)) # restituisce True se s2 è un sottoinsieme di s\n",
        "\n",
        "print(s.isdisjoint(s2)) # restituisce True se s e s2 non hanno elementi in comune (intersezione = {})   "
      ],
      "metadata": {
        "colab": {
          "base_uri": "https://localhost:8080/"
        },
        "id": "geut6sfvicDZ",
        "outputId": "73b57e25-10ab-4473-f490-908cad1e0457"
      },
      "execution_count": null,
      "outputs": [
        {
          "output_type": "stream",
          "name": "stdout",
          "text": [
            "3\n",
            "{'Bologna', 'Milano'}\n",
            "{'Roma', 'Bologna', 'Milano', 'Catania', 'Avellino'}\n",
            "{'Roma'}\n",
            "False\n",
            "False\n",
            "False\n"
          ]
        }
      ]
    },
    {
      "cell_type": "markdown",
      "source": [
        "#### Dictionary ####\n",
        "\n",
        "Il tipo Dictionary permette di memorizzare in una variabile delle coppie di elementi chiave:valore, in modo simile quindi all'array associativo del PHP o alle map del C++.\n",
        "\n",
        "Le liste dictionary vanno dichiarate racchiudendo le coppie all'interno delle parentesi graffe e separando con il carattere \":\" la chiave dal valore."
      ],
      "metadata": {
        "id": "44arI4kujO2w"
      }
    },
    {
      "cell_type": "code",
      "source": [
        "abitanti = {\n",
        "    \"Milano\": 3500000,\n",
        "    \"Genova\": 850000,\n",
        "    \"Bologna\": 560000\n",
        "}\n",
        "\n",
        "print(abitanti['Bologna']) # restituisce 560000\n",
        "\n",
        "abitanti['Roma'] = 4000000 # aggiunge al dizionario una chiave \"Roma\" con valore 4000000\n",
        "\n",
        "print(abitanti.keys()) # restituisce una lista con tutte le chiavi memorizzate: [\"Bologna\", \"Genova\", \"Milano\", \"Roma\"]\n",
        "\n",
        "print(abitanti.values()) # restituisce una lista con tutti i valori memorizzati: [3500000, 850000, 560000, 4000000]\n",
        "\n",
        "print(abitanti.pop(\"Roma\")) # elimina la chiave \"Roma\" (e anche il suo valore) dal dictionary\n",
        "\n",
        "for k in abitanti.keys(): print(f\"{k}: {abitanti[k]}\") # stampa tutte le coppie del dictionary\n",
        "\n",
        "for k,v in abitanti.items(): print(f\"{k}: {v}\") # stampa tutte le coppie del dictionary"
      ],
      "metadata": {
        "colab": {
          "base_uri": "https://localhost:8080/"
        },
        "id": "1b1L8O9UjSfB",
        "outputId": "474289d7-5c74-4a25-cae4-92496d1dc997"
      },
      "execution_count": null,
      "outputs": [
        {
          "output_type": "stream",
          "name": "stdout",
          "text": [
            "560000\n",
            "dict_keys(['Milano', 'Genova', 'Bologna', 'Roma'])\n",
            "dict_values([3500000, 850000, 560000, 4000000])\n",
            "4000000\n",
            "Milano: 3500000\n",
            "Genova: 850000\n",
            "Bologna: 560000\n",
            "Milano: 3500000\n",
            "Genova: 850000\n",
            "Bologna: 560000\n"
          ]
        }
      ]
    },
    {
      "cell_type": "markdown",
      "source": [
        "### Controllo del flusso ###"
      ],
      "metadata": {
        "id": "MZ-XdI9vvMGO"
      }
    },
    {
      "cell_type": "markdown",
      "source": [
        "#### if ####\n",
        "\n",
        "Il costrutto if in Python ha la seguente sintassi:\n",
        "    \n",
        "    if condizione:\n",
        "        # istruzioni per condizione vera\n",
        "    else:\n",
        "        # istruzioni per condizione falsa\n",
        "        \n",
        "    if condizione1:\n",
        "        # istruzioni per condizione1 vera\n",
        "    elif condizione2:\n",
        "        # istruzioni per condizione2 vera\n",
        "    else:\n",
        "        # istruzioni per condizione1 e condizione2 false\n",
        "        \n",
        "Notare che python riconosce le istruzioni da eseguire nei rami veri e falsi in base all'indentazione, quindi **rispettate rigorosamente l'indentazione**.\n",
        "\n",
        "A differenza dei linguaggi C-like (C, C++, Java, JS, etc.) non è necessario racchiudere le condizioni all'interno delle parentesi tonde."
      ],
      "metadata": {
        "id": "z7bEVgCuvOoE"
      }
    },
    {
      "cell_type": "markdown",
      "source": [
        "#### while ####\n",
        "\n",
        "Il costrutto while in Python ha la seguente sintassi:\n",
        "\n",
        "    while condizione:\n",
        "        # istruzioni da ripetere\n",
        "        \n",
        "Non è presente in Python il corrispondente del costrutto do..while\n"
      ],
      "metadata": {
        "id": "3AyCGlWcvg8_"
      }
    },
    {
      "cell_type": "markdown",
      "source": [
        "#### for ####\n",
        "\n",
        "Il ciclo for in Python è uno dei costrutti più usati per la sua grande flessibilità nell'operare con liste, array e tuple:\n",
        "\n",
        "    for variabile in intervallo:\n",
        "        # istruzioni del ciclo\n",
        "        "
      ],
      "metadata": {
        "id": "hpc0-NJQvmfr"
      }
    },
    {
      "cell_type": "code",
      "source": [
        "# Esempi\n",
        "    \n",
        "for i in range(0,10):\n",
        "    print(i, end=\",\")\n",
        "    # assegna alla variabile i i valori da 0 a 9\n",
        "\n",
        "print()    \n",
        "for i in range(-10,10,2):\n",
        "    print(i, end=\",\")\n",
        "    # assegna alla variabile i i valori da -10 a 9 a incrementi di 2\n",
        "\n",
        "print()    \n",
        "for c in \"Abracadabra\":\n",
        "    print(c, end=\",\")\n",
        "    # assegna alla variabile c tutte le lettere della stringa \"Abracadabra\"\n",
        "\n",
        "print()    \n",
        "for i in [4,3,8,2,27]:\n",
        "    print(i, end=\",\")\n",
        "    # assegna alla variabile i tutti gli elementi dell'array [4,3,8,2,27]\n",
        "    \n",
        "print()\n",
        "for i in ('alfa', 'beta', 'gamma'):\n",
        "    print(i, end=\",\")\n",
        "    # assegna alla variabile i tutti gli elementi della tupla ('alfa', 'beta', 'gamma')\n",
        "\n",
        "print()    \n",
        "for i in {'alfa', 'beta', 'gamma'}:\n",
        "    print(i, end=\",\")\n",
        "    # assegna alla variabile i tutti gli elementi del set {'alfa', 'beta', 'gamma'}\n",
        "    # attenzione: l'ordine con cui vengono assegnati gli elementi a i è casuale\n",
        "\n",
        "print()\n",
        "\"\"\"    \n",
        "for r in open(\"file\"):\n",
        "    # assegna alla variabile r tutte le righe lette dal file \"file\"\n",
        "\"\"\""
      ],
      "metadata": {
        "colab": {
          "base_uri": "https://localhost:8080/",
          "height": 144
        },
        "id": "RTbyidNlvswt",
        "outputId": "7d0e7f6d-486a-44b7-8c91-f47810b89ba8"
      },
      "execution_count": null,
      "outputs": [
        {
          "output_type": "stream",
          "name": "stdout",
          "text": [
            "0,1,2,3,4,5,6,7,8,9,\n",
            "-10,-8,-6,-4,-2,0,2,4,6,8,\n",
            "A,b,r,a,c,a,d,a,b,r,a,\n",
            "4,3,8,2,27,\n",
            "alfa,beta,gamma,\n",
            "gamma,alfa,beta,\n"
          ]
        },
        {
          "output_type": "execute_result",
          "data": {
            "text/plain": [
              "'    \\nfor r in open(\"file\"):\\n    # assegna alla variabile r tutte le righe lette dal file \"file\"\\n'"
            ],
            "application/vnd.google.colaboratory.intrinsic+json": {
              "type": "string"
            }
          },
          "metadata": {},
          "execution_count": 31
        }
      ]
    },
    {
      "cell_type": "markdown",
      "source": [
        "Un interessante sintassi del ciclo for prevede la presenza dell'else, che viene eseguito a meno che il ciclo non sia stato interrotto con break:\n"
      ],
      "metadata": {
        "id": "us3-OGhWw10w"
      }
    },
    {
      "cell_type": "code",
      "source": [
        "\"\"\"\n",
        "Nel seguente esempio cerchiamo il valore x all'interno dell'array v. \n",
        "Se arriviamo alla fine del ciclo senza aver trovato l'elemento allora mostriamo il messaggio\n",
        "(fare attenzione all'indentazione, else è allineato con for non con if, quindi è parte dell'istruzione for)\n",
        "\"\"\"\n",
        "v = [2, 4, 8, 9, 3]\n",
        "x = 5\n",
        "for i in v:\n",
        "    if i == x:\n",
        "        print(\"Ho trovato x\")\n",
        "        break;\n",
        "else:\n",
        "    print(\"Non ho trovato x\")"
      ],
      "metadata": {
        "colab": {
          "base_uri": "https://localhost:8080/"
        },
        "id": "m2Z3-U4Cw1dZ",
        "outputId": "7faa4529-74c0-4a58-c2dc-402236c6ed64"
      },
      "execution_count": null,
      "outputs": [
        {
          "output_type": "stream",
          "name": "stdout",
          "text": [
            "Non ho trovato x\n"
          ]
        }
      ]
    },
    {
      "cell_type": "markdown",
      "source": [
        "#### List comprehension ####\n",
        "\n",
        "Il ciclo for può essere usato anche per generare delle tuple, liste, set o dictionary in modo simile a come si definiscono gli insiemi in matematica.\n",
        "\n",
        "Ad esempio in matematica si può definire un insieme con la seguente definizione:\n",
        "\n",
        "![image](https://user-images.githubusercontent.com/100513972/229029916-2b1e8f81-b887-464b-a05c-ae649cb6239f.png)\n",
        "\n",
        "Questa definizione dice che l'insieme è composto da tutti i valori 2*x con x appartenente all'insieme dei naturali e che soddisfi il criterio x^2>3.\n",
        "\n",
        "In Python possiamo scrivere una definizione simile tutta con un'unica istruzione. \n",
        "\n",
        "Alcuni esempi:"
      ],
      "metadata": {
        "id": "o7CriiNuxM2-"
      }
    },
    {
      "cell_type": "code",
      "source": [
        "# insieme dei valori 2x con x appartenente all'intervallo 0-100 e x^2>3\n",
        "x = {2*x for x in range(100) if x*x>3}\n",
        "\n",
        "# Punti di coordinate di una funzione f(x) nell'intervallo [a,b] con passo p\n",
        "# per generare l'intervallo non usiamo range ma numpy.arange perché range lavora solo con interi\n",
        "import numpy \n",
        "\n",
        "def f(x):\n",
        "    return x*x\n",
        "\n",
        "a = -5\n",
        "b = 5\n",
        "p = 0.5\n",
        "# la seguente istruzione genera una lista con tutte le coppie (x,f(x)) per ogni x\n",
        "# appartenente all'intervallo [a,b] con intervalli di p tra le varie x\n",
        "t = [(x,f(x)) for x in numpy.arange(a,b+.1,p)]\n",
        "print(t)\n",
        "# risultato:\n",
        "# [(-5.0, 25.0), (-4.5, 20.25), (-4.0, 16.0), (-3.5, 12.25), (-3.0, 9.0),\n",
        "#  (-2.5, 6.25), (-2.0, 4.0), (-1.5, 2.25), (-1.0, 1.0), (-0.5, 0.25),\n",
        "#  (0.0, 0.0), (0.5, 0.25), (1.0, 1.0), (1.5, 2.25), (2.0, 4.0), \n",
        "#  (2.5, 6.25), (3.0, 9.0), (3.5, 12.25), (4.0, 16.0), (4.5, 20.25)]\n",
        "\n",
        "s = \"abracadabra\"\n",
        "\n",
        "# elenco delle lettere di s che siano minori di 'd'\n",
        "tupla1 = (c for c in s if c < 'd') # crea la tupla ('a','b','a','c','a','a','b','a')\n",
        "lista1 = [c for c in s if c < 'd'] # crea la lista ['a', 'b', 'a', 'c', 'a', 'a', 'b', 'a']\n",
        "set1   = {c for c in s if c < 'd'} # crea il set   {'b', 'a', 'c'}\n",
        "dict1  = {c:ord(c) for c in s if c<'d'} # crea il dictionary {'a': 97, 'b': 98, 'c': 99}"
      ],
      "metadata": {
        "colab": {
          "base_uri": "https://localhost:8080/"
        },
        "id": "FHfOhB7BxSrP",
        "outputId": "f99e0930-1dec-4599-de8c-fb3d362a7927"
      },
      "execution_count": null,
      "outputs": [
        {
          "output_type": "stream",
          "name": "stdout",
          "text": [
            "[(-5.0, 25.0), (-4.5, 20.25), (-4.0, 16.0), (-3.5, 12.25), (-3.0, 9.0), (-2.5, 6.25), (-2.0, 4.0), (-1.5, 2.25), (-1.0, 1.0), (-0.5, 0.25), (0.0, 0.0), (0.5, 0.25), (1.0, 1.0), (1.5, 2.25), (2.0, 4.0), (2.5, 6.25), (3.0, 9.0), (3.5, 12.25), (4.0, 16.0), (4.5, 20.25), (5.0, 25.0)]\n"
          ]
        }
      ]
    },
    {
      "cell_type": "markdown",
      "source": [
        "#### match ####\n",
        "\n",
        "Il costrutto match è l'equivalente Python dello switch dei linguaggi C-like, però con alcune flessibilità in più nei case:\n",
        "\n",
        "    match variabile:\n",
        "        case valore1:\n",
        "            # istruzioni per variabile==valore1\n",
        "            \n",
        "        case valore2:\n",
        "            # istruzioni per variabile==valore2\n",
        "            \n",
        "        case _:\n",
        "            # istruzioni da eseguire se nessun case precedente va a buon fine\n",
        "            "
      ],
      "metadata": {
        "id": "I1BemXKtxjVp"
      }
    },
    {
      "cell_type": "markdown",
      "source": [
        "### Operatori e funzioni di base ###\n"
      ],
      "metadata": {
        "id": "bCNuZRDPxmUN"
      }
    },
    {
      "cell_type": "markdown",
      "source": [
        "#### Operatori di assegnamento ####\n",
        "\n",
        "    +   # somma\n",
        "    -   # sottrazione\n",
        "    *   # moltiplicazione\n",
        "    /   # divisione in virgola mobile\n",
        "    //  # divisione intera\n",
        "    %   # resto della divisione tra interi\n",
        "    **  # elevamento a potenza\n",
        "    \n",
        "    +=  # incremento\n",
        "    -=  # diminuzione\n",
        "    /=  # partizione (divisione per)\n",
        "    *=  # moltiplicazione per\n",
        "    \n",
        "    A differenza dei linguaggi C-like, non sono presenti gli operatori ++ e --\n",
        "    "
      ],
      "metadata": {
        "id": "JM8WdH_Kxp7s"
      }
    },
    {
      "cell_type": "markdown",
      "source": [
        "#### Operatori condizionali ####\n",
        "\n",
        "    >   # maggiore di\n",
        "    <   # minore di\n",
        "    ==  # uguale a \n",
        "    >=  # maggiore o uguale a\n",
        "    <=  # minore o uguale a\n",
        "    !=  # diverso da\n",
        "    \n",
        "    and # congiunzione logica\n",
        "    or  # disgiungione logica\n",
        "    not # negazione logica\n",
        "    \n",
        "    in      # verifica se un elemento (o una sequenza) è presente dentro un altro elemento\n",
        "    not in  # verifica se un elemento (o una sequenza) non è presente dentro un altro elemento\n",
        "    \n",
        "    Esempio:\n",
        "        'alla' in \"Balla coi lupi\" \n",
        "        # restituisce True perché la stringa 'alla' si trova dentro la stringa \"Balla coi lupi\"\n",
        "        \n",
        "Ci sono alcune differenze tra Python e gli altri linguaggi riguardo la composizione delle condizioni. Ad esempio sono corrette le seguenti istruzioni:\n",
        "\n",
        "    a < b < c\n",
        "        # restituisce True se b è compreso tra a e c\n",
        "        \n",
        "    4 and 5\n",
        "        # restituisce 5 (ultimo elemento vero della condizione)\n",
        "        \n",
        "    4 or 5\n",
        "        # restituisce 4 (primo elemento vero sufficiente a soddisfare tutta la condizione)\n",
        "        \n",
        "    3 and 4 and False\n",
        "        # restituisce False perché tutta la condizione è falsa e l'ultimo risultato è False\n",
        "       \n",
        "    4 and 7 and a==a\n",
        "        # restituisce True perché tutta la condizione è vera e l'ultimo risultato è True\n",
        "        \n",
        "    a==a and 4 and 7\n",
        "        # restituisce 7 perché tutta la condizione è vera e l'ultimo risultato è 7"
      ],
      "metadata": {
        "id": "S6rBWa8Yxylz"
      }
    },
    {
      "cell_type": "markdown",
      "source": [
        "#### if inline ####\n",
        "\n",
        "In python c'è anche l'operatore ternario if che può essere usato per eseguire delle assegnazioni condizionali:\n",
        "\n",
        "    a = 5\n",
        "    b = 7\n",
        "    \n",
        "    c = a if a>b else b # memorizza in c il massimo tra a e b\n",
        "    \n",
        "    print(\"a\" if a>b else \"b\") # stampa \"a\" se a>b altrimenti stampa \"b\"\n",
        "    "
      ],
      "metadata": {
        "id": "BMRP6Ky4x2fK"
      }
    },
    {
      "cell_type": "markdown",
      "source": [
        "#### Assegnazioni parallele ####\n",
        "\n",
        "Un'interessante opportunità offerta da Python riguarda la possibilità di definire delle assegnazioni da eseguire \"in parallelo\" evitando di dover usare delle variabili intermedie:"
      ],
      "metadata": {
        "id": "KF5vV38-x8am"
      }
    },
    {
      "cell_type": "code",
      "source": [
        "a = 4\n",
        "b = 5\n",
        "\n",
        "[a,b] = [b,a] # Scambia il contenuto delle variabili a e b\n",
        "(a,b) = (b,a) # idem\n",
        "a,b = b,a     # idem\n",
        "\n",
        "# Calcolo del massimo comun divisore tra a e b\n",
        "def MCD(a,b): \n",
        "    while b != 0:\n",
        "        a, b = b, a % b # assegna alla variabile a il valore di b e a b il valore del resto tra a e b\n",
        "    return a\n",
        "\n",
        "print(MCD(24,16))"
      ],
      "metadata": {
        "colab": {
          "base_uri": "https://localhost:8080/"
        },
        "id": "LjW-Bgiix_CV",
        "outputId": "c78726d1-6127-471d-dc96-a107b82a991c"
      },
      "execution_count": null,
      "outputs": [
        {
          "output_type": "stream",
          "name": "stdout",
          "text": [
            "8\n"
          ]
        }
      ]
    },
    {
      "cell_type": "markdown",
      "source": [
        "## Funzioni ##\n",
        "\n",
        "Le funzioni in Python si descrivono con l'operatore def:\n",
        "\n",
        "    def massimo(a,b):\n",
        "      return a if a>b else b\n",
        "\n",
        "    def print_nominativo(nome, cognome):\n",
        "      print(nome, ' ', cognome)\n",
        "\n",
        "    def niente():\n",
        "      pass # l'operatore pass è obbligatorio quando una funzione è vuota\n",
        "      \n",
        "Gli argomenti della funzione possono essere anche impostati con valori di default e possono anche essere richiamati per nome, evitando di dover rispettare sempre il loro ordine posizionale:\n"
      ],
      "metadata": {
        "id": "E36TPhbyySjY"
      }
    },
    {
      "cell_type": "code",
      "source": [
        "def intervallo_chiuso(a=0, b=10):\n",
        "    return range(a,b+1)\n",
        "\n",
        "print(intervallo_chiuso()) # restituisce range(0,11)\n",
        "\n",
        "print(intervallo_chiuso(5)) # restituisce range(5,11)\n",
        "\n",
        "print(intervallo_chiuso(b=6)) # restituisce range(0,7)"
      ],
      "metadata": {
        "colab": {
          "base_uri": "https://localhost:8080/"
        },
        "id": "WoF8aXtTyY2P",
        "outputId": "d001bedb-9aa4-45fe-d6b7-aae45278bcd5"
      },
      "execution_count": null,
      "outputs": [
        {
          "output_type": "stream",
          "name": "stdout",
          "text": [
            "range(0, 11)\n",
            "range(5, 11)\n",
            "range(0, 7)\n"
          ]
        }
      ]
    },
    {
      "cell_type": "markdown",
      "source": [
        "E' anche possibile definire funzioni con un numero arbitrario di parametri, inserendo un asterisco prima del nome del parametro. Questo sarà interpretato come una tupla e quindi i valori potranno essere letti con un normale ciclo:\n"
      ],
      "metadata": {
        "id": "k615vBRmymwY"
      }
    },
    {
      "cell_type": "code",
      "source": [
        "def somma_quadrati(*numeri):\n",
        "    somma = 0\n",
        "    for x in numeri:\n",
        "        somma += x*x\n",
        "    return somma\n",
        "\n",
        "print(somma_quadrati(1,2,3)) # restituisce 14 = 1^2 + 2^2 + 3^3\n"
      ],
      "metadata": {
        "colab": {
          "base_uri": "https://localhost:8080/"
        },
        "id": "_T4zU4NGypEb",
        "outputId": "600aa284-07b6-4e55-c896-df1b453dc95f"
      },
      "execution_count": null,
      "outputs": [
        {
          "output_type": "stream",
          "name": "stdout",
          "text": [
            "14\n"
          ]
        }
      ]
    },
    {
      "cell_type": "markdown",
      "source": [
        "Le funzioni in Python non accettano l'overload, quindi non è possibile definire più funzioni con lo stesso nome ma differenti tipi o numero di parametri.\n",
        "\n",
        "Se in una funzione abbiamo necessità di accedere ad una variabile esterna, bisogna dichiararla esplicitamente con l'operatore global:\n"
      ],
      "metadata": {
        "id": "Tv1UMV9jy-8o"
      }
    },
    {
      "cell_type": "code",
      "source": [
        "count_primes = 0\n",
        "\n",
        "def is_prime(x):\n",
        "    \"\"\" restituisce True se x è primo, False altrimenti \"\"\"\n",
        "    if x<2: return False\n",
        "    i = 2\n",
        "    while i*i <= x:\n",
        "        if x % i == 0: return False\n",
        "        i += 1\n",
        "    return True\n",
        "\n",
        "def find_primes(interval):\n",
        "    global count_primes\n",
        "    for n in interval:\n",
        "        if is_prime(n):\n",
        "            print(n)\n",
        "        count_primes += 1\n",
        "        \n",
        "find_primes(range(10)) # stampa 2 3 5 7 e memorizza in count_primes il valore 4\n",
        "find_primes(range(11,20)) # stampa 11 13 17 19 e memorizza in count_primes il valore 8\n",
        "\n",
        "\"\"\"\n",
        "tenere presente che in questo esempio la stessa operazione si potrebbe risolvere senza accedere \n",
        "ad una variabile globale ma facendo restituire il conteggio alla funzione.\n",
        "Ci sono però casi, come nella gestione multi-thread, in cui è più comodo lavorare su variabili globali\n",
        "\"\"\"\n",
        "count_primes = 0\n",
        "\n",
        "def find_primes(interval):\n",
        "    count = 0\n",
        "    for n in interval:\n",
        "        if is_prime(n):\n",
        "            print(n)\n",
        "            count += 1\n",
        "    return count\n",
        "    \n",
        "count_primes += find_primes(range(10)) # stampa 2 3 5 7 e memorizza in count_primes il valore 4\n",
        "count_primes += find_primes(range(11,20)) # stampa 11 13 17 19 e memorizza in count_primes il valore 8"
      ],
      "metadata": {
        "colab": {
          "base_uri": "https://localhost:8080/"
        },
        "id": "8Q0fsbU-zDH7",
        "outputId": "68629c24-73e7-45ea-92e6-6ba323f1453a"
      },
      "execution_count": null,
      "outputs": [
        {
          "output_type": "stream",
          "name": "stdout",
          "text": [
            "2\n",
            "3\n",
            "5\n",
            "7\n",
            "11\n",
            "13\n",
            "17\n",
            "19\n",
            "2\n",
            "3\n",
            "5\n",
            "7\n",
            "11\n",
            "13\n",
            "17\n",
            "19\n"
          ]
        }
      ]
    },
    {
      "cell_type": "markdown",
      "source": [
        "### Passaggio di argomenti per riferimento o per valore ###\n",
        "\n",
        "In Python gli argomenti di una funzione sono passati automaticamente per riferimento se sono di tipo mutabile (quindi liste, dictionary, set o classi), mentre se sono di tipo immutabile non possono essere passati per valore in quanto una loro modifica creerebbe dei nuovi oggetti (vedi il paragrafo sulle variabili numeriche).\n",
        "\n",
        "Se si ha necessità di accedere per riferimento ad una variabile immutabile una possibile strategia potrebbe essere quella di inserirla all'interno di una variabile mutabile (ad esempio una lista) in modo che possa essere modificata senza problemi.\n"
      ],
      "metadata": {
        "id": "7QnjiFdFzeA6"
      }
    },
    {
      "cell_type": "code",
      "source": [
        "\"\"\"\n",
        "In questo esempio definiamo una funzione con un parametro v che, essendo una lista, sarà passato\n",
        "per riferimento e la modifica dei suoi elementi si ripercuoterà anche alla variabile\n",
        "dichiarata esternamente alla funzione\n",
        "\"\"\"\n",
        "v = [5, 32, 27]\n",
        "\n",
        "def swap_first_last(v):\n",
        "    if len(v) > 0:\n",
        "        v[0], v[-1] = v[-1], v[0] # scambia primo e ultimo elemento della lista\n",
        "\n",
        "swap_first_last(v)        \n",
        "print(v) # mostrerà [27, 32, 5]\n",
        "\n",
        "\"\"\"\n",
        "In questo esempio la funzione riceve un parametro numerico che vogliamo\n",
        "poter modificare. Abbiamo diversi modi per farlo:\n",
        "\"\"\"\n",
        "# 1° metodo: sfruttare il return\n",
        "def increment(x, limit):\n",
        "    return (x+1) % limit\n",
        "    \n",
        "x = 5\n",
        "x = increment(x, 10)\n",
        "print(x) # mostrerà 6\n",
        "\n",
        "# 2* metodo: passare i parametri all'interno di una lista\n",
        "def increment(param): \n",
        "    param[0] = (param[0]+1) % param[1]\n",
        "\n",
        "x = [5, 10] # 5 è il numero da incrementare, 10 è il limite\n",
        "increment(x)\n",
        "print(x) # mostrerà [6, 10]"
      ],
      "metadata": {
        "colab": {
          "base_uri": "https://localhost:8080/"
        },
        "id": "xLWNk5Alzh1l",
        "outputId": "f7285f14-f0a4-4187-ce58-54c7a85511db"
      },
      "execution_count": null,
      "outputs": [
        {
          "output_type": "stream",
          "name": "stdout",
          "text": [
            "[27, 32, 5]\n",
            "6\n",
            "[6, 10]\n"
          ]
        }
      ]
    },
    {
      "cell_type": "markdown",
      "source": [
        "### Built-in Functions ###\n",
        "\n",
        "Python mette a disposizione alcune funzioni di base che possono essere applicate a differenti tipi di dati e utilissime in diversi contesti di programmazione.\n",
        "\n",
        "Di seguito l'elenco completo e una spiegazione delle più importanti:\n",
        "\n",
        "<img width=\"436\" alt=\"image\" src=\"https://user-images.githubusercontent.com/100513972/229367992-2f7e10b9-e3e4-4100-b911-c592ca81510f.png\">\n"
      ],
      "metadata": {
        "id": "M9mdjoBX0XoL"
      }
    },
    {
      "cell_type": "markdown",
      "source": [
        "#### abs ####\n",
        "\n",
        "Restituisce il valore assoluto di un numero."
      ],
      "metadata": {
        "id": "rnJtS4dW0dgx"
      }
    },
    {
      "cell_type": "code",
      "source": [
        "x = 4\n",
        "y = 5\n",
        "z = abs(x-y) # restituisce 1"
      ],
      "metadata": {
        "id": "hrVhoioW0fT4"
      },
      "execution_count": null,
      "outputs": []
    },
    {
      "cell_type": "markdown",
      "source": [
        "#### all(iterable) e any(iterable) ####\n",
        "\n",
        "all(iterable) restituisce True se tutti gli elementi dell'argomento sono True.\n",
        "any(iterable) restituisce True se almeno un elemento dell'argomento è True.\n"
      ],
      "metadata": {
        "id": "VGZBDCOz0lj9"
      }
    },
    {
      "cell_type": "code",
      "source": [
        "\"\"\"\n",
        "is_prime restituisce True se x è primo, False altrimenti\n",
        "\"\"\"\n",
        "def is_prime(x):\n",
        "    if x<2:\n",
        "        return False\n",
        "    i=2\n",
        "    while i*i<=x:\n",
        "        if x%i==0:\n",
        "            return False\n",
        "        i += 1\n",
        "    return True\n",
        "\n",
        "# Creiamo una lista con un valore bool per indicare se ciascun indice è primo o meno\n",
        "primi = list(is_prime(x) for x in range(100))\n",
        "\n",
        "print(all(primi)) # restituisce False - non sono tutti primi\n",
        "print(any(primi)) # restituisce True - c'è almeno un indice primo"
      ],
      "metadata": {
        "colab": {
          "base_uri": "https://localhost:8080/"
        },
        "id": "xRht9tP50mzI",
        "outputId": "75e30495-17ed-4017-950e-783d84fd7591"
      },
      "execution_count": null,
      "outputs": [
        {
          "output_type": "stream",
          "name": "stdout",
          "text": [
            "False\n",
            "True\n"
          ]
        }
      ]
    },
    {
      "cell_type": "markdown",
      "source": [
        "#### bin(x), hex(x), oct(x) ####\n",
        " \n",
        "bin(x) restituisce una stringa con il valore di x in formato binario\n",
        "hex(x) restituisce una stringa con il valore di x in formato esadecimale\n",
        "oct(x) restituisce una stringa con il valore di x in formato ottale\n",
        " "
      ],
      "metadata": {
        "id": "mn_uFjvl02-c"
      }
    },
    {
      "cell_type": "markdown",
      "source": [],
      "metadata": {
        "id": "cGi0O81MFYcr"
      }
    },
    {
      "cell_type": "code",
      "source": [
        "print(bin(7))   # restituisce '0b111'\n",
        "print(hex(32))  # restituisce '0x20'"
      ],
      "metadata": {
        "colab": {
          "base_uri": "https://localhost:8080/"
        },
        "id": "lGWkV6T105tj",
        "outputId": "9548cc87-fbb6-42b5-abae-0bdac02ba2d2"
      },
      "execution_count": null,
      "outputs": [
        {
          "output_type": "stream",
          "name": "stdout",
          "text": [
            "0b111\n",
            "0x20\n"
          ]
        }
      ]
    },
    {
      "cell_type": "markdown",
      "source": [
        "#### chr(x), ord(x) ####\n",
        " \n",
        "chr(x) restituisce la stringa corrispondente al codice Unicode x\n",
        "\n",
        "ord(x) restituisce il codice Unicode della stringa x "
      ],
      "metadata": {
        "id": "zj3EArtZ1Jy9"
      }
    },
    {
      "cell_type": "code",
      "source": [
        "print(chr(65))   # restituisce 'A'\n",
        "print(chr(8364)) # restituisce '€'\n",
        "    \n",
        "print(ord(\"A\"))  # restituisce 65\n",
        "print(ord(\"€\"))  # restituisce 8364"
      ],
      "metadata": {
        "id": "MI-X6pOK1Pj6"
      },
      "execution_count": null,
      "outputs": []
    },
    {
      "cell_type": "markdown",
      "source": [
        "#### dir(), dir(x) ####\n",
        "\n",
        "Restituisce un elenco dei nomi del corrente namespace, quindi l'elenco delle variabili e funzioni disponibili.\n",
        "Se usato con un parametro, restituisce l'elenco degli attributi dell'oggetto parametro."
      ],
      "metadata": {
        "id": "443qt-E21KEJ"
      }
    },
    {
      "cell_type": "code",
      "source": [
        "s = \"testo\"\n",
        "    \n",
        "dir(s)\n"
      ],
      "metadata": {
        "colab": {
          "base_uri": "https://localhost:8080/"
        },
        "id": "QSkpfajkFdjo",
        "outputId": "3f45e9ac-229a-4092-c39a-8da202b6a7d9"
      },
      "execution_count": null,
      "outputs": [
        {
          "output_type": "execute_result",
          "data": {
            "text/plain": [
              "['__add__',\n",
              " '__class__',\n",
              " '__contains__',\n",
              " '__delattr__',\n",
              " '__dir__',\n",
              " '__doc__',\n",
              " '__eq__',\n",
              " '__format__',\n",
              " '__ge__',\n",
              " '__getattribute__',\n",
              " '__getitem__',\n",
              " '__getnewargs__',\n",
              " '__gt__',\n",
              " '__hash__',\n",
              " '__init__',\n",
              " '__init_subclass__',\n",
              " '__iter__',\n",
              " '__le__',\n",
              " '__len__',\n",
              " '__lt__',\n",
              " '__mod__',\n",
              " '__mul__',\n",
              " '__ne__',\n",
              " '__new__',\n",
              " '__reduce__',\n",
              " '__reduce_ex__',\n",
              " '__repr__',\n",
              " '__rmod__',\n",
              " '__rmul__',\n",
              " '__setattr__',\n",
              " '__sizeof__',\n",
              " '__str__',\n",
              " '__subclasshook__',\n",
              " 'capitalize',\n",
              " 'casefold',\n",
              " 'center',\n",
              " 'count',\n",
              " 'encode',\n",
              " 'endswith',\n",
              " 'expandtabs',\n",
              " 'find',\n",
              " 'format',\n",
              " 'format_map',\n",
              " 'index',\n",
              " 'isalnum',\n",
              " 'isalpha',\n",
              " 'isascii',\n",
              " 'isdecimal',\n",
              " 'isdigit',\n",
              " 'isidentifier',\n",
              " 'islower',\n",
              " 'isnumeric',\n",
              " 'isprintable',\n",
              " 'isspace',\n",
              " 'istitle',\n",
              " 'isupper',\n",
              " 'join',\n",
              " 'ljust',\n",
              " 'lower',\n",
              " 'lstrip',\n",
              " 'maketrans',\n",
              " 'partition',\n",
              " 'removeprefix',\n",
              " 'removesuffix',\n",
              " 'replace',\n",
              " 'rfind',\n",
              " 'rindex',\n",
              " 'rjust',\n",
              " 'rpartition',\n",
              " 'rsplit',\n",
              " 'rstrip',\n",
              " 'split',\n",
              " 'splitlines',\n",
              " 'startswith',\n",
              " 'strip',\n",
              " 'swapcase',\n",
              " 'title',\n",
              " 'translate',\n",
              " 'upper',\n",
              " 'zfill']"
            ]
          },
          "metadata": {},
          "execution_count": 1
        }
      ]
    },
    {
      "cell_type": "markdown",
      "source": [
        "#### enumerate(iterable) ####\n",
        "\n",
        "enumerate(x) restituisce un oggetto di tipo enumerate partendo dalla sequenza x. Si usa generalmente per generare i cicli di lettura su collection.\n"
      ],
      "metadata": {
        "id": "buR3So_-Fs-5"
      }
    },
    {
      "cell_type": "code",
      "source": [
        "abitanti = {\n",
        "    \"Milano\": 2000000,\n",
        "    \"Genova\": 700000,\n",
        "    \"Napoli\": 1200000\n",
        "}\n",
        "\n",
        "abitanti # mostra {'Milano': 2000000, 'Genova': 700000, 'Napoli': 1200000}\n",
        "\n",
        "list(abitanti) # mostra ['Milano', 'Genova', 'Napoli']\n",
        "\n",
        "list(enumerate(abitanti)) # mostra [(0, 'Milano'), (1, 'Genova'), (2, 'Napoli')]"
      ],
      "metadata": {
        "colab": {
          "base_uri": "https://localhost:8080/"
        },
        "id": "BsnRZ7DOF7yZ",
        "outputId": "be8982dd-ce96-477d-9739-a1a3c59b4272"
      },
      "execution_count": null,
      "outputs": [
        {
          "output_type": "execute_result",
          "data": {
            "text/plain": [
              "[(0, 'Milano'), (1, 'Genova'), (2, 'Napoli')]"
            ]
          },
          "metadata": {},
          "execution_count": 2
        }
      ]
    },
    {
      "cell_type": "markdown",
      "source": [
        "#### filter(funzione, iterable) ####\n",
        "\n",
        "filter(funzione, iterable) restituisce un nuovo iterable contenente gli elementi di quello passato come argomento che soddisfano la funzione booleana passata come primo argomento.\n",
        "\n",
        "E' una funzione molto usata perché consente di costruire delle istruzioni più compatte senza dover ricorrrere a cicli for o while."
      ],
      "metadata": {
        "id": "4oGrEfa9GFq9"
      }
    },
    {
      "cell_type": "code",
      "source": [
        "def pari(x):\n",
        "    return abs(x)>1 and x%2 == 0\n",
        "    \n",
        "list(filter(pari, range(100)) # genera una lista con i numeri pari minori di 100"
      ],
      "metadata": {
        "id": "zQNDOpyyGNJZ"
      },
      "execution_count": null,
      "outputs": []
    },
    {
      "cell_type": "markdown",
      "source": [
        "Nell'esempio appena visto la funzione range genera 100 numeri, filter applica a ciascuno la funzione pari e genera una lista con i soli valori in cui la funzione restituisce True. E' l'equivalente delle seguenti istruzioni:\n"
      ],
      "metadata": {
        "id": "sI3HoK_uGT5_"
      }
    },
    {
      "cell_type": "code",
      "source": [
        "elenco =[]\n",
        "for i in range(100):\n",
        "    if pari(i):\n",
        "        elenco.append(i)        \n"
      ],
      "metadata": {
        "id": "s_qEybJSGaf4"
      },
      "execution_count": null,
      "outputs": []
    },
    {
      "cell_type": "markdown",
      "source": [
        "#### id(x) e type(x) ####\n",
        " \n",
        "id(x) restituisce un numero intero identificativo univoco di un oggetto. Controllare gli esempi di [Variabili numeriche](#variabili-numeriche) per chiarirne l'uso.\n",
        "type(x) restituisce un oggetto con indicato il tipo di dato associato a x"
      ],
      "metadata": {
        "id": "uisJslgDqV-K"
      }
    },
    {
      "cell_type": "markdown",
      "source": [
        "#### input(prompt) ####\n",
        " \n",
        "input(prompt) è la classica funzione di Python per gestire l'input a riga di comando. Il risultato è di tipo string, quindi procedere ad opportune conversioni nel caso si debba lavorare con altri tipi di dati.\n",
        " "
      ],
      "metadata": {
        "id": "aoUNWyXmqZHb"
      }
    },
    {
      "cell_type": "code",
      "source": [
        "x = input(\"Inserisci un numero: \")\n",
        "x = int(x)\n",
        "    \n",
        "print(\"é pari\" if x % 2 == 0 else \"è dispari\")"
      ],
      "metadata": {
        "colab": {
          "base_uri": "https://localhost:8080/"
        },
        "id": "2lYJehGWqeXG",
        "outputId": "36fa1b10-63de-4912-d9df-831fe412141e"
      },
      "execution_count": 2,
      "outputs": [
        {
          "output_type": "stream",
          "name": "stdout",
          "text": [
            "Inserisci un numero: 4\n",
            "é pari\n"
          ]
        }
      ]
    },
    {
      "cell_type": "markdown",
      "source": [
        "#### int(x), float(x) ####\n",
        "\n",
        "int(x) restituisce un valore intero estratto dalla stringa x. x deve contenere un numero intero, altrimenti si crea un'eccezione.\n",
        "float(x) restituisce un valore float estratto dalla stringa x. x deve contenere un numero float, altrimenti si crea un'eccezione."
      ],
      "metadata": {
        "id": "WOVwuxvVq2Vb"
      }
    },
    {
      "cell_type": "code",
      "source": [
        "int(\"4\")   # restituisce 4\n",
        "int(\"4.5\") # restituisce errore\n",
        "int(\"4 5\") # restituisce errore\n",
        "    \n",
        "float(\"4.5\") # restituisce 4.5\n",
        "float(\"4 5\") # restituisce errore"
      ],
      "metadata": {
        "colab": {
          "base_uri": "https://localhost:8080/",
          "height": 243
        },
        "id": "bY_LgB1uq6iV",
        "outputId": "cd5cc9a0-2e8e-4518-8945-d1f5c391ab09"
      },
      "execution_count": 3,
      "outputs": [
        {
          "output_type": "error",
          "ename": "ValueError",
          "evalue": "ignored",
          "traceback": [
            "\u001b[0;31m---------------------------------------------------------------------------\u001b[0m",
            "\u001b[0;31mValueError\u001b[0m                                Traceback (most recent call last)",
            "\u001b[0;32m<ipython-input-3-27589c2b4508>\u001b[0m in \u001b[0;36m<cell line: 2>\u001b[0;34m()\u001b[0m\n\u001b[1;32m      1\u001b[0m \u001b[0mint\u001b[0m\u001b[0;34m(\u001b[0m\u001b[0;34m\"4\"\u001b[0m\u001b[0;34m)\u001b[0m   \u001b[0;31m# restituisce 4\u001b[0m\u001b[0;34m\u001b[0m\u001b[0;34m\u001b[0m\u001b[0m\n\u001b[0;32m----> 2\u001b[0;31m \u001b[0mint\u001b[0m\u001b[0;34m(\u001b[0m\u001b[0;34m\"4.5\"\u001b[0m\u001b[0;34m)\u001b[0m \u001b[0;31m# restituisce errore\u001b[0m\u001b[0;34m\u001b[0m\u001b[0;34m\u001b[0m\u001b[0m\n\u001b[0m\u001b[1;32m      3\u001b[0m \u001b[0mint\u001b[0m\u001b[0;34m(\u001b[0m\u001b[0;34m\"4 5\"\u001b[0m\u001b[0;34m)\u001b[0m \u001b[0;31m# restituisce errore\u001b[0m\u001b[0;34m\u001b[0m\u001b[0;34m\u001b[0m\u001b[0m\n\u001b[1;32m      4\u001b[0m \u001b[0;34m\u001b[0m\u001b[0m\n\u001b[1;32m      5\u001b[0m \u001b[0mfloat\u001b[0m\u001b[0;34m(\u001b[0m\u001b[0;34m\"4.5\"\u001b[0m\u001b[0;34m)\u001b[0m \u001b[0;31m# restituisce 4.5\u001b[0m\u001b[0;34m\u001b[0m\u001b[0;34m\u001b[0m\u001b[0m\n",
            "\u001b[0;31mValueError\u001b[0m: invalid literal for int() with base 10: '4.5'"
          ]
        }
      ]
    },
    {
      "cell_type": "markdown",
      "source": [
        "#### len(x) ####\n",
        "\n",
        "len(x) restituisce la dimensione di un oggetto in termini di numero di elementi."
      ],
      "metadata": {
        "id": "bP0GEqOWrFe7"
      }
    },
    {
      "cell_type": "code",
      "source": [
        "a=list(x for x in range(1,1000) if x % 3 == 0) # genera una lista con i multipli di 3 minori di 1000\n",
        "\n",
        "print(len(a)) # restituisce il numero di elementi della lista"
      ],
      "metadata": {
        "colab": {
          "base_uri": "https://localhost:8080/"
        },
        "id": "nY6_TQDirIRf",
        "outputId": "4597a531-e865-4335-8b6a-2064ce92b5a4"
      },
      "execution_count": 8,
      "outputs": [
        {
          "output_type": "stream",
          "name": "stdout",
          "text": [
            "333\n"
          ]
        }
      ]
    },
    {
      "cell_type": "markdown",
      "source": [
        "#### map(funzione, iterable) ####\n",
        "\n",
        "map(funzione, iterable) applica a ogni elemento di iterable la funzione passata come primo parametro e restituisce un nuovo iterator\n",
        "\n",
        "Come per filter questa funzione è usata molto perché permette di abbreviare il codice."
      ],
      "metadata": {
        "id": "T88K1CTvrqRV"
      }
    },
    {
      "cell_type": "code",
      "source": [
        "import math\n",
        "    \n",
        "a=list(map(math.sqrt, range(1,10))) # crea una lista con le radici quadrate dei numeri 1-9\n",
        "\n",
        "print(a)\n",
        "\n",
        "# alternativa procedurale\n",
        "elenco = []\n",
        "for i in range(1,10):\n",
        "    elenco.append(math.sqrt(i))\n",
        "print(elenco)"
      ],
      "metadata": {
        "colab": {
          "base_uri": "https://localhost:8080/"
        },
        "id": "2vTMqQfFrtLI",
        "outputId": "f20e3fa3-4a52-4e36-c448-756d7c93afbb"
      },
      "execution_count": 9,
      "outputs": [
        {
          "output_type": "stream",
          "name": "stdout",
          "text": [
            "[1.0, 1.4142135623730951, 1.7320508075688772, 2.0, 2.23606797749979, 2.449489742783178, 2.6457513110645907, 2.8284271247461903, 3.0]\n",
            "[1.0, 1.4142135623730951, 1.7320508075688772, 2.0, 2.23606797749979, 2.449489742783178, 2.6457513110645907, 2.8284271247461903, 3.0]\n"
          ]
        }
      ]
    },
    {
      "cell_type": "markdown",
      "source": [
        "#### max(iterable), min(iterable), sum(iterable) ####\n",
        "\n",
        "max(iterable) restituisce il valore massimo presente in iterable\n",
        "min(iterable) restituisce il valore minimo presente in iterable\n",
        "sum(iterable) restituisce la somma dei valori presenti in iterable"
      ],
      "metadata": {
        "id": "ZhQIiZQbr_pD"
      }
    },
    {
      "cell_type": "code",
      "source": [
        "v = [3,1,5]\n",
        "    \n",
        "print(max(v)) # restituisce 5\n",
        "print(min(v)) # restituisce 1\n",
        "print(sum(v)) # restituisce 9\n",
        "\n",
        "\"\"\"\n",
        "Esempio più articolato: calcolo la deviazione standard di una serie di valori.\n",
        "Ad ogni elemento x di v viene applicato il calcolo (x-M)^2, vengono sommati tutti questi valori\n",
        "e successivamente divisi per il loro numero. Il risultato finale sarà la radice quadrata\n",
        "di questo valore medio.\n",
        "Per rendere ancora più breve il codice è stata usata una funzione lambda (funzione anonima)\n",
        "\"\"\"\n",
        "def deviazione_standard(v):\n",
        "    media = sum(v)/len(v)\n",
        "    return math.sqrt(sum(map(lambda x: (x-media)**2, v))/len(v))\n",
        "    \n",
        "print(deviazione_standard(v))\n",
        "\n",
        "def deviazione_standard2(v):\n",
        "    \"\"\" \n",
        "    al posto delle funzioni lambda e map in questo caso possiamo sfruttare il for visto nel\n",
        "    paragrafo sulla list comprehension\n",
        "    \"\"\"\n",
        "    media = sum(v)/len(v)\n",
        "    return math.sqrt(sum((x-media)**2 for x in v)/len(v))\n",
        "\n",
        "print(deviazione_standard2(v))\n",
        "\n",
        "# stessa funzione in modo semi-tradizionale:\n",
        "def deviazione_standard3(v):\n",
        "    media = sum(v)/len(v)\n",
        "    somma = 0\n",
        "    for x in v:\n",
        "        somma += (x-media)**2\n",
        "    somma /= len(v)\n",
        "    return math.sqrt(somma)\n",
        "\n",
        "print(deviazione_standard3(v))\n",
        "\n"
      ],
      "metadata": {
        "colab": {
          "base_uri": "https://localhost:8080/"
        },
        "id": "HhWZUJXSsDIl",
        "outputId": "622bb26e-55df-42f7-b7a4-074614a383ac"
      },
      "execution_count": 14,
      "outputs": [
        {
          "output_type": "stream",
          "name": "stdout",
          "text": [
            "5\n",
            "1\n",
            "9\n",
            "1.632993161855452\n",
            "1.632993161855452\n",
            "1.632993161855452\n"
          ]
        }
      ]
    },
    {
      "cell_type": "markdown",
      "source": [
        "#### sorted(iterable, key=None, reverse=False) ####\n",
        "\n",
        "sorted(iterable, key=None, reverse=False) restituisce l'iterable con gli elementi ordinati. Eventualmente si può aggiungere l'opzione reverse=True per inventire l'ordinamento, oppure il parametro key=funzione per definire una funzione con un parametro che estragga dal parametro l'elemento da confrontare."
      ],
      "metadata": {
        "id": "WxU1mQ79t9Zw"
      }
    },
    {
      "cell_type": "code",
      "source": [
        "v = [3,1,4]\n",
        "    \n",
        "print(sorted(v)) # restituisce [1,3,4]\n",
        "\n",
        "print(sorted(v, reverse=True)) # restituisce [4,3,1]\n",
        "\n",
        "abitanti = {\n",
        "    \"Milano\": 2_000_000,\n",
        "    \"Genova\": 700_000,\n",
        "    \"Napoli\": 1_200_000\n",
        "}\n",
        "print(sorted(abitanti)) # restituisce l'elenco ordinato delle chiavi\n",
        "\n",
        "\n",
        "print(sorted(abitanti, key=lambda x: abitanti[x])) # restituisce l'elenco delle chiavi ordinate per popolazione\n"
      ],
      "metadata": {
        "colab": {
          "base_uri": "https://localhost:8080/"
        },
        "id": "ybfcpKERuANk",
        "outputId": "c59fcd6c-28f4-4a3f-e72a-e01382c4f010"
      },
      "execution_count": 17,
      "outputs": [
        {
          "output_type": "stream",
          "name": "stdout",
          "text": [
            "[1, 3, 4]\n",
            "[4, 3, 1]\n",
            "['Genova', 'Milano', 'Napoli']\n",
            "['Genova', 'Napoli', 'Milano']\n"
          ]
        }
      ]
    },
    {
      "cell_type": "markdown",
      "source": [
        "#### zip(*iterables) ####\n",
        "\n",
        "`zip(*iterables)` produce un iteratore generando tante tuple composte di elementi presenti in ciascun elenco passato. Può essere utile quando si vogliono creare dei cicli su più liste in parallelo."
      ],
      "metadata": {
        "id": "6zPkqRkPugVJ"
      }
    },
    {
      "cell_type": "code",
      "source": [
        "citta = ['BO', 'MI', 'NA']\n",
        "abitanti = [650000, 2000000, 1200000]\n",
        "\n",
        "for c,a in zip(citta, abitanti):\n",
        "    print(f\"{c} ha {a} abitanti\")\n",
        "    \n",
        "# oppure possiamo usare zip per trasformare due liste in un dictionary:\n",
        "dict(zip(citta, abitanti))\n",
        "\n"
      ],
      "metadata": {
        "colab": {
          "base_uri": "https://localhost:8080/"
        },
        "id": "DHI8NVpOukse",
        "outputId": "ca2eee1d-0303-4a65-a739-56743a8f1e63"
      },
      "execution_count": 18,
      "outputs": [
        {
          "output_type": "stream",
          "name": "stdout",
          "text": [
            "BO ha 650000 abitanti\n",
            "MI ha 2000000 abitanti\n",
            "NA ha 1200000 abitanti\n"
          ]
        },
        {
          "output_type": "execute_result",
          "data": {
            "text/plain": [
              "{'BO': 650000, 'MI': 2000000, 'NA': 1200000}"
            ]
          },
          "metadata": {},
          "execution_count": 18
        }
      ]
    },
    {
      "cell_type": "markdown",
      "source": [
        "## Classi e Oggetti ##\n",
        "\n",
        "Naturalmente anche Python prevede la programmazione ad oggetti e la definizione di classi personalizzate. Del resto tutte le variabili usate dal linguaggio sono memorizzate come oggetti e hanno quindi degli attributi e metodi ciascuna (vedere la funzione dir(oggetto)).\n",
        "\n",
        "Per definire una classe si usa la seguente sintassi:\n",
        "\n",
        "    class NomeClasse:\n",
        "        # elenco attributi \n",
        "        attributo1 = valore\n",
        "        attributo2 = valore\n",
        "        ...\n",
        "        \n",
        "        #costruttore\n",
        "        def __init__(self):\n",
        "            ...\n",
        "            \n",
        "        def metodo1(self, parametri):\n",
        "            ...\n",
        "            \n",
        "Notare che per gli attributi non vi è distinzione tra pubblici e privati; sono tutti considerati pubblici e viene suggerito soltanto di preporre un carattere di underscore al nome per indicare quelli che si vuole considerare privati, ma comunque accessibili anche all'esterno della classe (è giusto una convenzione).\n",
        "\n",
        "Notare inoltre nella definizione dei metodi il primo parametro obbligatorio **self** che passa l'oggetto stesso alla funzione in modo che possa accedere agli altri elementi della classe (è l'equivalente del *this* di altri linguaggi)."
      ],
      "metadata": {
        "id": "Ra8rWVULuupn"
      }
    },
    {
      "cell_type": "code",
      "source": [
        "\"\"\" Esempio: definiamo una classe Punto \"\"\"\n",
        "import math\n",
        "\n",
        "class Punto:\n",
        "    x : float = 0 # l'annotazione float non è obbligatoria ma conveniente\n",
        "    y : float = 0\n",
        "    \n",
        "    def __init__(self, x=0, y=0):\n",
        "        self.x = x\n",
        "        self.y = y\n",
        "        \n",
        "    def distanza_da_origine(self):\n",
        "        return math.sqrt(self.x**2 + self.y**2)\n",
        "\n",
        "\n",
        "p1 = Punto()     # crea un oggetto Punto con coordinate (0,0)\n",
        "p2 = Punto(3, 1) # crea un oggetto Punto con coordinate (3,1)\n",
        "\n",
        "print(p2.distanza_da_origine()) # restituisce 3.1622776601683795\n",
        "\n",
        "p2.x = 2         # cambiamo la coordinata x in 2\n",
        "\n",
        "print(p2.distanza_da_origine()) # restituisce 2.23606797749979\n"
      ],
      "metadata": {
        "colab": {
          "base_uri": "https://localhost:8080/"
        },
        "id": "nIF1AxNYuybB",
        "outputId": "1b86b1dd-4334-4ce7-9bc7-3513e3d2707e"
      },
      "execution_count": 19,
      "outputs": [
        {
          "output_type": "stream",
          "name": "stdout",
          "text": [
            "3.1622776601683795\n",
            "2.23606797749979\n"
          ]
        }
      ]
    },
    {
      "cell_type": "markdown",
      "source": [
        "Ci sono casi in cui si vogliono gestire delle classi alla stregua dei record, con quindi diversi attributi da inizializzare in fase di creazione dell'istanza. In questo caso può essere comodo ricorrere ad un modulo di python chiamato **dataclasses** che aggiunge automaticamente alla classe il costruttore con tutti i parametri da inizializzare."
      ],
      "metadata": {
        "id": "L9zyRSAfu6a7"
      }
    },
    {
      "cell_type": "code",
      "source": [
        "from dataclasses import dataclass\n",
        "    \n",
        "@dataclass # dataclass è un decorator che sarà associato alla classe successiva\n",
        "class Libro:\n",
        "    titolo : str # qui l'annotazione str è obbligatoria per poter far generare il costruttore\n",
        "    autore : str\n",
        "    editore: str\n",
        "    genere : str\n",
        "    \n",
        "    def mostra(self):\n",
        "        print(f\"{self.titolo} - {self.autore} - {self.editore} - {self.genere}\")\n",
        "        \n",
        "libro1 = Libro(\"Impariamo Python\", \"F.C.\", \"Mondadori\", \"Informatica\") # crea un oggetto Libro assegnando tutti gli attributi\n",
        "\n",
        "libro1.mostra() # mostra \"Impariamo Python - F.C. - Mondadori - Informatica\"\n",
        "\n",
        "print(libro1) # mostra \"Libro(titolo='Impariamo Python', autore='F.C.', editore='Mondadori', genere='Informatica')\"\n",
        "\n",
        "libro2 = Libro() # dà errore perché il costruttore attende 4 parametri    "
      ],
      "metadata": {
        "colab": {
          "base_uri": "https://localhost:8080/",
          "height": 243
        },
        "id": "7xf4_oU1u9Gi",
        "outputId": "3b2abc76-65f5-4c3a-8c38-7aba0c568b96"
      },
      "execution_count": 21,
      "outputs": [
        {
          "output_type": "stream",
          "name": "stdout",
          "text": [
            "Impariamo Python - F.C. - Mondadori - Informatica\n",
            "Libro(titolo='Impariamo Python', autore='F.C.', editore='Mondadori', genere='Informatica')\n"
          ]
        },
        {
          "output_type": "error",
          "ename": "TypeError",
          "evalue": "ignored",
          "traceback": [
            "\u001b[0;31m---------------------------------------------------------------------------\u001b[0m",
            "\u001b[0;31mTypeError\u001b[0m                                 Traceback (most recent call last)",
            "\u001b[0;32m<ipython-input-21-1e0d4fc84bf0>\u001b[0m in \u001b[0;36m<cell line: 19>\u001b[0;34m()\u001b[0m\n\u001b[1;32m     17\u001b[0m \u001b[0mprint\u001b[0m\u001b[0;34m(\u001b[0m\u001b[0mlibro1\u001b[0m\u001b[0;34m)\u001b[0m \u001b[0;31m# mostra \"Libro(titolo='Impariamo Python', autore='F.C.', editore='Mondadori', genere='Informatica')\"\u001b[0m\u001b[0;34m\u001b[0m\u001b[0;34m\u001b[0m\u001b[0m\n\u001b[1;32m     18\u001b[0m \u001b[0;34m\u001b[0m\u001b[0m\n\u001b[0;32m---> 19\u001b[0;31m \u001b[0mlibro2\u001b[0m \u001b[0;34m=\u001b[0m \u001b[0mLibro\u001b[0m\u001b[0;34m(\u001b[0m\u001b[0;34m)\u001b[0m \u001b[0;31m# dà errore perché il costruttore attende 4 parametri\u001b[0m\u001b[0;34m\u001b[0m\u001b[0;34m\u001b[0m\u001b[0m\n\u001b[0m",
            "\u001b[0;31mTypeError\u001b[0m: __init__() missing 4 required positional arguments: 'titolo', 'autore', 'editore', and 'genere'"
          ]
        }
      ]
    },
    {
      "cell_type": "markdown",
      "source": [
        "### Ereditarietà ###\n",
        "\n",
        "Per definire una classe ereditata si aggiunge il nome della classe genitore tra parentesi nella definizione della classe figlia:\n"
      ],
      "metadata": {
        "id": "xrCfXY9TvOFD"
      }
    }
  ]
}