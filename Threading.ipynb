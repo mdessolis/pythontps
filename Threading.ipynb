{
  "nbformat": 4,
  "nbformat_minor": 0,
  "metadata": {
    "colab": {
      "provenance": [],
      "authorship_tag": "ABX9TyNSWwT0MQUlNirDcS9o4GQu",
      "include_colab_link": true
    },
    "kernelspec": {
      "name": "python3",
      "display_name": "Python 3"
    },
    "language_info": {
      "name": "python"
    },
    "gpuClass": "standard"
  },
  "cells": [
    {
      "cell_type": "markdown",
      "metadata": {
        "id": "view-in-github",
        "colab_type": "text"
      },
      "source": [
        "<a href=\"https://colab.research.google.com/github/mdessolis/pythontps/blob/main/Threading.ipynb\" target=\"_parent\"><img src=\"https://colab.research.google.com/assets/colab-badge.svg\" alt=\"Open In Colab\"/></a>"
      ]
    },
    {
      "cell_type": "markdown",
      "source": [
        "# Programmazione Multithread #\n",
        "\n",
        "## Differenza tra multithread e multiprocessing ##\n",
        "\n",
        "Per **thread** si intende un blocco di istruzioni (di solito una funzione o un metodo) eseguito all'interno di un processo in parallelo con altre istruzioni.\n",
        "  \n",
        "Pensiamo ad esempio ad un browser che deve mostrare una pagina web: se questa contiene diverse immagini/fogli di stile o altri elementi esterni il browser dovrà scaricare tutti questi file. Ebbene, di solito questo lo fa in parallelo facendo partire una procedura di download (thread) per ciascun file in modo da ottimizzare i tempi.\n",
        "\n",
        "Oppure pensiamo ad un qualunque sistema di videoscrittura: mentre digitiamo il testo questo automaticamente viene impaginato e spesso anche controllato come ortografia. Ebbene, queste operazioni sono probabilmente eseguite da thread paralleli alla digitazione.\n",
        "\n",
        "Nel caso del thread quindi si lavora sempre all'interno di un singolo processo di esecuzione che ha al suo interno delle diramazioni di esecuzione che lavorano in parallelo. Però, essendo un singolo processo, l'area dati e i registri di esecuzione del codice sono comuni, quindi i thread condividono tutti gli stessi dati.\n",
        "\n",
        "Per **processo** si intende invece un blocco di codice che viene eseguito in genere in modo autonomo sul computer e al quale viene quindi assegnato un proprio spazio di memoria. Ad esempio se avviamo un programma di videoscrittura verrà creato un processo di esecuzione e assegnato a questo un codice univoco (detto PID). Nulla ci impedisce però di lanciare due esecuzioni contemporanee del programma, creando però due processi che non condividono tra loro nessuno spazio di memoria.\n",
        "\n",
        "E' però possibile programmare un codice per istruirlo a dividere l'esecuzione del processo in più sottoprocessi da avviare in parallelo, sfruttando in questo modo le caratteristiche dei moderni processori, composti da più core che possono tranquillamente eseguire operazion in parallelismo reale.\n",
        "\n",
        "A differenza però di una esecuzione multithread, in quella multiprocess non vi è condivisione della memoria per cui bisogna prevedere, nel caso se ne abbia bisogno, strumenti per far comunicare tra loro i sottoprocessi.\n",
        "\n",
        "Vediamo ora il tutto con degli esempi.\n",
        "\n",
        "## Problema: conta numeri primi ##\n",
        "\n",
        "Si voglia contare quanti numeri primi sono presenti in un certo intervallo fornito in input.\n",
        "\n",
        "Innanzitutto dovremo definire una funzione per stabilire se un numero è primo o no:\n"
      ],
      "metadata": {
        "id": "CbGJc88EbE27"
      }
    },
    {
      "cell_type": "code",
      "source": [
        "def is_prime(x):\n",
        "    \"\"\" restituisce True se x è primo, False altrimenti \"\"\"\n",
        "    if x<2: return False\n",
        "    i = 2\n",
        "    while i*i <= x:\n",
        "        if x % i == 0: return False\n",
        "        i += 1\n",
        "    return True\n",
        "\n",
        "# Esempio di uso:\n",
        "print(f\"5 is prime? {is_prime(5)}\")\n",
        "print(f\"6 is prime? {is_prime(6)}\")"
      ],
      "metadata": {
        "colab": {
          "base_uri": "https://localhost:8080/"
        },
        "id": "-bXNJVesb97M",
        "outputId": "37b2b90d-82e7-418c-eba8-c516cc218c32"
      },
      "execution_count": null,
      "outputs": [
        {
          "output_type": "stream",
          "name": "stdout",
          "text": [
            "5 is prime? True\n",
            "6 is prime? False\n"
          ]
        }
      ]
    },
    {
      "cell_type": "markdown",
      "source": [
        "Successivamente definiamo una funzione per contare quanti primi troviamo in un dato intervallo:"
      ],
      "metadata": {
        "id": "n4G9LI2Vc3qO"
      }
    },
    {
      "cell_type": "code",
      "source": [
        "def count_primes(a,b):\n",
        "    \"\"\" Conta i numeri primi trovati all'interno dell'intervallo [a,b[ \"\"\"\n",
        "    count = 0\n",
        "    for i in range(a, b):\n",
        "        if is_prime(i):\n",
        "            count +=1\n",
        "    print(f\"In [{a}, {b}] ho trovato {count} numeri primi\")\n",
        "    return count\n",
        "\n",
        "# Esempio di uso\n",
        "\n",
        "count_primes(1,10000)\n"
      ],
      "metadata": {
        "colab": {
          "base_uri": "https://localhost:8080/"
        },
        "id": "bj8BLi_BdJ5X",
        "outputId": "6ec792e3-ebf3-4cca-b68b-165d8e0d232c"
      },
      "execution_count": null,
      "outputs": [
        {
          "output_type": "stream",
          "name": "stdout",
          "text": [
            "In [1, 10000] ho trovato 1229 numeri primi\n"
          ]
        },
        {
          "output_type": "execute_result",
          "data": {
            "text/plain": [
              "1229"
            ]
          },
          "metadata": {},
          "execution_count": 9
        }
      ]
    },
    {
      "cell_type": "markdown",
      "source": [
        "La funzione count_primes si può scrivere in tanti modi differenti in Python. Sfruttando alcune funzioni e strutture del linguaggio potremmo per esempio scriverla anche così:"
      ],
      "metadata": {
        "id": "sZe9JYjFk7w7"
      }
    },
    {
      "cell_type": "code",
      "source": [
        "def count_primesV2(a,b):\n",
        "    \"\"\" Conta i numeri primi trovati all'interno dell'intervallo [a,b[ \"\"\"\n",
        "    \"\"\" memorizza nella variabile count la somma di una serie di 1 corrispondenti ad ogni primo che trova nell'intervallo \"\"\"\n",
        "    count = sum(1 for i in range(a, b) if is_prime(i))\n",
        "    print(f\"In [{a}, {b}] ho trovato {count} numeri primi\")\n",
        "    return count\n",
        "\n",
        "# Esempio di uso\n",
        "\n",
        "count_primesV2(1,10000)\n"
      ],
      "metadata": {
        "colab": {
          "base_uri": "https://localhost:8080/"
        },
        "id": "dgq-sJwYkOk3",
        "outputId": "137f2903-4ec0-4c13-ea43-0546a5bf24e0"
      },
      "execution_count": null,
      "outputs": [
        {
          "output_type": "stream",
          "name": "stdout",
          "text": [
            "In [1, 10000] ho trovato 1229 numeri primi\n"
          ]
        },
        {
          "output_type": "execute_result",
          "data": {
            "text/plain": [
              "1229"
            ]
          },
          "metadata": {},
          "execution_count": 10
        }
      ]
    },
    {
      "cell_type": "markdown",
      "source": [
        "Proviamo adesso a calcolare il tempo esatto di esecuzione della funzione cont_primes per un intervallo abbastanza grande. Per far questo richiamiamo la libreria **time** che ci mette a disposizione la funzione time() che restituisce un float con il tempo attuale in secondi calcolato a partire dall'1/1/70 (Epoch). Volendo ci sono anche funzioni differenti per il calcolo del tempo ma questa è generica e la possiamo applicare bene a tanti contesti."
      ],
      "metadata": {
        "id": "4GhV2fCXlwxg"
      }
    },
    {
      "cell_type": "code",
      "source": [
        "from time import time\n",
        "\n",
        "start = time() # memorizziamo in start l'ora corrente\n",
        "count_primes(1, 1_000_000) # eseguiamo la funzione\n",
        "tempo = time() - start # calcoliamo in tempo il tempo trascorso\n",
        "\n",
        "print(f\"Tempo impiegato: {tempo:.2f} secondi\")\n",
        "\n",
        "# Facciamo la stessa prova con count_primesV2 e vediamo se cambiano i tempi\n",
        "\n",
        "start = time() # memorizziamo in start l'ora corrente\n",
        "count_primesV2(1, 1_000_000) # eseguiamo la funzione\n",
        "tempo = time() - start # calcoliamo in tempo il tempo trascorso\n",
        "\n",
        "print(f\"Tempo impiegato: {tempo:.2f} secondi\")"
      ],
      "metadata": {
        "colab": {
          "base_uri": "https://localhost:8080/"
        },
        "id": "9-3yAQxwmZO6",
        "outputId": "1d14b632-71e8-4dec-9e21-cc0fca3270c8"
      },
      "execution_count": null,
      "outputs": [
        {
          "output_type": "stream",
          "name": "stdout",
          "text": [
            "In [1, 1000000] ho trovato 78498 numeri primi\n",
            "Tempo impiegato: 20.38 secondi\n",
            "In [1, 1000000] ho trovato 78498 numeri primi\n",
            "Tempo impiegato: 12.47 secondi\n"
          ]
        }
      ]
    },
    {
      "cell_type": "markdown",
      "source": [
        "Bene, quello che abbiamo appena fatto è un algoritmo sviluppato con la programmazione tradizionale impostata pensando di far svolgere i calcoli ad un solo processore.\n",
        "\n",
        "Però potremmo chiederci: ma anziché fare un unico ciclo in count_primes per tutto l'intervallo, non potremmo dividere il problema su più intervalli da far eseguire il più possibile in parallelo?\n",
        "\n",
        "Qui intervengono i **thread**.\n",
        "\n",
        "Andiamo però per passi: prima dividiamo l'unico intervallo in n intervalli che eseguiamo uno di seguito all'altro:\n"
      ],
      "metadata": {
        "id": "qUN7OINioHw4"
      }
    },
    {
      "cell_type": "code",
      "source": [
        "inizio = 1\n",
        "fine   = 1_000_000\n",
        "n      = 5 # numero di intervalli\n",
        "step   = (fine-inizio+1) // n # ampiezza di ogni intervallo\n",
        "\n",
        "start = time()\n",
        "\n",
        "conta = 0\n",
        "for i in range(n):\n",
        "    conta += count_primes(inizio + i*step, inizio + (i+1) * step)\n",
        "\n",
        "print(f\"In [{inizio}, {fine}] ho trovato {conta} numeri primi\")\n",
        "\n",
        "tempo = time() - start # calcoliamo in tempo il tempo trascorso\n",
        "\n",
        "print(f\"Tempo impiegato: {tempo:.2f} secondi\")"
      ],
      "metadata": {
        "colab": {
          "base_uri": "https://localhost:8080/"
        },
        "id": "qrzK3dqOpbAH",
        "outputId": "a22e2609-0722-4ed5-eee9-f9adbbfa59d2"
      },
      "execution_count": null,
      "outputs": [
        {
          "output_type": "stream",
          "name": "stdout",
          "text": [
            "In [1, 200001] ho trovato 17984 numeri primi\n",
            "In [200001, 400001] ho trovato 15876 numeri primi\n",
            "In [400001, 600001] ho trovato 15238 numeri primi\n",
            "In [600001, 800001] ho trovato 14853 numeri primi\n",
            "In [800001, 1000001] ho trovato 14547 numeri primi\n",
            "In [1, 1000000] ho trovato 78498 numeri primi\n",
            "Tempo impiegato: 10.65 secondi\n"
          ]
        }
      ]
    },
    {
      "cell_type": "markdown",
      "source": [
        "Bene, ora dobbiamo istruire Python ad eseguire le funzioni count_primes in parallelo mediante thread. \n",
        "\n",
        "Per farlo Python mette a disposizione il modulo **threading** con la classe **Thread** che ci consente proprio di avviare una funzione in un nuovo thread.\n",
        " "
      ],
      "metadata": {
        "id": "f_IxDWMfr45t"
      }
    },
    {
      "cell_type": "code",
      "source": [
        "from threading import Thread\n",
        "\n",
        "inizio = 1\n",
        "fine   = 1_000_000\n",
        "n      = 5 # numero di intervalli\n",
        "step   = (fine-inizio+1) // n # ampiezza di ogni intervallo\n",
        "\n",
        "start = time()\n",
        "\n",
        "# creiamo un array in cui memorizzare i vari thread\n",
        "t = []\n",
        "\n",
        "for i in range(n):\n",
        "\n",
        "    # creiamo un instanza della classe Thread e associamo la funzione da eseguire\n",
        "    thread = Thread(target = count_primes, args=(inizio + i*step, inizio + (i+1) * step))\n",
        "    \n",
        "    # facciamo partire il thread\n",
        "    thread.start()\n",
        "    \n",
        "    # aggiungiamo il thread all'array\n",
        "    t.append(thread)\n",
        "\n",
        "# comunichiamo al programma di attendere la fine di tutti i thread prima di proseguire\n",
        "for thread in t: thread.join()\n",
        "\n",
        "tempo = time() - start # calcoliamo in tempo il tempo trascorso\n",
        "\n",
        "print(f\"Tempo impiegato: {tempo:.2f} secondi\")"
      ],
      "metadata": {
        "colab": {
          "base_uri": "https://localhost:8080/"
        },
        "id": "Nn3qNmT6sZa-",
        "outputId": "bbdb7d7b-8b37-416f-c32a-06e1ae4f2593"
      },
      "execution_count": null,
      "outputs": [
        {
          "output_type": "stream",
          "name": "stdout",
          "text": [
            "In [1, 200001] ho trovato 17984 numeri primi\n",
            "In [200001, 400001] ho trovato 15876 numeri primi\n",
            "In [600001, 800001] ho trovato 14853 numeri primi\n",
            "In [400001, 600001] ho trovato 15238 numeri primi\n",
            "In [800001, 1000001] ho trovato 14547 numeri primi\n",
            "Tempo impiegato: 10.22 secondi\n"
          ]
        }
      ]
    },
    {
      "cell_type": "markdown",
      "source": [
        "Notare che in queste ultime istruzioni è stato rimosso il contatore complessivo dei numeri trovati. Questo perché quando si eseguono le funzioni come thread non si può ottenere il valore restituito dalla funzione stessa, quindi occorrerà modificare il codice della funzione in modo che possa modificare dal suo interno il contatore.\n",
        "\n",
        "Dall'esecuzione su questo notebook si può notare che non ci sono particolari vantaggi nei tempi. Provando però ad eseguirlo, anche più volte, sul proprio pc si può notare un piccolo miglioramento. \n",
        "\n",
        "A dire il vero in Python i thread non sono gestiti come in C++, dove il tempo di esecuzione verrebbe apprezzato di più. \n",
        "Di fatto in Python i thread, a causa di come è implementato l'interprete dei comandi, sono eseguiti uno alla volta e il parallelismo è solo simulato. \n",
        "\n",
        "Apprezzeremo di più l'esecuzione parallela se impostiamo il programma in versione non multi-thread ma multi-process.\n",
        "\n",
        "Provare sul proprio pc la seguente versione:"
      ],
      "metadata": {
        "id": "wjgA1cKwB24P"
      }
    },
    {
      "cell_type": "code",
      "source": [
        "from multiprocessing import Process\n",
        "\n",
        "if __name__ == \"__main__\":\n",
        "    \"\"\" Questa if serve per far eseguire le istruzioni seguenti solo al processo principale \"\"\"\n",
        "    inizio = 1\n",
        "    fine   = 1_000_000\n",
        "    n      = 5 # numero di intervalli\n",
        "    step   = (fine-inizio+1) // n # ampiezza di ogni intervallo\n",
        "\n",
        "    start = time()\n",
        "\n",
        "    # creiamo un array in cui memorizzare i vari thread\n",
        "    t = []\n",
        "\n",
        "    for i in range(n):\n",
        "\n",
        "        # creiamo un instanza della classe Process e associamo la funzione da eseguire\n",
        "        p = Process(target = count_primes, args=(inizio + i*step, inizio + (i+1) * step))\n",
        "        \n",
        "        # facciamo partire il processo\n",
        "        p.start()\n",
        "        \n",
        "        # aggiungiamo il processo all'array\n",
        "        t.append(p)\n",
        "\n",
        "    # comunichiamo al programma di attendere la fine di tutti i processi prima di proseguire\n",
        "    for p in t: p.join()\n",
        "\n",
        "    tempo = time() - start # calcoliamo in tempo il tempo trascorso\n",
        "\n",
        "    print(f\"Tempo impiegato: {tempo:.2f} secondi\")"
      ],
      "metadata": {
        "colab": {
          "base_uri": "https://localhost:8080/"
        },
        "id": "VndD4zg-NQYt",
        "outputId": "cefa9c6f-d3e2-4c1a-81e4-7a739b07a2c6"
      },
      "execution_count": null,
      "outputs": [
        {
          "output_type": "stream",
          "name": "stdout",
          "text": [
            "In [1, 200001] ho trovato 17984 numeri primi\n",
            "In [200001, 400001] ho trovato 15876 numeri primi\n",
            "In [400001, 600001] ho trovato 15238 numeri primi\n",
            "In [600001, 800001] ho trovato 14853 numeri primi\n",
            "In [800001, 1000001] ho trovato 14547 numeri primi\n",
            "Tempo impiegato: 11.88 secondi\n"
          ]
        }
      ]
    }
  ]
}