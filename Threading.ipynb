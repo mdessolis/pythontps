{
  "nbformat": 4,
  "nbformat_minor": 0,
  "metadata": {
    "colab": {
      "provenance": [],
      "toc_visible": true,
      "authorship_tag": "ABX9TyOhSzHBWCh+ahQVi6mPjy+P",
      "include_colab_link": true
    },
    "kernelspec": {
      "name": "python3",
      "display_name": "Python 3"
    },
    "language_info": {
      "name": "python"
    },
    "gpuClass": "standard"
  },
  "cells": [
    {
      "cell_type": "markdown",
      "metadata": {
        "id": "view-in-github",
        "colab_type": "text"
      },
      "source": [
        "<a href=\"https://colab.research.google.com/github/mdessolis/pythontps/blob/main/Threading.ipynb\" target=\"_parent\"><img src=\"https://colab.research.google.com/assets/colab-badge.svg\" alt=\"Open In Colab\"/></a>"
      ]
    },
    {
      "cell_type": "markdown",
      "source": [
        "# Programmazione Multithreading e Multiprocessing in Python\n",
        "\n",
        "## Differenza tra multithread e multiprocessing \n",
        "\n",
        "Per **thread** si intende un blocco di istruzioni (di solito una funzione o un metodo) eseguito all'interno di un processo in parallelo con altre istruzioni.\n",
        "  \n",
        "Pensiamo ad esempio ad un browser che deve mostrare una pagina web: se questa contiene diverse immagini/fogli di stile o altri elementi esterni il browser dovrà scaricare tutti questi file. Ebbene, di solito questo lo fa in parallelo facendo partire una procedura di download (thread) per ciascun file in modo da ottimizzare i tempi.\n",
        "\n",
        "Oppure pensiamo ad un qualunque sistema di videoscrittura: mentre digitiamo il testo questo automaticamente viene impaginato e spesso anche controllato come ortografia. Ebbene, queste operazioni sono probabilmente eseguite da thread paralleli alla digitazione.\n",
        "\n",
        "Nel caso del thread quindi si lavora sempre all'interno di un singolo processo di esecuzione che ha al suo interno delle diramazioni di esecuzione che lavorano in parallelo. Però, essendo un singolo processo, l'area dati e i registri di esecuzione del codice sono comuni, quindi i thread condividono tutti gli stessi dati.\n",
        "\n",
        "Per **processo** si intende invece un blocco di codice che viene eseguito in genere in modo autonomo sul computer e al quale viene quindi assegnato un proprio spazio di memoria. Ad esempio se avviamo un programma di videoscrittura verrà creato un processo di esecuzione e assegnato a questo un codice univoco (detto PID). Nulla ci impedisce però di lanciare due esecuzioni contemporanee del programma, creando però due processi che non condividono tra loro nessuno spazio di memoria.\n",
        "\n",
        "E' però possibile programmare un codice per istruirlo a dividere l'esecuzione del processo in più sottoprocessi da avviare in parallelo, sfruttando in questo modo le caratteristiche dei moderni processori, composti da più core che possono tranquillamente eseguire operazion in parallelismo reale.\n",
        "\n",
        "A differenza però di una esecuzione multithread, in quella multiprocess non vi è condivisione della memoria per cui bisogna prevedere, nel caso se ne abbia bisogno, strumenti per far comunicare tra loro i sottoprocessi.\n",
        "\n",
        "Vediamo ora il tutto con degli esempi.\n",
        "\n"
      ],
      "metadata": {
        "id": "CbGJc88EbE27"
      }
    },
    {
      "cell_type": "markdown",
      "source": [
        "## Esercizio guidato: conta numeri primi\n",
        "\n",
        "Si voglia contare quanti numeri primi sono presenti in un certo intervallo fornito in input.\n",
        "\n",
        "Innanzitutto dovremo definire una funzione per stabilire se un numero è primo o no:\n"
      ],
      "metadata": {
        "id": "UgABBy1mwhHo"
      }
    },
    {
      "cell_type": "code",
      "source": [
        "def is_prime(x):\n",
        "    \"\"\" restituisce True se x è primo, False altrimenti \"\"\"\n",
        "    if x<2: return False\n",
        "    i = 2\n",
        "    while i*i <= x:\n",
        "        if x % i == 0: return False\n",
        "        i += 1\n",
        "    return True\n",
        "\n",
        "# Esempio di uso:\n",
        "print(f\"5 is prime? {is_prime(5)}\")\n",
        "print(f\"6 is prime? {is_prime(6)}\")"
      ],
      "metadata": {
        "colab": {
          "base_uri": "https://localhost:8080/"
        },
        "id": "-bXNJVesb97M",
        "outputId": "56a3be0c-ec47-4e50-d89e-de97b303732c"
      },
      "execution_count": 2,
      "outputs": [
        {
          "output_type": "stream",
          "name": "stdout",
          "text": [
            "5 is prime? True\n",
            "6 is prime? False\n"
          ]
        }
      ]
    },
    {
      "cell_type": "markdown",
      "source": [
        "Successivamente definiamo una funzione per contare quanti primi troviamo in un dato intervallo:"
      ],
      "metadata": {
        "id": "n4G9LI2Vc3qO"
      }
    },
    {
      "cell_type": "code",
      "source": [
        "def count_primes(a,b):\n",
        "    \"\"\" Conta i numeri primi trovati all'interno dell'intervallo [a,b[ \"\"\"\n",
        "    count = 0\n",
        "    for i in range(a, b):\n",
        "        if is_prime(i):\n",
        "            count +=1\n",
        "    print(f\"In [{a}, {b}] ho trovato {count} numeri primi\")\n",
        "    return count\n",
        "\n",
        "# Esempio di uso\n",
        "count_primes(1,10000)\n"
      ],
      "metadata": {
        "colab": {
          "base_uri": "https://localhost:8080/"
        },
        "id": "bj8BLi_BdJ5X",
        "outputId": "38c88d96-a0e1-48c6-875c-40db822866c3"
      },
      "execution_count": 7,
      "outputs": [
        {
          "output_type": "stream",
          "name": "stdout",
          "text": [
            "In [1, 10000] ho trovato 1229 numeri primi\n"
          ]
        },
        {
          "output_type": "execute_result",
          "data": {
            "text/plain": [
              "1229"
            ]
          },
          "metadata": {},
          "execution_count": 7
        }
      ]
    },
    {
      "cell_type": "markdown",
      "source": [
        "La funzione count_primes si può scrivere in tanti modi differenti in Python. Sfruttando alcune funzioni e strutture del linguaggio potremmo per esempio scriverla anche così:"
      ],
      "metadata": {
        "id": "sZe9JYjFk7w7"
      }
    },
    {
      "cell_type": "code",
      "source": [
        "def count_primesV2(a,b):\n",
        "    \"\"\" Conta i numeri primi trovati all'interno dell'intervallo [a,b[ \"\"\"\n",
        "    \"\"\" memorizza nella variabile count la somma di una serie di 1 corrispondenti ad ogni primo che trova nell'intervallo \"\"\"\n",
        "    count = sum(1 for i in range(a, b) if is_prime(i))\n",
        "    print(f\"In [{a}, {b}] ho trovato {count} numeri primi\")\n",
        "    return count\n",
        "\n",
        "# Esempio di uso\n",
        "\n",
        "count_primesV2(1,10000)\n"
      ],
      "metadata": {
        "colab": {
          "base_uri": "https://localhost:8080/"
        },
        "id": "dgq-sJwYkOk3",
        "outputId": "06ee3f6c-133b-458a-a7ef-bf149cb1d894"
      },
      "execution_count": 8,
      "outputs": [
        {
          "output_type": "stream",
          "name": "stdout",
          "text": [
            "In [1, 10000] ho trovato 1229 numeri primi\n"
          ]
        },
        {
          "output_type": "execute_result",
          "data": {
            "text/plain": [
              "1229"
            ]
          },
          "metadata": {},
          "execution_count": 8
        }
      ]
    },
    {
      "cell_type": "markdown",
      "source": [
        "Proviamo adesso a calcolare il tempo esatto di esecuzione della funzione cont_primes per un intervallo abbastanza grande. Per far questo richiamiamo la libreria **time** che ci mette a disposizione la funzione time() che restituisce un float con il tempo attuale in secondi calcolato a partire dall'1/1/70 (Epoch). Volendo ci sono anche funzioni differenti per il calcolo del tempo ma questa è generica e la possiamo applicare bene a tanti contesti."
      ],
      "metadata": {
        "id": "4GhV2fCXlwxg"
      }
    },
    {
      "cell_type": "code",
      "source": [
        "from time import time\n",
        "\n",
        "start = time() # memorizziamo in start l'ora corrente\n",
        "count_primes(1, 1_000_000) # eseguiamo la funzione\n",
        "tempo = time() - start # calcoliamo in tempo il tempo trascorso\n",
        "\n",
        "print(f\"Tempo impiegato: {tempo:.2f} secondi\")\n",
        "\n",
        "# Facciamo la stessa prova con count_primesV2 e vediamo se cambiano i tempi\n",
        "\n",
        "start = time() # memorizziamo in start l'ora corrente\n",
        "count_primesV2(1, 1_000_000) # eseguiamo la funzione\n",
        "tempo = time() - start # calcoliamo in tempo il tempo trascorso\n",
        "\n",
        "print(f\"Tempo impiegato: {tempo:.2f} secondi\")"
      ],
      "metadata": {
        "colab": {
          "base_uri": "https://localhost:8080/"
        },
        "id": "9-3yAQxwmZO6",
        "outputId": "6849dded-40d7-421f-9e5a-5eb39ac36b63"
      },
      "execution_count": null,
      "outputs": [
        {
          "output_type": "stream",
          "name": "stdout",
          "text": [
            "In [1, 1000000] ho trovato 78498 numeri primi\n",
            "Tempo impiegato: 11.19 secondi\n",
            "In [1, 1000000] ho trovato 78498 numeri primi\n",
            "Tempo impiegato: 11.13 secondi\n"
          ]
        }
      ]
    },
    {
      "cell_type": "markdown",
      "source": [
        "Bene, quello che abbiamo appena fatto è un algoritmo sviluppato con la programmazione tradizionale impostata pensando di far svolgere i calcoli ad un solo processore.\n",
        "\n",
        "Però potremmo chiederci: ma anziché fare un unico ciclo in count_primes per tutto l'intervallo, non potremmo dividere il problema su più intervalli da far eseguire il più possibile in parallelo?\n",
        "\n",
        "Qui intervengono i **thread**.\n",
        "\n",
        "Andiamo però per passi: prima dividiamo l'unico intervallo in n intervalli che eseguiamo uno di seguito all'altro:\n"
      ],
      "metadata": {
        "id": "qUN7OINioHw4"
      }
    },
    {
      "cell_type": "code",
      "source": [
        "inizio = 1\n",
        "fine   = 1_000_000\n",
        "n      = 5 # numero di intervalli\n",
        "step   = (fine-inizio+1) // n # ampiezza di ogni intervallo\n",
        "\n",
        "start = time()\n",
        "\n",
        "conta = 0\n",
        "for i in range(n):\n",
        "    conta += count_primes(inizio + i*step, inizio + (i+1) * step)\n",
        "\n",
        "print(f\"In [{inizio}, {fine}] ho trovato {conta} numeri primi\")\n",
        "\n",
        "tempo = time() - start # calcoliamo in tempo il tempo trascorso\n",
        "\n",
        "print(f\"Tempo impiegato: {tempo:.2f} secondi\")"
      ],
      "metadata": {
        "colab": {
          "base_uri": "https://localhost:8080/"
        },
        "id": "qrzK3dqOpbAH",
        "outputId": "0822ea8e-49d1-4453-852a-d868b27a037c"
      },
      "execution_count": null,
      "outputs": [
        {
          "output_type": "stream",
          "name": "stdout",
          "text": [
            "In [1, 200001] ho trovato 17984 numeri primi\n",
            "In [200001, 400001] ho trovato 15876 numeri primi\n",
            "In [400001, 600001] ho trovato 15238 numeri primi\n",
            "In [600001, 800001] ho trovato 14853 numeri primi\n",
            "In [800001, 1000001] ho trovato 14547 numeri primi\n",
            "In [1, 1000000] ho trovato 78498 numeri primi\n",
            "Tempo impiegato: 11.12 secondi\n"
          ]
        }
      ]
    },
    {
      "cell_type": "markdown",
      "source": [
        "Ora dobbiamo istruire Python ad eseguire le funzioni count_primes in parallelo mediante thread. \n",
        "\n",
        "Per farlo Python mette a disposizione il modulo **threading** con la classe **Thread** che ci consente proprio di avviare una funzione in un nuovo thread.\n",
        " "
      ],
      "metadata": {
        "id": "f_IxDWMfr45t"
      }
    },
    {
      "cell_type": "code",
      "source": [
        "from threading import Thread\n",
        "\n",
        "inizio = 1\n",
        "fine   = 1_000_000\n",
        "n      = 5 # numero di intervalli\n",
        "step   = (fine-inizio+1) // n # ampiezza di ogni intervallo\n",
        "\n",
        "start = time()\n",
        "\n",
        "# creiamo un array in cui memorizzare i vari thread\n",
        "t = []\n",
        "\n",
        "for i in range(n):\n",
        "\n",
        "    # creiamo un instanza della classe Thread e associamo la funzione da eseguire\n",
        "    thread = Thread(target = count_primes, args=(inizio + i*step, inizio + (i+1) * step))\n",
        "    \n",
        "    # facciamo partire il thread\n",
        "    thread.start()\n",
        "    \n",
        "    # aggiungiamo il thread all'array\n",
        "    t.append(thread)\n",
        "\n",
        "# comunichiamo al programma di attendere la fine di tutti i thread prima di proseguire\n",
        "for thread in t: thread.join()\n",
        "\n",
        "tempo = time() - start # calcoliamo in tempo il tempo trascorso\n",
        "\n",
        "print(f\"Tempo impiegato: {tempo:.2f} secondi\")"
      ],
      "metadata": {
        "colab": {
          "base_uri": "https://localhost:8080/"
        },
        "id": "Nn3qNmT6sZa-",
        "outputId": "9225505b-f660-42ec-ad45-ba729fe63d84"
      },
      "execution_count": null,
      "outputs": [
        {
          "output_type": "stream",
          "name": "stdout",
          "text": [
            "In [1, 200001] ho trovato 17984 numeri primi\n",
            "In [200001, 400001] ho trovato 15876 numeri primi\n",
            "In [400001, 600001] ho trovato 15238 numeri primi\n",
            "In [600001, 800001] ho trovato 14853 numeri primi\n",
            "In [800001, 1000001] ho trovato 14547 numeri primi\n",
            "Tempo impiegato: 11.30 secondi\n"
          ]
        }
      ]
    },
    {
      "cell_type": "markdown",
      "source": [
        "Notare che in queste ultime istruzioni è stato rimosso il contatore complessivo dei numeri trovati. Questo perché quando si eseguono le funzioni come thread non si può ottenere il valore restituito dalla funzione stessa, quindi occorrerà modificare il codice della funzione in modo che possa modificare dal suo interno il contatore.\n",
        "\n",
        "Dall'esecuzione su questo notebook si può notare che non ci sono particolari vantaggi nei tempi. Provando però ad eseguirlo, anche più volte, sul proprio pc si può notare un piccolo miglioramento. \n",
        "\n",
        "A dire il vero in Python i thread non sono gestiti come in C++, dove il tempo di esecuzione verrebbe apprezzato di più. \n",
        "Di fatto in Python i thread, a causa di come è implementato l'interprete dei comandi, sono eseguiti uno alla volta e il parallelismo è solo simulato.\n",
        "Vi sono però diversi problemi che anche con Python forniscono dei risultati migliori di un'esecuzione sequenziale. Pensiamo ad esempio a tutti quelli che devono lavorare con i file, dove un'eventuale attesa nell'accesso ad una risorsa può essere sfruttato da altri thread.  \n",
        "\n",
        "In questo esempio di carattere matematico apprezzeremo di più l'esecuzione parallela se impostiamo il programma in versione non multi-thread ma multi-process.\n",
        "\n",
        "Provare sul proprio pc la seguente versione:"
      ],
      "metadata": {
        "id": "wjgA1cKwB24P"
      }
    },
    {
      "cell_type": "code",
      "source": [
        "from multiprocessing import Process\n",
        "\n",
        "if __name__ == \"__main__\":\n",
        "    \"\"\" Questa if serve per far eseguire le istruzioni seguenti solo al processo principale \"\"\"\n",
        "    inizio = 1\n",
        "    fine   = 1_000_000\n",
        "    n      = 5 # numero di intervalli\n",
        "    step   = (fine-inizio+1) // n # ampiezza di ogni intervallo\n",
        "\n",
        "    start = time()\n",
        "\n",
        "    # creiamo un array in cui memorizzare i vari thread\n",
        "    t = []\n",
        "\n",
        "    for i in range(n):\n",
        "\n",
        "        # creiamo un instanza della classe Process e associamo la funzione da eseguire\n",
        "        p = Process(target = count_primes, args=(inizio + i*step, inizio + (i+1) * step))\n",
        "        \n",
        "        # facciamo partire il processo\n",
        "        p.start()\n",
        "        \n",
        "        # aggiungiamo il processo all'array\n",
        "        t.append(p)\n",
        "\n",
        "    # comunichiamo al programma di attendere la fine di tutti i processi prima di proseguire\n",
        "    for p in t: p.join()\n",
        "\n",
        "    tempo = time() - start # calcoliamo in tempo il tempo trascorso\n",
        "\n",
        "    print(f\"Tempo impiegato: {tempo:.2f} secondi\")"
      ],
      "metadata": {
        "colab": {
          "base_uri": "https://localhost:8080/"
        },
        "id": "VndD4zg-NQYt",
        "outputId": "8db98d93-1813-44ad-b1ca-fc1495f46506"
      },
      "execution_count": null,
      "outputs": [
        {
          "output_type": "stream",
          "name": "stdout",
          "text": [
            "In [1, 200001] ho trovato 17984 numeri primi\n",
            "In [200001, 400001] ho trovato 15876 numeri primi\n",
            "In [400001, 600001] ho trovato 15238 numeri primi\n",
            "In [600001, 800001] ho trovato 14853 numeri primi\n",
            "In [800001, 1000001] ho trovato 14547 numeri primi\n",
            "Tempo impiegato: 10.59 secondi\n"
          ]
        }
      ]
    },
    {
      "cell_type": "markdown",
      "source": [
        "Come si può vedere da quest'ultimo codice, le differenze sintattiche nell'uso dei processi e non dei thread sono lievi, basta richiamare il modulo **multiprocessing** e non **threading** e usare la classe **Process** anziché **Thread**.\n",
        "Inoltre bisogna far eseguire tutto il codice del processo principale solo appunto al main process. Questo lo si impone con l'istruzione\n",
        "\n",
        "> if \\_\\_name\\_\\_ == \"\\_\\_main\\_\\_\":\n",
        "\n",
        "Le differenze però terminano qui, ricordiamo che eseguendo il codice in multiprocessing ogni processo ha il suo spazio di memoria separato quindi la gestione/scambio di dati comuni cambia completamente. Infatti è stato rimosso dal codice il calcolo del numero totale di valori trovati.\n"
      ],
      "metadata": {
        "id": "LO7P2PHBIW__"
      }
    },
    {
      "cell_type": "markdown",
      "source": [
        "## Esercizi\n",
        "\n",
        "1.   Calcolare in modalità multithread le coppie di numeri amici presenti in un intervallo [a,b[. Ricordiamo che sono amici due numeri a e b se la somma dei divisori propri di a è uguale a b e viceversa.\n",
        "2.   Scrivere un programma per cercare all'interno di diversi file di testo salvati in una cartella una parola fornita in input. La ricerca deve essere fatta mediante l'attivazione di un thread per ogni file.\n",
        "\n"
      ],
      "metadata": {
        "id": "AN0UAXoDKqgS"
      }
    },
    {
      "cell_type": "markdown",
      "source": [
        "## Scambio dati tra thread\n",
        "\n",
        "Supponiamo ora di voler eseguire del codice su più thread ma di aver bisogno di scambiare dati tra questi. Ad esempio nell'esercizio sui numeri primi vogliamo calcolare il numero totale di valori trovati che è presente nella versione sequenziale.\n",
        "\n",
        "Per risolvere questo problema si possono usare diversi metodi in Python.\n",
        "\n",
        "Vediamoli brevemente:\n"
      ],
      "metadata": {
        "id": "UC9gAQ2GKW6B"
      }
    },
    {
      "cell_type": "markdown",
      "source": [
        "### Variabili globali\n",
        "\n",
        "Un primo metodo consiste nell'usare delle variabili globali. Ricordiamo che nell'istanziazione dell'oggetto Thread passiamo la funzione da eseguire ma non possiamo usare di questa un eventuale valore di return. Possiamo però usare una variabile globale e modificarla da dentro la funzione eseguita nel thread. Siccome i thread condividono lo stesso spazio di memoria possono anche accedere alle stesse variabili globali.\n",
        "Una prima soluzione può quindi essere la seguente:"
      ],
      "metadata": {
        "id": "MY-XGVagMKXq"
      }
    },
    {
      "cell_type": "code",
      "source": [
        "from threading import Thread\n",
        "from time import time\n",
        "\n",
        "def is_prime(x):\n",
        "    \"\"\" restituisce True se x è primo, False altrimenti \"\"\"\n",
        "    if x<2: return False\n",
        "    i = 2\n",
        "    while i*i <= x:\n",
        "        if x % i == 0: return False\n",
        "        i += 1\n",
        "    return True\n",
        "\n",
        "def count_primes(a,b):\n",
        "    \"\"\" Conta i numeri primi trovati all'interno dell'intervallo [a,b[ \"\"\"\n",
        "    global conta # variabile definita alla riga 24\n",
        "    count = 0\n",
        "    for i in range(a, b):\n",
        "        if is_prime(i):\n",
        "            count +=1\n",
        "    print(f\"In [{a}, {b}] ho trovato {count} numeri primi\")\n",
        "    conta += count\n",
        "    return count\n",
        "\n",
        "conta  = 0 # VARIABILE GLOBALE\n",
        "\n",
        "inizio = 1\n",
        "fine   = 1_000_000\n",
        "n      = 5 # numero di intervalli\n",
        "step   = (fine-inizio+1) // n # ampiezza di ogni intervallo\n",
        "\n",
        "start = time()\n",
        "\n",
        "# creiamo un array in cui memorizzare i vari thread\n",
        "t = []\n",
        "\n",
        "for i in range(n):\n",
        "\n",
        "    # creiamo un instanza della classe Thread e associamo la funzione da eseguire\n",
        "    thread = Thread(target = count_primes, args=(inizio + i*step, inizio + (i+1) * step))\n",
        "    \n",
        "    # facciamo partire il thread\n",
        "    thread.start()\n",
        "    \n",
        "    # aggiungiamo il thread all'array\n",
        "    t.append(thread)\n",
        "\n",
        "# comunichiamo al programma di attendere la fine di tutti i thread prima di proseguire\n",
        "for thread in t: thread.join()\n",
        "\n",
        "tempo = time() - start # calcoliamo in tempo il tempo trascorso\n",
        "\n",
        "print(f\"In [{inizio}, {fine}] ho trovato {conta} numeri primi\")\n",
        "print(f\"Tempo impiegato: {tempo:.2f} secondi\")"
      ],
      "metadata": {
        "colab": {
          "base_uri": "https://localhost:8080/"
        },
        "id": "bHk7gB4EWRtG",
        "outputId": "632400b8-8823-496c-e023-c8fe405d69f8"
      },
      "execution_count": null,
      "outputs": [
        {
          "output_type": "stream",
          "name": "stdout",
          "text": [
            "In [1, 200001] ho trovato 17984 numeri primi\n",
            "In [400001, 600001] ho trovato 15238 numeri primi\n",
            "In [200001, 400001] ho trovato 15876 numeri primi\n",
            "In [800001, 1000001] ho trovato 14547 numeri primi\n",
            "In [600001, 800001] ho trovato 14853 numeri primi\n",
            "In [1, 1000000] ho trovato 78498 numeri primi\n",
            "Tempo impiegato: 11.26 secondi\n"
          ]
        }
      ]
    },
    {
      "cell_type": "markdown",
      "source": [
        "Questa soluzione, apparentemente molto semplice, potrebbe creare dei problemi se eseguita in un ambiente multithread reale (ricordiamo che nelle versioni standard di Python di fatto i thread sono eseguiti uno alla volta per come è progettato l'interprete).\n",
        "\n",
        "Infatti che accadrebbe se l'istruzione *conta += count* venisse eseguita in contemporanea da due thread? Ognuno potrebbe prendere il valore iniziale di conta e incrementarlo del valore locale di count sovrascrivendo la modifica fatta dall'altro thread.\n",
        "\n",
        "Per evitare questo tipo di problemi vedremo più avanti anche il meccanismo del lock.\n"
      ],
      "metadata": {
        "id": "1QqB1spVXLMs"
      }
    },
    {
      "cell_type": "markdown",
      "source": [
        "### Uso di classi Thread\n",
        "\n",
        "Un secondo metodo, più elegante dell'uso delle variabili globali, consiste nello sfruttare la programmazione ad oggetti e la classe Thread.\n",
        "\n",
        "Si potrebbe creare una classe derivata da Thread contenente una funzione **run** che gestirà i calcoli da eseguire nel thread. Questa funzione però avrà accesso anche agli attributi della classe che possono anche essere accessibili dal main, quindi potremo salvare i conteggi come attrobui e sommarli tutti nel main.\n"
      ],
      "metadata": {
        "id": "BxgXdsTGYRqp"
      }
    },
    {
      "cell_type": "code",
      "source": [
        "from threading import Thread\n",
        "from time import time\n",
        "\n",
        "def is_prime(x):\n",
        "    \"\"\" restituisce True se x è primo, False altrimenti \"\"\"\n",
        "    if x<2: return False\n",
        "    i = 2\n",
        "    while i*i <= x:\n",
        "        if x % i == 0: return False\n",
        "        i += 1\n",
        "    return True\n",
        "\n",
        "def count_primes(a,b):\n",
        "    \"\"\" Conta i numeri primi trovati all'interno dell'intervallo [a,b[ \"\"\"\n",
        "    count = 0\n",
        "    for i in range(a, b):\n",
        "        if is_prime(i):\n",
        "            count +=1\n",
        "    print(f\"In [{a}, {b}] ho trovato {count} numeri primi\")\n",
        "    return count\n",
        "\n",
        "class MyThread(Thread):\n",
        "    \"\"\" Questa classe sarà istanziata nel main per attivare i thread \"\"\"\n",
        "    conta = 0\n",
        "    a = 0\n",
        "    b = 0\n",
        "\n",
        "    def __init__(self, a, b):\n",
        "        super().__init__()\n",
        "        self.a = a\n",
        "        self.b = b\n",
        "\n",
        "    def run(self):\n",
        "        self.conta = count_primes(self.a, self.b)\n",
        "\n",
        "inizio = 1\n",
        "fine   = 1_000_000\n",
        "n      = 5 # numero di intervalli\n",
        "step   = (fine-inizio+1) // n # ampiezza di ogni intervallo\n",
        "\n",
        "start = time()\n",
        "\n",
        "# creiamo un array in cui memorizzare i vari thread\n",
        "t = []\n",
        "\n",
        "for i in range(n):\n",
        "\n",
        "    # creiamo un instanza della classe Thread e associamo la funzione da eseguire\n",
        "    thread = MyThread(inizio + i*step, inizio + (i+1) * step)\n",
        "    \n",
        "    # facciamo partire il thread\n",
        "    thread.start()\n",
        "    \n",
        "    # aggiungiamo il thread all'array\n",
        "    t.append(thread)\n",
        "\n",
        "# comunichiamo al programma di attendere la fine di tutti i thread prima di proseguire\n",
        "for thread in t: thread.join()\n",
        "\n",
        "# Ora possiamo raccogliere da ogni oggetto thread i vari conteggi e sommarli\n",
        "conta = sum(th.conta for th in t)\n",
        "\n",
        "tempo = time() - start # calcoliamo in tempo il tempo trascorso\n",
        "\n",
        "\n",
        "print(f\"In [{inizio}, {fine}] ho trovato {conta} numeri primi\")\n",
        "print(f\"Tempo impiegato: {tempo:.2f} secondi\")"
      ],
      "metadata": {
        "colab": {
          "base_uri": "https://localhost:8080/"
        },
        "id": "owPrh9AGZEB2",
        "outputId": "aecd68ea-0ac5-43cc-95bf-17e5c43e10b0"
      },
      "execution_count": null,
      "outputs": [
        {
          "output_type": "stream",
          "name": "stdout",
          "text": [
            "In [1, 200001] ho trovato 17984 numeri primi\n",
            "In [200001, 400001] ho trovato 15876 numeri primi\n",
            "In [400001, 600001] ho trovato 15238 numeri primi\n",
            "In [600001, 800001] ho trovato 14853 numeri primi\n",
            "In [800001, 1000001] ho trovato 14547 numeri primi\n",
            "In [1, 1000000] ho trovato 78498 numeri primi\n",
            "Tempo impiegato: 11.21 secondi\n"
          ]
        }
      ]
    },
    {
      "cell_type": "markdown",
      "source": [
        "Questo metodo ha il vantaggio di dare maggiore flessibilità al codice e di permetterci in altri problemi di salvare più informazioni in modo semplice."
      ],
      "metadata": {
        "id": "TW5jjy_ndAVk"
      }
    },
    {
      "cell_type": "markdown",
      "source": [
        "### Uso di code (queue)\n",
        "\n",
        "Un altro metodo molto usato al posto delle variabili globali e che può essere applicato anche in contesti di thread Produttore-Consumatore, consiste nel condividere i dati tra thread mediante code.\n",
        "\n",
        "Python mette a disposizione un modulo queue che implementa una classe Queue strutturata in modo thread-safe, quindi con inclusi meccanismi di lock per garantire l'accesso corretto ai dati.\n",
        "\n",
        "Nell'esempio dei numeri primi potremo ad esempio usare un oggetto globale come coda in cui salvare i conteggi, oppure passarlo come argomento alla funzione count_primes.\n"
      ],
      "metadata": {
        "id": "0MKO5gXXJqok"
      }
    },
    {
      "cell_type": "code",
      "source": [
        "from threading import Thread\n",
        "from time import time\n",
        "from queue import Queue\n",
        "\n",
        "def is_prime(x):\n",
        "    \"\"\" restituisce True se x è primo, False altrimenti \"\"\"\n",
        "    if x<2: return False\n",
        "    i = 2\n",
        "    while i*i <= x:\n",
        "        if x % i == 0: return False\n",
        "        i += 1\n",
        "    return True\n",
        "\n",
        "def count_primes(a,b, q):\n",
        "    \"\"\" Conta i numeri primi trovati all'interno dell'intervallo [a,b[ \"\"\"\n",
        "    count = 0\n",
        "    for i in range(a, b):\n",
        "        if is_prime(i):\n",
        "            count +=1\n",
        "    print(f\"In [{a:8}, {b:8}] ho trovato {count} numeri primi\")\n",
        "    q.put(count)\n",
        "    return count\n",
        "\n",
        "coda  = Queue() # VARIABILE GLOBALE\n",
        "\n",
        "inizio = 1\n",
        "fine   = 1_000_000\n",
        "n      = 5 # numero di intervalli\n",
        "step   = (fine-inizio+1) // n # ampiezza di ogni intervallo\n",
        "\n",
        "start = time()\n",
        "\n",
        "# creiamo un array in cui memorizzare i vari thread\n",
        "t = []\n",
        "\n",
        "for i in range(n):\n",
        "\n",
        "    # creiamo un instanza della classe Thread e associamo la funzione da eseguire\n",
        "    thread = Thread(target = count_primes, args=(inizio + i*step, inizio + (i+1) * step, coda))\n",
        "    \n",
        "    # facciamo partire il thread\n",
        "    thread.start()\n",
        "    \n",
        "    # aggiungiamo il thread all'array\n",
        "    t.append(thread)\n",
        "\n",
        "# comunichiamo al programma di attendere la fine di tutti i thread prima di proseguire\n",
        "for thread in t: thread.join()\n",
        "\n",
        "# calcoliamo il conteggio finale\n",
        "conta = sum(coda.queue) # tenere presente che la coda non viene svuotata\n",
        "\n",
        "tempo = time() - start # calcoliamo in tempo il tempo trascorso\n",
        "\n",
        "print(f\"In [{inizio:8}, {fine:8}] ho trovato {conta} numeri primi\")\n",
        "print(f\"Tempo impiegato: {tempo:.2f} secondi\")"
      ],
      "metadata": {
        "colab": {
          "base_uri": "https://localhost:8080/"
        },
        "id": "sUsyqUHPL7WM",
        "outputId": "eb455bb6-7ec4-4988-db67-43d8f0b24d9d"
      },
      "execution_count": null,
      "outputs": [
        {
          "output_type": "stream",
          "name": "stdout",
          "text": [
            "In [       1,   200001] ho trovato 17984 numeri primi\n",
            "In [  200001,   400001] ho trovato 15876 numeri primi\n",
            "In [  400001,   600001] ho trovato 15238 numeri primi\n",
            "In [  600001,   800001] ho trovato 14853 numeri primi\n",
            "In [  800001,  1000001] ho trovato 14547 numeri primi\n",
            "In [       1,  1000000] ho trovato 78498 numeri primi\n",
            "Tempo impiegato: 11.22 secondi\n"
          ]
        }
      ]
    },
    {
      "cell_type": "markdown",
      "source": [
        "### Uso di oggetti o classi condivise\n",
        "\n",
        "Quando si ha necessità di scambiare diverse informazioni, in modo anche bidirezionale tra i vari thread, si potrebbe definire una classe contentente tutte le informazioni che i thread si devono scambiare e passare un'istanza di questa classe come argomento all'avvio dei thread oppure come variabile globale.\n",
        "\n",
        "Supponiamo ad esempio di voler calcolare i primi N numeri amici dividendo l'elaborazione tra più thread che analizzino diversi intervalli in parallelo.\n",
        "\n",
        "Vogliamo però interrompere i calcoli quando troviamo l'ennesima coppia. Per fare ciò è necessario che il contatore dei numeri sia condiviso tra i vari thread. Poi per leggibilità potremmo avere bisogno di una variabile booleana che segni la fine dell'elaborazione.\n",
        "\n",
        "Una possibile soluzione potrebbe quindi essere la seguente:\n"
      ],
      "metadata": {
        "id": "Ol3JslNz_VvX"
      }
    },
    {
      "cell_type": "code",
      "source": [
        "from threading import Thread\n",
        "\n",
        "def sum_dividers(x):\n",
        "    s = 1\n",
        "    i = 2\n",
        "    while i*i<x:\n",
        "        if x % i == 0: s += i + x//i\n",
        "        i += 1\n",
        "    if i*i==x: s += i\n",
        "    return s\n",
        "\n",
        "def have_a_friend(a):\n",
        "    b = sum_dividers(a)\n",
        "    return b if a == sum_dividers(b) else None\n",
        "\n",
        "def search_friends(a,b):\n",
        "    print(f\"Searching in [{a:7}:{b:7}]\")\n",
        "    for x in range(a,b):\n",
        "        if Share.end: break\n",
        "        y = have_a_friend(x)\n",
        "        if y != None and x<y:\n",
        "            Share.count += 1\n",
        "            if Share.count>=Share.number_of_friends: \n",
        "                Share.end = True\n",
        "            print(f\"{Share.count:2}) {x:7} - {y:7} are friends\")\n",
        "            \n",
        "\n",
        "class Share:\n",
        "    end = False\n",
        "    count = 0\n",
        "    number_of_friends = 20\n",
        "\n",
        "\n",
        "n = 5\n",
        "inizio = 2_000_001\n",
        "fine   = 3_000_000\n",
        "step   = (fine-inizio+1)//n\n",
        "print(f\"Step: {step}\")\n",
        "t = []\n",
        "for i in range(n):\n",
        "    thread = Thread(target = search_friends, args = (inizio+step*i, inizio+step*(i+1)))\n",
        "    t.append(thread)\n",
        "\n",
        "for thread in t: thread.start()\n",
        "for thread in t: thread.join()\n"
      ],
      "metadata": {
        "colab": {
          "base_uri": "https://localhost:8080/"
        },
        "id": "QOXbCmubA2nu",
        "outputId": "9ffd17c7-3fdb-45f5-f441-325b8c86663d"
      },
      "execution_count": null,
      "outputs": [
        {
          "output_type": "stream",
          "name": "stdout",
          "text": [
            "Step: 200000\n",
            "Searching in [2000001:2200001]\n",
            "Searching in [2200001:2400001]\n",
            "Searching in [2400001:2600001]\n",
            "Searching in [2600001:2800001]Searching in [2800001:3000001]\n",
            "\n",
            " 1) 2802416 - 2947216 are friends\n",
            " 2) 2803580 - 3716164 are friends\n",
            " 3) 2236570 - 2429030 are friends\n",
            " 4) 2652728 - 2941672 are friends\n",
            " 5) 2082464 - 2090656 are friends\n",
            " 6) 2723792 - 2874064 are friends\n",
            " 7) 2728726 - 3077354 are friends\n",
            " 8) 2739704 - 2928136 are friends\n"
          ]
        }
      ]
    },
    {
      "cell_type": "markdown",
      "source": [
        "Nelle righe 28-31 è stata definita la class Share. Questa non ha bisogno di metodi ma solamente di definire quali variabili vogliamo condividere tra i thread, quindi la booleana **end** per segnalare la fine dell'elebaorazione, il contatore **count** che verrà incrementato di 1 da ogni thread ogni qualvolta si trova una coppia di numeri amici e che non dovrà superare il valore memorizzato in **number_of_friends**, che volendo si potrebbe anche chiedere in input anziché impostarlo in modo statico (idem per le variabili inizio e fine).\n",
        "\n",
        "A nostra discrezione possiamo poi decidere se istanziare la classe e passare l'oggetto come argomento della funzione del thread, oppure, come fatto nell'esempio, accedere direttamente alle proprietà della classe senza peraltro aver bisogno di dichiarare variabili globali. Di fatto in questo caso la classe è statica."
      ],
      "metadata": {
        "id": "SwcvI3RyKZBD"
      }
    },
    {
      "cell_type": "markdown",
      "source": [
        "## Meccanismi di lock\n",
        "\n",
        "Nell'esecuzione di codice in multithreading si pone spesso il problema dell'accesso contemporaneo a variabili condivise oppure a risorse condivise (ad esempio un file su cui vogliono accedere in contemporanea più thread).\n",
        "\n",
        "In questi casi bisogna definire dei metodi che gestiscano quelle che in gergo informatico si chiamano *race conditions*, ovvero situazioni in cui l'accesso contemporaneo alla stessa risorsa può creare effetti indesiderati o compromettere la risorsa stessa.\n",
        "\n",
        "In Python il modulo **threading** mette a disposizione la classe **Lock** proprio per gestire queste situazioni. Mediante questa classe è possibile bloccare un thread sino a che un altro thread non rilasci una risorsa, e quando questa viene rilasciata è possibile per il thread in attesa bloccarla e prendere il controllo.\n",
        "\n",
        "Vediamo il tutto con un esempio che opera su file di testo. Nella cartella *data* sono presenti tre file con il testo completo della Divina Commedia. Vogliamo realizzare delle funzioni che operino sui file.\n"
      ],
      "metadata": {
        "id": "e2jb9dr1Oj3h"
      }
    },
    {
      "cell_type": "markdown",
      "source": [
        "### Esercizio svolto: Statistiche di testo\n",
        "\n",
        "Vogliamo definire in Python delle funzioni che leggano un file di testo ed eseguano delle statistiche e ricerche:\n",
        "\n",
        "1.   Conteggio righe\n",
        "2.   Conteggio lettere\n",
        "3.   Conteggio parole\n",
        "4.   Ricerca e conteggio delle righe in cui si trova una parola \n",
        "\n",
        "Per ciascuna statistica vogliamo sviluppare una funzione apposita.\n"
      ],
      "metadata": {
        "id": "29B-MhlXWOsZ"
      }
    },
    {
      "cell_type": "markdown",
      "source": [
        "**NOTA**: prima di eseguire gli esempi di codice proposti, caricare i file di testo nel runtime di questo notebook con i seguenti comandi:\n"
      ],
      "metadata": {
        "id": "T6E0lqZbzAo2"
      }
    },
    {
      "cell_type": "code",
      "source": [
        "!mkdir data\n",
        "!wget https://gist.githubusercontent.com/mdessolis/6b2a02b525761b7f16fcde5827c5c833/raw/e019b3c833dcf52fafd5464669a5233006fcfa12/inferno.txt -O data/inferno.txt\n",
        "!wget https://gist.githubusercontent.com/mdessolis/66d965c2b83f4880639ba77c73d10c99/raw/d6b86aa65ef1f6fc06350b22e3a9f33abaf9b165/purgatorio.txt -O data/purgatorio.txt\n",
        "!wget https://gist.githubusercontent.com/mdessolis/7d996ab4ba95488b29b724405c54cd00/raw/2110e2ced145de322f932e7c0f665a3c04e0833f/paradiso.txt -O data/paradiso.txt"
      ],
      "metadata": {
        "id": "JH3y2cdmzmMe",
        "outputId": "68a6388c-bba2-4167-d50d-5f22362105df",
        "colab": {
          "base_uri": "https://localhost:8080/"
        }
      },
      "execution_count": null,
      "outputs": [
        {
          "output_type": "stream",
          "name": "stdout",
          "text": [
            "--2023-04-12 09:42:36--  https://gist.githubusercontent.com/mdessolis/6b2a02b525761b7f16fcde5827c5c833/raw/e019b3c833dcf52fafd5464669a5233006fcfa12/inferno.txt\n",
            "Resolving gist.githubusercontent.com (gist.githubusercontent.com)... 185.199.108.133, 185.199.109.133, 185.199.110.133, ...\n",
            "Connecting to gist.githubusercontent.com (gist.githubusercontent.com)|185.199.108.133|:443... connected.\n",
            "HTTP request sent, awaiting response... 200 OK\n",
            "Length: 181467 (177K) [text/plain]\n",
            "Saving to: ‘data/inferno.txt’\n",
            "\n",
            "data/inferno.txt    100%[===================>] 177.21K  --.-KB/s    in 0.02s   \n",
            "\n",
            "2023-04-12 09:42:37 (11.3 MB/s) - ‘data/inferno.txt’ saved [181467/181467]\n",
            "\n",
            "--2023-04-12 09:42:37--  https://gist.githubusercontent.com/mdessolis/66d965c2b83f4880639ba77c73d10c99/raw/d6b86aa65ef1f6fc06350b22e3a9f33abaf9b165/purgatorio.txt\n",
            "Resolving gist.githubusercontent.com (gist.githubusercontent.com)... 185.199.108.133, 185.199.109.133, 185.199.110.133, ...\n",
            "Connecting to gist.githubusercontent.com (gist.githubusercontent.com)|185.199.108.133|:443... connected.\n",
            "HTTP request sent, awaiting response... 200 OK\n",
            "Length: 182282 (178K) [text/plain]\n",
            "Saving to: ‘data/purgatorio.txt’\n",
            "\n",
            "data/purgatorio.txt 100%[===================>] 178.01K  --.-KB/s    in 0.02s   \n",
            "\n",
            "2023-04-12 09:42:37 (10.2 MB/s) - ‘data/purgatorio.txt’ saved [182282/182282]\n",
            "\n",
            "--2023-04-12 09:42:37--  https://gist.githubusercontent.com/mdessolis/7d996ab4ba95488b29b724405c54cd00/raw/2110e2ced145de322f932e7c0f665a3c04e0833f/paradiso.txt\n",
            "Resolving gist.githubusercontent.com (gist.githubusercontent.com)... 185.199.108.133, 185.199.109.133, 185.199.110.133, ...\n",
            "Connecting to gist.githubusercontent.com (gist.githubusercontent.com)|185.199.108.133|:443... connected.\n",
            "HTTP request sent, awaiting response... 200 OK\n",
            "Length: 179456 (175K) [text/plain]\n",
            "Saving to: ‘data/paradiso.txt’\n",
            "\n",
            "data/paradiso.txt   100%[===================>] 175.25K  --.-KB/s    in 0.02s   \n",
            "\n",
            "2023-04-12 09:42:38 (10.0 MB/s) - ‘data/paradiso.txt’ saved [179456/179456]\n",
            "\n"
          ]
        }
      ]
    },
    {
      "cell_type": "code",
      "source": [
        "def count_lines(file):\n",
        "    \"\"\" stampa il numero di righe presenti nel file \"\"\"\n",
        "    c=sum(1 for riga in open(file))\n",
        "    print(f\"{file}: {c} righe\")\n",
        "\n",
        "def count_chars(file):\n",
        "    \"\"\" stampa il numero di caratteri presenti nel file \"\"\"\n",
        "    c=sum(len(riga) for riga in open(file))\n",
        "    print(f\"{file}: {c} caratteri\")\n",
        "\n",
        "def count_words(file):\n",
        "    \"\"\" stampa il numero di parole presenti nel file \"\"\"\n",
        "    c=0\n",
        "    for riga in open(file):\n",
        "        w = riga.split()\n",
        "        words = len(w)\n",
        "        c += words\n",
        "    print(f\"{file}: {c} parole\")\n",
        "\n",
        "def search_word(word, file):\n",
        "    \"\"\" elenca e conta le righe in cui si trova una parola \"\"\"\n",
        "    c = 0\n",
        "    i = 0\n",
        "    for riga in open(file):\n",
        "        i += 1\n",
        "        if word in riga:\n",
        "            c += 1\n",
        "            print(f\"{file}: riga {i:4}: {riga}\", end=\"\")\n",
        "    print(f\"{file}: {word} trovata in {c} righe\\n\")\n",
        "\n",
        "files = ['data/inferno.txt', 'data/purgatorio.txt', 'data/paradiso.txt']\n",
        "\n",
        "for file in files:\n",
        "    count_lines(file)\n",
        "    count_chars(file)\n",
        "    count_words(file)\n",
        "    search_word(\"stelle\", file)\n"
      ],
      "metadata": {
        "colab": {
          "base_uri": "https://localhost:8080/"
        },
        "id": "EAUu3wGKQKaO",
        "outputId": "c1db6aeb-7926-48e1-b24c-63ed68087f26"
      },
      "execution_count": null,
      "outputs": [
        {
          "output_type": "stream",
          "name": "stdout",
          "text": [
            "data/inferno.txt: 4894 righe\n",
            "data/inferno.txt: 179452 caratteri\n",
            "data/inferno.txt: 32413 parole\n",
            "data/inferno.txt: riga   46: e 'l sol montava 'n sù con quelle stelle\n",
            "data/inferno.txt: riga  319: risonavan per l'aere sanza stelle,\n",
            "data/inferno.txt: riga 2188: e torni a riveder le belle stelle,\n",
            "data/inferno.txt: riga 2716: per sua dimora; onde a guardar le stelle\n",
            "data/inferno.txt: riga 3693:   Tutte le stelle già de l'altro polo\n",
            "data/inferno.txt: riga 4894:   E quindi uscimmo a riveder le stelle.\n",
            "data/inferno.txt: stelle trovata in 6 righe\n",
            "\n",
            "data/purgatorio.txt: 4926 righe\n",
            "data/purgatorio.txt: 180271 caratteri\n",
            "data/purgatorio.txt: 32504 parole\n",
            "data/purgatorio.txt: riga   29: a l'altro polo, e vidi quattro stelle\n",
            "data/purgatorio.txt: riga  820:   giusto giudicio da le stelle caggia\n",
            "data/purgatorio.txt: riga 1103: pur là dove le stelle son più tarde,\n",
            "data/purgatorio.txt: riga 1108:   Ond'elli a me: \"Le quattro chiare stelle\n",
            "data/purgatorio.txt: riga 2432: che le stelle apparivan da più lati.\n",
            "data/purgatorio.txt: riga 2581: facea le stelle a noi parer più rade,\n",
            "data/purgatorio.txt: riga 3944: ma, per quel poco, vedea io le stelle\n",
            "data/purgatorio.txt: riga 4425: secondo che le stelle son compagne,\n",
            "data/purgatorio.txt: riga 4570:   \"Noi siam qui ninfe e nel ciel siamo stelle:\n",
            "data/purgatorio.txt: riga 4822: a darne tempo già stelle propinque,\n",
            "data/purgatorio.txt: riga 4926:   puro e disposto a salire alle stelle.\n",
            "data/purgatorio.txt: stelle trovata in 11 righe\n",
            "\n",
            "data/paradiso.txt: 4928 righe\n",
            "data/paradiso.txt: 177366 caratteri\n",
            "data/paradiso.txt: 31853 parole\n",
            "data/paradiso.txt: riga  290: multiplicata per le stelle spiega,\n",
            "data/paradiso.txt: riga  464: parer tornarsi l'anime a le stelle,\n",
            "data/paradiso.txt: riga 1017: in queste stelle che 'ntorno a lor vanno.\n",
            "data/paradiso.txt: riga 1142: che muovon queste stelle non son manchi,\n",
            "data/paradiso.txt: riga 1410: come stelle vicine a' fermi poli,\n",
            "data/paradiso.txt: riga 1784:   quindici stelle che 'n diverse plage\n",
            "data/paradiso.txt: riga 3237:   O gloriose stelle, o lume pregno\n",
            "data/paradiso.txt: riga 3657:   Da molte stelle mi vien questa luce;\n",
            "data/paradiso.txt: riga 4927:   l'amor che move il sole e l'altre stelle.\n",
            "data/paradiso.txt: stelle trovata in 9 righe\n",
            "\n"
          ]
        }
      ]
    },
    {
      "cell_type": "markdown",
      "source": [
        "Proviamo adesso ad eseguire in parallelo le tre funzioni, definendone una nuova, stats, che verrà eseguita in thread per ciascun file:"
      ],
      "metadata": {
        "id": "1E1cdg69bkts"
      }
    },
    {
      "cell_type": "code",
      "source": [
        "from threading import Thread\n",
        "\n",
        "def count_lines(file):\n",
        "    \"\"\" stampa il numero di righe presenti nel file \"\"\"\n",
        "    c=sum(1 for riga in open(file))\n",
        "    print(f\"{file:25}: {c} righe\")\n",
        "\n",
        "def count_chars(file):\n",
        "    \"\"\" stampa il numero di caratteri presenti nel file \"\"\"\n",
        "    c=sum(len(riga) for riga in open(file))\n",
        "    print(f\"{file:25}: {c} caratteri\")\n",
        "\n",
        "def count_words(file):\n",
        "    \"\"\" stampa il numero di parole presenti nel file \"\"\"\n",
        "    c=0\n",
        "    for riga in open(file):\n",
        "        w = riga.split() # isolo le parole\n",
        "        words = len(w)\n",
        "        c += words\n",
        "    print(f\"{file:25}: {c} parole\")\n",
        "\n",
        "def search_word(word, file):\n",
        "    \"\"\" elenca e conta le righe in cui si trova una parola \"\"\"\n",
        "    c = 0\n",
        "    i = 0\n",
        "    for riga in open(file):\n",
        "        i += 1\n",
        "        if word in riga:\n",
        "            c += 1\n",
        "            print(f\"{file:25}: riga {i:4}: {riga}\", end=\"\")\n",
        "    print(f\"{file:25}: {word} trovata in {c} righe\\n\")\n",
        "\n",
        "def stats(word, file):\n",
        "    count_lines(file)\n",
        "    count_chars(file)\n",
        "    count_words(file)\n",
        "    search_word(word, file)\n",
        "\n",
        "files = ['data/inferno.txt', 'data/purgatorio.txt', 'data/paradiso.txt']\n",
        "\n",
        "t = []\n",
        "for file in files:\n",
        "    t.append(Thread(target=stats, args=(\"stelle\",file)))\n",
        "\n",
        "for thread in t: thread.start()\n",
        "for thread in t: thread.join()\n",
        "\n"
      ],
      "metadata": {
        "colab": {
          "base_uri": "https://localhost:8080/"
        },
        "outputId": "cd8db8cc-d2fc-4384-f1e6-5b640e1ae44a",
        "id": "_aso5TmqbwIx"
      },
      "execution_count": null,
      "outputs": [
        {
          "output_type": "stream",
          "name": "stdout",
          "text": [
            "data/purgatorio.txt      : 4926 righe\n",
            "data/purgatorio.txt      : 180271 caratteridata/inferno.txt         : 4894 righe\n",
            "data/paradiso.txt        : 4928 righe\n",
            "\n",
            "data/purgatorio.txt      : 32504 parole\n",
            "data/purgatorio.txt      : riga   29: a l'altro polo, e vidi quattro stelle\n",
            "data/inferno.txt         : 179452 caratteri\n",
            "data/paradiso.txt        : 177366 caratteri\n",
            "data/purgatorio.txt      : riga  820:   giusto giudicio da le stelle caggia\n",
            "data/inferno.txt         : 32413 parole\n",
            "data/purgatorio.txt      : riga 1103: pur là dove le stelle son più tarde,\n",
            "data/paradiso.txt        : 31853 paroledata/inferno.txt         : riga   46: e 'l sol montava 'n sù con quelle stelle\n",
            "data/purgatorio.txt      : riga 1108:   Ond'elli a me: \"Le quattro chiare stelle\n",
            "data/purgatorio.txt      : riga 2432: che le stelle apparivan da più lati.\n",
            "\n",
            "data/inferno.txt         : riga  319: risonavan per l'aere sanza stelle,\n",
            "data/purgatorio.txt      : riga 2581: facea le stelle a noi parer più rade,\n",
            "data/inferno.txt         : riga 2188: e torni a riveder le belle stelle,\n",
            "data/purgatorio.txt      : riga 3944: ma, per quel poco, vedea io le stelle\n",
            "data/purgatorio.txt      : riga 4425: secondo che le stelle son compagne,\n",
            "data/inferno.txt         : riga 2716: per sua dimora; onde a guardar le stelle\n",
            "data/purgatorio.txt      : riga 4570:   \"Noi siam qui ninfe e nel ciel siamo stelle:\n",
            "data/paradiso.txt        : riga  290: multiplicata per le stelle spiega,\n",
            "data/purgatorio.txt      : riga 4822: a darne tempo già stelle propinque,\n",
            "data/inferno.txt         : riga 3693:   Tutte le stelle già de l'altro polo\n",
            "data/paradiso.txt        : riga  464: parer tornarsi l'anime a le stelle,\n",
            "data/paradiso.txt        : riga 1017: in queste stelle che 'ntorno a lor vanno.\n",
            "data/inferno.txt         : riga 4894:   E quindi uscimmo a riveder le stelle.\n",
            "data/purgatorio.txt      : riga 4926:   puro e disposto a salire alle stelle.\n",
            "data/paradiso.txt        : riga 1142: che muovon queste stelle non son manchi,\n",
            "data/inferno.txt         : stelle trovata in 6 righe\n",
            "data/purgatorio.txt      : stelle trovata in 11 righe\n",
            "\n",
            "data/paradiso.txt        : riga 1410: come stelle vicine a' fermi poli,\n",
            "data/paradiso.txt        : riga 1784:   quindici stelle che 'n diverse plage\n",
            "data/paradiso.txt        : riga 3237:   O gloriose stelle, o lume pregno\n",
            "data/paradiso.txt        : riga 3657:   Da molte stelle mi vien questa luce;\n",
            "data/paradiso.txt        : riga 4927:   l'amor che move il sole e l'altre stelle.\n",
            "data/paradiso.txt        : stelle trovata in 9 righe\n",
            "\n",
            "\n"
          ]
        }
      ]
    },
    {
      "cell_type": "markdown",
      "source": [
        "Come si può notare dall'output, il risultato è corretto ma, lavorando in multithreading alcune righe potrebbero non essere stampate bene e l'output di search_word viene spesso inframmezzato dagli output delle altre funzioni.\n",
        "\n",
        "Se si prova lo stesso esercizio in C++ si noterà come addirittura le righe potrebbero essere interrotte al loro interno da altre righe. Questo perché in C++ il multithreading è reale e i comandi di output funzionerebbero in contemporanea.\n",
        "\n",
        "Come già detto prima, in Python, a causa di come è progettato l'interprete, il multithreading non è di fatto tale, ma nelle future versioni potrebbe esserlo e in ogni caso già in questo esempio dobbiamo intervenire.\n",
        "\n",
        "Aggiungiamo quindi al codice un oggetto di classe **Lock** e impostiamo nelle funzioni che quando si deve stampare qualcosa se ne chieda l'accesso esclusivo: "
      ],
      "metadata": {
        "id": "k3KsBfJHi3mo"
      }
    },
    {
      "cell_type": "code",
      "source": [
        "from threading import Thread, Lock\n",
        "\n",
        "def count_lines(file):\n",
        "    \"\"\" stampa il numero di righe presenti nel file \"\"\"\n",
        "    global lock\n",
        "    c=sum(1 for riga in open(file))\n",
        "    lock.acquire()\n",
        "    print(f\"{file:25}: {c} righe\")\n",
        "    lock.release()\n",
        "\n",
        "def count_chars(file):\n",
        "    \"\"\" stampa il numero di caratteri presenti nel file \"\"\"\n",
        "    global lock\n",
        "    c=sum(len(riga) for riga in open(file))\n",
        "    lock.acquire()\n",
        "    print(f\"{file:25}: {c} caratteri\")\n",
        "    lock.release()\n",
        "\n",
        "def count_words(file):\n",
        "    \"\"\" stampa il numero di parole presenti nel file \"\"\"\n",
        "    global lock\n",
        "    c=0\n",
        "    for riga in open(file):\n",
        "        w = riga.split() # isolo le parole\n",
        "        words = len(w)\n",
        "        c += words\n",
        "    lock.acquire()\n",
        "    print(f\"{file:25}: {c} parole\")\n",
        "    lock.release()\n",
        "\n",
        "def search_word(word, file):\n",
        "    \"\"\" elenca e conta le righe in cui si trova una parola \"\"\"\n",
        "    c = 0\n",
        "    i = 0\n",
        "    for riga in open(file):\n",
        "        i += 1\n",
        "        if word in riga:\n",
        "            c += 1\n",
        "            print(f\"{file:25}: riga {i:4}: {riga}\", end=\"\")\n",
        "    print(f\"{file:25}: {word} trovata in {c} righe\\n\")\n",
        "\n",
        "def stats(word, file):\n",
        "    global lock # in alternativa la si può anche passare come argomento\n",
        "    count_lines(file)\n",
        "    count_chars(file)\n",
        "    count_words(file)\n",
        "    lock.acquire()\n",
        "    search_word(word, file)\n",
        "    lock.release()\n",
        "\n",
        "lock = Lock() # definiamo una variabile globale per gestire il lock dei thread\n",
        "\n",
        "files = ['data/inferno.txt', 'data/purgatorio.txt', 'data/paradiso.txt']\n",
        "\n",
        "t = []\n",
        "for file in files:\n",
        "    t.append(Thread(target=stats, args=(\"stelle\",file)))\n",
        "\n",
        "for thread in t: thread.start()\n",
        "for thread in t: thread.join()"
      ],
      "metadata": {
        "colab": {
          "base_uri": "https://localhost:8080/"
        },
        "id": "mcoT-uLokzvi",
        "outputId": "1e52bcd5-b8af-4409-9bca-bc53ffcaf09c"
      },
      "execution_count": null,
      "outputs": [
        {
          "output_type": "stream",
          "name": "stdout",
          "text": [
            "data/inferno.txt         : 4894 righe\n",
            "data/inferno.txt         : 179452 caratteri\n",
            "data/purgatorio.txt      : 4926 righe\n",
            "data/paradiso.txt        : 4928 righe\n",
            "data/purgatorio.txt      : 180271 caratteri\n",
            "data/inferno.txt         : 32413 parole\n",
            "data/inferno.txt         : riga   46: e 'l sol montava 'n sù con quelle stelle\n",
            "data/inferno.txt         : riga  319: risonavan per l'aere sanza stelle,\n",
            "data/inferno.txt         : riga 2188: e torni a riveder le belle stelle,\n",
            "data/inferno.txt         : riga 2716: per sua dimora; onde a guardar le stelle\n",
            "data/inferno.txt         : riga 3693:   Tutte le stelle già de l'altro polo\n",
            "data/inferno.txt         : riga 4894:   E quindi uscimmo a riveder le stelle.\n",
            "data/inferno.txt         : stelle trovata in 6 righe\n",
            "\n",
            "data/paradiso.txt        : 177366 caratteri\n",
            "data/purgatorio.txt      : 32504 parole\n",
            "data/purgatorio.txt      : riga   29: a l'altro polo, e vidi quattro stelle\n",
            "data/purgatorio.txt      : riga  820:   giusto giudicio da le stelle caggia\n",
            "data/purgatorio.txt      : riga 1103: pur là dove le stelle son più tarde,\n",
            "data/purgatorio.txt      : riga 1108:   Ond'elli a me: \"Le quattro chiare stelle\n",
            "data/purgatorio.txt      : riga 2432: che le stelle apparivan da più lati.\n",
            "data/purgatorio.txt      : riga 2581: facea le stelle a noi parer più rade,\n",
            "data/purgatorio.txt      : riga 3944: ma, per quel poco, vedea io le stelle\n",
            "data/purgatorio.txt      : riga 4425: secondo che le stelle son compagne,\n",
            "data/purgatorio.txt      : riga 4570:   \"Noi siam qui ninfe e nel ciel siamo stelle:\n",
            "data/purgatorio.txt      : riga 4822: a darne tempo già stelle propinque,\n",
            "data/purgatorio.txt      : riga 4926:   puro e disposto a salire alle stelle.\n",
            "data/purgatorio.txt      : stelle trovata in 11 righe\n",
            "\n",
            "data/paradiso.txt        : 31853 parole\n",
            "data/paradiso.txt        : riga  290: multiplicata per le stelle spiega,\n",
            "data/paradiso.txt        : riga  464: parer tornarsi l'anime a le stelle,\n",
            "data/paradiso.txt        : riga 1017: in queste stelle che 'ntorno a lor vanno.\n",
            "data/paradiso.txt        : riga 1142: che muovon queste stelle non son manchi,\n",
            "data/paradiso.txt        : riga 1410: come stelle vicine a' fermi poli,\n",
            "data/paradiso.txt        : riga 1784:   quindici stelle che 'n diverse plage\n",
            "data/paradiso.txt        : riga 3237:   O gloriose stelle, o lume pregno\n",
            "data/paradiso.txt        : riga 3657:   Da molte stelle mi vien questa luce;\n",
            "data/paradiso.txt        : riga 4927:   l'amor che move il sole e l'altre stelle.\n",
            "data/paradiso.txt        : stelle trovata in 9 righe\n",
            "\n"
          ]
        }
      ]
    },
    {
      "cell_type": "markdown",
      "source": [
        "Con il lock ora l'output è più ordinato, avendo imposto che quando search_word è in funzione, nessun altro thread può stampare.\n",
        "\n",
        "In ogni funzione è stato quindi inserito un comando **lock.acquire()** per bloccare l'esecuzione della funzione sino a che il lock sia libero. Una volta ottenuto il lock l'esecuzione può proseguire e, terminato il blocco di istruzioni vincolate, bisogna ricordarsi *assolutamente* di rilasciare il lock con **lock.release()**, altrimenti gli altri thread potrebbero rimanere in attesa per tempo indefinito.\n",
        "\n",
        "Volendo si può usare anche una sintassi più breve ed elegante della variabile lock tramite il comando **with**. Con questo viene esplicitato meglio il blocco di istruzioni da porre in lock e viene gestito in automatico sia **acquire** che **release**.\n",
        "\n",
        "```\n",
        "with lock:\n",
        "    # istruzioni da eseguire con lock attivo\n",
        "    # sia acquire() che release() vengono gestiti in automatico\n",
        "```\n",
        "\n",
        "Ecco la nuova versione del codice usando with:"
      ],
      "metadata": {
        "id": "FRvMJW9Cl9a8"
      }
    },
    {
      "cell_type": "code",
      "source": [
        "from threading import Thread, Lock\n",
        "\n",
        "def count_lines(file):\n",
        "    \"\"\" stampa il numero di righe presenti nel file \"\"\"\n",
        "    global lock\n",
        "    c=sum(1 for riga in open(file))\n",
        "    with lock:\n",
        "        print(f\"{file:25}: {c} righe\")\n",
        "\n",
        "def count_chars(file):\n",
        "    \"\"\" stampa il numero di caratteri presenti nel file \"\"\"\n",
        "    global lock\n",
        "    c=sum(len(riga) for riga in open(file))\n",
        "    with lock:\n",
        "        print(f\"{file:25}: {c} caratteri\")\n",
        "\n",
        "def count_words(file):\n",
        "    \"\"\" stampa il numero di parole presenti nel file \"\"\"\n",
        "    global lock\n",
        "    c=0\n",
        "    for riga in open(file):\n",
        "        w = riga.split() # isolo le parole\n",
        "        words = len(w)\n",
        "        c += words\n",
        "    with lock:\n",
        "        print(f\"{file:25}: {c} parole\")\n",
        "    \n",
        "\n",
        "def search_word(word, file):\n",
        "    \"\"\" elenca e conta le righe in cui si trova una parola \"\"\"\n",
        "    c = 0\n",
        "    i = 0\n",
        "    for riga in open(file):\n",
        "        i += 1\n",
        "        if word in riga:\n",
        "            c += 1\n",
        "            print(f\"{file:25}: riga {i:4}: {riga}\", end=\"\")\n",
        "    print(f\"{file:25}: {word} trovata in {c} righe\\n\")\n",
        "\n",
        "def stats(word, file):\n",
        "    global lock # in alternativa la si può anche passare come argomento\n",
        "    count_lines(file)\n",
        "    count_chars(file)\n",
        "    count_words(file)\n",
        "    with lock:\n",
        "        search_word(word, file)\n",
        "    \n",
        "\n",
        "lock = Lock() # definiamo una variabile globale per gestire il lock dei thread\n",
        "\n",
        "files = ['data/inferno.txt', 'data/purgatorio.txt', 'data/paradiso.txt']\n",
        "\n",
        "t = []\n",
        "for file in files:\n",
        "    t.append(Thread(target=stats, args=(\"stelle\",file)))\n",
        "\n",
        "for thread in t: thread.start()\n",
        "for thread in t: thread.join()"
      ],
      "metadata": {
        "colab": {
          "base_uri": "https://localhost:8080/"
        },
        "id": "tR1-kd1-oGhB",
        "outputId": "39fd96f0-76d5-4729-8d19-7552f47d3612"
      },
      "execution_count": null,
      "outputs": [
        {
          "output_type": "stream",
          "name": "stdout",
          "text": [
            "data/inferno.txt         : 4894 righe\n",
            "data/inferno.txt         : 179452 caratteri\n",
            "data/inferno.txt         : 32413 parole\n",
            "data/inferno.txt         : riga   46: e 'l sol montava 'n sù con quelle stelle\n",
            "data/inferno.txt         : riga  319: risonavan per l'aere sanza stelle,\n",
            "data/inferno.txt         : riga 2188: e torni a riveder le belle stelle,\n",
            "data/inferno.txt         : riga 2716: per sua dimora; onde a guardar le stelle\n",
            "data/inferno.txt         : riga 3693:   Tutte le stelle già de l'altro polo\n",
            "data/inferno.txt         : riga 4894:   E quindi uscimmo a riveder le stelle.\n",
            "data/inferno.txt         : stelle trovata in 6 righe\n",
            "\n",
            "data/purgatorio.txt      : 4926 righe\n",
            "data/paradiso.txt        : 4928 righe\n",
            "data/purgatorio.txt      : 180271 caratteri\n",
            "data/paradiso.txt        : 177366 caratteri\n",
            "data/purgatorio.txt      : 32504 parole\n",
            "data/purgatorio.txt      : riga   29: a l'altro polo, e vidi quattro stelle\n",
            "data/purgatorio.txt      : riga  820:   giusto giudicio da le stelle caggia\n",
            "data/purgatorio.txt      : riga 1103: pur là dove le stelle son più tarde,\n",
            "data/purgatorio.txt      : riga 1108:   Ond'elli a me: \"Le quattro chiare stelle\n",
            "data/purgatorio.txt      : riga 2432: che le stelle apparivan da più lati.\n",
            "data/purgatorio.txt      : riga 2581: facea le stelle a noi parer più rade,\n",
            "data/purgatorio.txt      : riga 3944: ma, per quel poco, vedea io le stelle\n",
            "data/purgatorio.txt      : riga 4425: secondo che le stelle son compagne,\n",
            "data/purgatorio.txt      : riga 4570:   \"Noi siam qui ninfe e nel ciel siamo stelle:\n",
            "data/purgatorio.txt      : riga 4822: a darne tempo già stelle propinque,\n",
            "data/purgatorio.txt      : riga 4926:   puro e disposto a salire alle stelle.\n",
            "data/purgatorio.txt      : stelle trovata in 11 righe\n",
            "\n",
            "data/paradiso.txt        : 31853 parole\n",
            "data/paradiso.txt        : riga  290: multiplicata per le stelle spiega,\n",
            "data/paradiso.txt        : riga  464: parer tornarsi l'anime a le stelle,\n",
            "data/paradiso.txt        : riga 1017: in queste stelle che 'ntorno a lor vanno.\n",
            "data/paradiso.txt        : riga 1142: che muovon queste stelle non son manchi,\n",
            "data/paradiso.txt        : riga 1410: come stelle vicine a' fermi poli,\n",
            "data/paradiso.txt        : riga 1784:   quindici stelle che 'n diverse plage\n",
            "data/paradiso.txt        : riga 3237:   O gloriose stelle, o lume pregno\n",
            "data/paradiso.txt        : riga 3657:   Da molte stelle mi vien questa luce;\n",
            "data/paradiso.txt        : riga 4927:   l'amor che move il sole e l'altre stelle.\n",
            "data/paradiso.txt        : stelle trovata in 9 righe\n",
            "\n"
          ]
        }
      ]
    },
    {
      "cell_type": "markdown",
      "source": [
        "## Pattern Produttore-Consumatore\n",
        "\n",
        "Nell'ambito della programmazione multithreading c'è un tipo di problema che compare di frequente.\n",
        "\n",
        "E' quello in cui uno o più thread generano dei dati e uno o più altri thread invece li elaborano.\n",
        "\n",
        "Pensiamo ad esempio ad un programma di videoscrittura: ci può essere un thread che gestisce l'input da tastiera (produttore) e un thread (consumatore) che controlla l'ortografia, un altro che gestisce l'impaginazione sullo schermo, un terzo che fa il salvataggio automatico dei dati, e così via.\n",
        "\n",
        "Oppure un programma in cui si ricevono dei testi contemporaneamente (produttori) che vengono elaborati da un unico thread per farne delle statistiche (consumatore).\n",
        "\n",
        "In tutti questi casi di solito si deve gestire una struttura dati, di solito una coda, per consentire lo scambio dei dati tra thread produttore e thread consumatore, e bisogna definire una qualche strategia per stabilire quando e come far terminare i thread.\n",
        "\n",
        "La struttura base del codice sarà quindi di questo tipo:\n",
        "\n",
        "```\n",
        "from threading import Thread\n",
        "from queue import Queue\n",
        "\n",
        "def Producer(q):\n",
        "    global fine\n",
        "    while not fine:\n",
        "        ...\n",
        "        data = ...\n",
        "        q.put(data)\n",
        "        if ... :\n",
        "            fine = True\n",
        "\n",
        "def Consumer(q):\n",
        "    global fine\n",
        "    while not fine or not q.empty():\n",
        "        if not q.empty():\n",
        "            data = q.get()\n",
        "            ...\n",
        "\n",
        "coda = Queue()\n",
        "fine = False\n",
        "\n",
        "producer = Thread(target=Producer, args=(coda,))\n",
        "consumer = Thread(target=Consumer, args=(coda,))\n",
        "\n",
        "producer.start()\n",
        "consumer.start()\n",
        "\n",
        "producer.join()\n",
        "consumer.join()\n",
        "```\n",
        "\n",
        "La funzione thread Producer crea un ciclo che prevederà un controllo per stabilire quando terminarlo, ponendo la variabile globale fine a True.\n",
        "\n",
        "In parallelo la funzione Consumer farà partire un altro ciclo che si interromperà quando rileverà che la variabile globale fine sia diventata False (e sarà il producer a determinarlo, per esempio quando termina la lettura di un file).\n",
        "\n",
        "Il producer inoltre nelle istruzioni del ciclo avrà anche il compito di inserire nella coda q gli elementi che produrrà, elementi che verranno poi letti, in ordine di arrivo, dal consumer.\n",
        "\n",
        "Anziché usare delle funzioni per i thread, volendo si possono definire delle classi derivate da Thread, molto più convenienti se si hanno da gestire diversi tipi di dati:\n",
        "\n",
        "```\n",
        "from threading import Thread\n",
        "from queue import Queue\n",
        "\n",
        "class Producer(Thread):\n",
        "    ... attributi di classe\n",
        "    q = None\n",
        "\n",
        "    def __init__(self, q):\n",
        "        super().__init__()\n",
        "        self.q = q\n",
        "\n",
        "    def run(self):\n",
        "        global fine\n",
        "        while not fine:\n",
        "            ...\n",
        "            data = ...\n",
        "            self.q.put(data)\n",
        "            if ... :\n",
        "                fine = True\n",
        "\n",
        "class Consumer(Thread):\n",
        "    ... attributi di classe\n",
        "    q = None\n",
        "\n",
        "    def __init__(self, q):\n",
        "        super().__init__()\n",
        "        self.q = q\n",
        "\n",
        "    def run(self):\n",
        "        global fine\n",
        "        while not fine or not self.q.empty():\n",
        "            if not self.q.empty():\n",
        "                data = self.q.get()\n",
        "                ...\n",
        "\n",
        "coda = Queue()\n",
        "fine = False\n",
        "\n",
        "producer = Producer(coda)\n",
        "consumer = Consumer(coda)\n",
        "\n",
        "producer.start()\n",
        "consumer.start()\n",
        "\n",
        "producer.join()\n",
        "consumer.join()\n",
        "```"
      ],
      "metadata": {
        "id": "nqXEWaL9o8-D"
      }
    },
    {
      "cell_type": "markdown",
      "source": [
        "### Esercizio svolto: Conta parole e righe\n",
        "\n",
        "Vogliamo realizzare un programma che ci consenta di ricevere in input un testo e calcolarne il numero di righe e di parole contenute in esso.\n",
        "\n",
        "Questo è un problema che potrebbe tranquillamente essere risolto in forma sequenziale, senza uso di thread. Però lo vogliamo risolvere in mutithreading per renderlo più flessibile con piccole modifiche, ad esempio per ricevere contemporaneamente il testo da più file o da un url, oppure in input da tastiera.\n",
        "\n",
        "Sviluppiamo quindi una funzione produttore che si occupi solamente di ricevere il testo riga per riga e inserirlo in coda.\n",
        "\n",
        "Una funzione consumatore, in parallelo, riceverà le righe ed effettuerà i calcoli richiesti. Il consumatore però non è tenuto a sapere la sorgente delle righe, può essere un file, un url, un input da tastiera, è completamente autonoma dall'input.\n",
        "\n"
      ],
      "metadata": {
        "id": "M2tIyIYzu43P"
      }
    },
    {
      "cell_type": "code",
      "source": [
        "from threading import Thread\n",
        "from queue import Queue\n",
        "\n",
        "def Producer(q, file):\n",
        "    \"\"\" legge le righe di un file di testo e le inserisce in una coda \"\"\"\n",
        "    global fine\n",
        "    for riga in  open(file):\n",
        "        q.put(riga)\n",
        "    fine = True\n",
        "\n",
        "def Consumer(q):\n",
        "    \"\"\" legge le righe presenti in coda e le elabora \"\"\"\n",
        "    global fine\n",
        "    rows = 0\n",
        "    words = 0\n",
        "    while not fine or not q.empty():\n",
        "        if not q.empty():\n",
        "            rows += 1\n",
        "            riga = q.get()\n",
        "            w = riga.split() # w è una lista con le parole separate\n",
        "            words += len(w)  # len(w) ci dice quante parole ci sono nella riga\n",
        "    print(f\"Rows : {rows:6}\")\n",
        "    print(f\"Words: {words:6}\")\n",
        "\n",
        "coda = Queue()\n",
        "fine = False\n",
        "file = \"sample_data/mnist_test.csv\"\n",
        "\n",
        "producer = Thread(target=Producer, args=(coda, file))\n",
        "consumer = Thread(target=Consumer, args=(coda,))\n",
        "\n",
        "producer.start()\n",
        "consumer.start()\n",
        "\n",
        "producer.join()\n",
        "consumer.join()"
      ],
      "metadata": {
        "colab": {
          "base_uri": "https://localhost:8080/"
        },
        "id": "mirfld7ZxIGm",
        "outputId": "5d67ff96-1478-4858-d7f4-9d26c0ad7a3b"
      },
      "execution_count": null,
      "outputs": [
        {
          "output_type": "stream",
          "name": "stdout",
          "text": [
            "Rows :  10000\n",
            "Words:  10000\n"
          ]
        }
      ]
    },
    {
      "cell_type": "markdown",
      "source": [
        "Nel caso in cui volessimo analizzare i testi provenienti da più file potremmo eseguire più produttori lasciando inalterato il codice del consumatore, in quanto questo accede solo alla coda.\n",
        "\n",
        "Si porrebbe però in questo caso un problema legato all'interruzione dell'elaborazione, poiché il primo produttore che termina la lettura del proprio file metterebbe la variabile globale *fine* a True facendo terminare il consumatore prima che gli altri produttori finiscano la loro elaborazione.\n",
        "\n",
        "Per ovviare a questo ci sono diverse soluzioni, tra cui anche una classe apposita Barrier presente nel modulo *threading*.\n",
        "\n",
        "Qui però per semplicità ci basterà trasformare la variabile fine in una lista di booleane ciascuna associata ad un produttore e modificheremo di conseguenza il consumatore per interrompere l'elaborazione solo quando tutti i produttori hanno terminato e quindi tutte le booleane della lista sono True.\n"
      ],
      "metadata": {
        "id": "b36L3yJi3tOV"
      }
    },
    {
      "cell_type": "code",
      "source": [
        "from threading import Thread\n",
        "from queue import Queue\n",
        "\n",
        "def Producer(id, q, file):\n",
        "    \"\"\" legge le righe di un file di testo e le inserisce in una coda \"\"\"\n",
        "    global fine\n",
        "    for riga in  open(file):\n",
        "        q.put(riga)\n",
        "    fine[id] = True # tramite l'id sappiamo quale boolean di fine impostare\n",
        "\n",
        "def Consumer(q):\n",
        "    \"\"\" legge le righe presenti in coda e le elabora \"\"\"\n",
        "    global fine\n",
        "    rows = 0\n",
        "    words = 0\n",
        "    while not all(fine) or not q.empty(): \n",
        "        if not q.empty():\n",
        "            rows += 1\n",
        "            riga = q.get()\n",
        "            w = riga.split() # w è una lista con le parole separate\n",
        "            words += len(w)  # len(w) ci dice quante parole ci sono nella riga\n",
        "    print(f\"Rows : {rows:6}\")\n",
        "    print(f\"Words: {words:6}\")\n",
        "\n",
        "coda = Queue()\n",
        "fine = [False, False]\n",
        "file = [\"sample_data/mnist_test.csv\", \"sample_data/california_housing_test.csv\"]\n",
        "\n",
        "producer0 = Thread(target=Producer, args=(0, coda, file[0]))\n",
        "producer1 = Thread(target=Producer, args=(1, coda, file[1]))\n",
        "consumer = Thread(target=Consumer, args=(coda,))\n",
        "\n",
        "producer0.start()\n",
        "producer1.start()\n",
        "consumer.start()\n",
        "\n",
        "producer0.join()\n",
        "producer1.join()\n",
        "consumer.join()"
      ],
      "metadata": {
        "colab": {
          "base_uri": "https://localhost:8080/"
        },
        "id": "pPvFZVFVtX_b",
        "outputId": "b8594385-ebb9-4af1-f917-fa70afc297e9"
      },
      "execution_count": null,
      "outputs": [
        {
          "output_type": "stream",
          "name": "stdout",
          "text": [
            "Rows :  13001\n",
            "Words:  13001\n"
          ]
        }
      ]
    },
    {
      "cell_type": "markdown",
      "source": [
        "Questa versione ci consente di far funzionare il codice correttamente sia con un solo produttore che con più produttori.\n",
        "\n",
        "Vediamo ora, per finire, la stessa soluzione svolta però con l'uso di classi derivate da Thread anziché funzioni thread."
      ],
      "metadata": {
        "id": "2hquI5-d0Hig"
      }
    },
    {
      "cell_type": "code",
      "source": [
        "from threading import Thread\n",
        "from queue import Queue\n",
        "\n",
        "class Producer(Thread):\n",
        "    id = 0\n",
        "    q  = None\n",
        "    file = \"\"\n",
        "\n",
        "    def __init__(self, id, q, file):\n",
        "        super().__init__()\n",
        "        self.id = id\n",
        "        self.q  = q\n",
        "        self.file = file\n",
        "\n",
        "    def run(self):\n",
        "        \"\"\" legge le righe di un file di testo e le inserisce in una coda \"\"\"\n",
        "        global fine\n",
        "        for riga in  open(self.file):\n",
        "            self.q.put(riga)\n",
        "        fine[self.id] = True # tramite l'id sappiamo quale boolean di fine impostare\n",
        "\n",
        "class Consumer(Thread):\n",
        "    q = None\n",
        "\n",
        "    def __init__(self, q):\n",
        "        super().__init__()\n",
        "        self.q = q \n",
        "\n",
        "    def run(self):\n",
        "        \"\"\" legge le righe presenti in coda e le elabora \"\"\"\n",
        "        global fine\n",
        "        rows = 0\n",
        "        words = 0\n",
        "        while not all(fine) or not self.q.empty(): \n",
        "            if not self.q.empty():\n",
        "                rows += 1\n",
        "                riga = self.q.get()\n",
        "                w = riga.split() # w è una lista con le parole separate\n",
        "                words += len(w)  # len(w) ci dice quante parole ci sono nella riga\n",
        "        print(f\"Rows : {rows:6}\")\n",
        "        print(f\"Words: {words:6}\")\n",
        "\n",
        "coda = Queue()\n",
        "fine = [False, False]\n",
        "file = [\"sample_data/mnist_test.csv\", \"sample_data/california_housing_test.csv\"]\n",
        "\n",
        "producer0 = Producer(0, coda, file[0])\n",
        "producer1 = Producer(1, coda, file[1])\n",
        "consumer = Consumer(coda)\n",
        "\n",
        "producer0.start()\n",
        "producer1.start()\n",
        "consumer.start()\n",
        "\n",
        "producer0.join()\n",
        "producer1.join()\n",
        "consumer.join()"
      ],
      "metadata": {
        "colab": {
          "base_uri": "https://localhost:8080/"
        },
        "id": "6D8coPg_0lUT",
        "outputId": "d04ca65b-6b78-48b3-dff9-9e34e301c398"
      },
      "execution_count": null,
      "outputs": [
        {
          "output_type": "stream",
          "name": "stdout",
          "text": [
            "Rows :  13001\n",
            "Words:  13001\n"
          ]
        }
      ]
    },
    {
      "cell_type": "markdown",
      "source": [
        "## Esercizi\n",
        "\n",
        "1.   Modificare l'esercizio precedente di lettura testi per calcolare anche il numero di caratteri alfabetici trovati\n",
        "2.   Aggiungere all'esercizio precedente di lettura testi una classe o funzione ProducerKeyboard che riceva le righe di testo in input da tastiera anziché da file. L'input termina quando si inserisce una riga composta solo del carattere \".\"\n",
        "3.   Scrivere un programma produttore-consumatore in cui il produttore genera una sequenza di numeri interi random compresi tra 1 e 100 e il consumatore deve determinare minimo, massimo e valore medio.\n",
        "4.   Scrivere un programma produttore-consumatore in cui il produttore genera una sequenza di numeri interi random compresi tra 1 e 100 e il consumatore deve determinare il numero che compare con maggior frequenza.\n",
        "\n"
      ],
      "metadata": {
        "id": "GrPWi9t_AOV_"
      }
    },
    {
      "cell_type": "markdown",
      "source": [
        "### Esercizio svolto: simulazione della coda a uno o più sportelli\n",
        "\n",
        "Si voglia simulare per un certo periodo di tempo la coda che si formerebbe agli sportelli di un supermercato/ufficio.\n",
        "\n",
        "Il programma deve simulare l'ingresso di una persona ogni x (random) secondi e assegnare a questa un numero e metterla in coda.\n",
        "\n",
        "Ci sono poi una o più casse che, quando libere, ricevono una persona dalla coda e la servono per un tempo random di y secondi.\n",
        "\n",
        "Il programma deve mostrare ad ogni aggiornamento la situazione delle casse e della coda.\n",
        "\n",
        "Questo è un problema che si presta molto bene ad essere gestito in multithreading o multiprocessing in quanto l'attività svolta dai movimenti all'ingresso e dai singoli sportelli avviene in contemporanea.\n",
        "\n",
        "E' inoltre un classico problema di produttore/consumatore. Il thread produttore è quello che simula gli ingressi in coda, il/i thread consumatore sono invece quelli che gestiscono ogni singola cassa. \n",
        "\n",
        "In questo caso abbiamo, a differenza degli esercizi precedenti sull'analisi di testi, un solo produttore e uno o più consumatori, quindi possiamo anche usare una variabile semplice booleana fine per terminare le operazioni.\n",
        "\n"
      ],
      "metadata": {
        "id": "C8rua0u6O5bj"
      }
    },
    {
      "cell_type": "markdown",
      "source": [
        "Per iniziare definiamo gli import di cui abbiamo bisogno:"
      ],
      "metadata": {
        "id": "EczN8zPTRotI"
      }
    },
    {
      "cell_type": "code",
      "source": [
        "from threading import Thread, Lock\n",
        "from time import time, sleep\n",
        "from random import random\n",
        "from queue import Queue"
      ],
      "metadata": {
        "id": "3hWjC_ZVRvth"
      },
      "execution_count": null,
      "outputs": []
    },
    {
      "cell_type": "markdown",
      "source": [
        "Il modulo random ci metterà a disposizione la funzione **random()** che restituisce un float compreso tra 0 e 1. Useremo questa funzione per calcolare ogni quanto tempo far entrare un cliente in coda e per quanto tempo ogni cliente verrà servito allo sportello (ad esempio potremo assegnare un tempo casuale di 5 secondi nel primo caso e 10 secondi per gli sportelli).\n",
        "\n",
        "La funzione sleep ci servirà per sospendere il thread prima di far entrare un cliente o passare al cliente successivo.\n",
        "\n",
        "La coda (classe Queue) invece conterrà i numeri assegnati a ciascun cliente che entra.\n",
        "\n",
        "Poiché ci sono diversi parametri da impostare e variabili da gestire, questo esercizio è forse più opportuno svolgerlo con l'uso delle classi derivate da Thread.\n",
        "\n",
        "Vediamo la classe produttore, che potremo ora chiamare Ingressi:\n",
        "\n"
      ],
      "metadata": {
        "id": "bO5ebbTQSBOo"
      }
    },
    {
      "cell_type": "code",
      "source": [
        "class Ingressi(Thread):      # thread produttore\n",
        "    tempo_totale        = 60 # facciamo eseguire la simulazione per 60 secondi di default\n",
        "    numero_assegnato    = 0  # numero assegnato all'ultimo cliente entrato\n",
        "    tempo_max_ingresso  = 5  # numero max di secondi entro cui entra un cliente\n",
        "    coda                = None # oggetto coda condiviso con il consumer\n",
        "    \n",
        "    def __init__(self, coda, tempo_max_ingresso=5, tempo_totale=60):\n",
        "        super().__init__() # ricordare di richiamare sempre il costruttore della classe padre (Thread)\n",
        "        self.tempo_totale = tempo_totale\n",
        "        self.tempo_max_ingresso = tempo_max_ingresso\n",
        "        self.coda = coda\n",
        "\n",
        "    def run(self):\n",
        "        global FINE\n",
        "        global lock\n",
        "        start = time() # segniamo il tempo iniziale per calcolare il tempo_totale assegnato\n",
        "        while time()-start < self.tempo_totale: # eseguiamo per tempo_totale secondi\n",
        "            sleep(random()*self.tempo_max_ingresso+1) # sospendiamo il thread in attesa di un cliente\n",
        "            self.numero_assegnato += 1 # assegniamo un numero al nuovo cliente\n",
        "            self.coda.put(self.numero_assegnato) # mettiamo in coda il cliente\n",
        "            with lock:\n",
        "                print(f\"Ingresso nuovo cliente al secondo {time()-start:2.0f}: {self.numero_assegnato:3}. Clienti in coda {self.coda.qsize():3}\")\n",
        "        print(f\"Chiusura ingresso\")\n",
        "        FINE = True\n"
      ],
      "metadata": {
        "id": "vMoXrgNtTKVY"
      },
      "execution_count": null,
      "outputs": []
    },
    {
      "cell_type": "markdown",
      "source": [
        "Il nucleo della classe Ingressi è tutto nel metodo run() che viene esguito quando facciamo partire il Thread con start().\n",
        "\n",
        "Tutto quello che deve fare è simulare per un certo periodo di tempo l'ingresso dei clienti e il loro inserimento in coda.\n",
        "\n",
        "Esguendo solo questa classe si avrà un output simile al seguente:"
      ],
      "metadata": {
        "id": "aLAKMTDOWme8"
      }
    },
    {
      "cell_type": "code",
      "source": [
        "FINE = False\n",
        "coda = Queue()\n",
        "ingressi = Ingressi(coda)\n",
        "ingressi.start()\n",
        "ingressi.join()\n"
      ],
      "metadata": {
        "colab": {
          "base_uri": "https://localhost:8080/"
        },
        "id": "ZUIw1WOrXE4k",
        "outputId": "1c1e0247-e79f-4bef-9417-331d42038936"
      },
      "execution_count": null,
      "outputs": [
        {
          "output_type": "stream",
          "name": "stdout",
          "text": [
            "Ingresso nuovo cliente al secondo  3:   1. Clienti in coda   1\n",
            "Ingresso nuovo cliente al secondo  8:   2. Clienti in coda   2\n",
            "Ingresso nuovo cliente al secondo 13:   3. Clienti in coda   3\n",
            "Ingresso nuovo cliente al secondo 15:   4. Clienti in coda   4\n",
            "Ingresso nuovo cliente al secondo 20:   5. Clienti in coda   5\n",
            "Ingresso nuovo cliente al secondo 24:   6. Clienti in coda   6\n",
            "Ingresso nuovo cliente al secondo 28:   7. Clienti in coda   7\n",
            "Ingresso nuovo cliente al secondo 31:   8. Clienti in coda   8\n",
            "Ingresso nuovo cliente al secondo 34:   9. Clienti in coda   9\n",
            "Ingresso nuovo cliente al secondo 39:  10. Clienti in coda  10\n",
            "Ingresso nuovo cliente al secondo 45:  11. Clienti in coda  11\n",
            "Ingresso nuovo cliente al secondo 46:  12. Clienti in coda  12\n",
            "Ingresso nuovo cliente al secondo 48:  13. Clienti in coda  13\n",
            "Ingresso nuovo cliente al secondo 53:  14. Clienti in coda  14\n",
            "Ingresso nuovo cliente al secondo 58:  15. Clienti in coda  15\n",
            "Ingresso nuovo cliente al secondo 60:  16. Clienti in coda  16\n",
            "Ingresso nuovo cliente al secondo 61:  17. Clienti in coda  17\n",
            "Chiusura ingresso\n"
          ]
        }
      ]
    },
    {
      "cell_type": "markdown",
      "source": [
        "Passando ora alla classe Consumatore, il lavoro che questa dovrà svolgere sarà di estrarre un elemento dalla coda (il cliente) e servirlo per un tempo sempre casuale. Dovrà fare questa operazione sino a che non riceverà il segnale True dalla variabile globale FINE e non si sarà esaurita la coda.\n",
        "\n",
        "Questa classe potremo chiamarla Sportello, proprio perché deve gestire le operazioni di un singolo sportello. Se decidiamo di attivare più sportelli basterà attivare più istanze della classe."
      ],
      "metadata": {
        "id": "mJHxei2TXrGS"
      }
    },
    {
      "cell_type": "code",
      "source": [
        "class Sportello(Thread): # thread consumatore\n",
        "    numero_sportello = 0\n",
        "    max_tempo_sportello = 10\n",
        "    coda = None\n",
        "\n",
        "    def __init__(self, numero_sportello, coda, max_tempo_sportello=10 ):\n",
        "        super().__init__()\n",
        "        self.numero_sportello = numero_sportello\n",
        "        self.coda = coda\n",
        "        self.max_tempo_sportello = max_tempo_sportello\n",
        "\n",
        "    def run(self):\n",
        "        global FINE\n",
        "        global lock\n",
        "        while not FINE or not self.coda.empty():\n",
        "            if not self.coda.empty():\n",
        "                numero_assegnato = self.coda.get() # estraiamo il primo cliente in coda\n",
        "                tempo_assegnato = random() * self.max_tempo_sportello +1 # gli assegniamo un tempo allo sportello\n",
        "                with lock:\n",
        "                    print(f\"Sportello {self.numero_sportello}: Servo il cliente {numero_assegnato:3} per {tempo_assegnato:2.0f}sec. Clienti in coda: {self.coda.qsize():2}\")\n",
        "                sleep(tempo_assegnato) # sospendiamo il thread in modo che possa completare il servizio al cliente\n",
        "        print(f\"Chiusura sportello {self.numero_sportello}\")"
      ],
      "metadata": {
        "id": "eRKBGl5HYw_K"
      },
      "execution_count": null,
      "outputs": []
    },
    {
      "cell_type": "markdown",
      "source": [
        "A questo punto siamo pronti per far partire la simulazione completa:"
      ],
      "metadata": {
        "id": "CghzJa7lbCMx"
      }
    },
    {
      "cell_type": "code",
      "source": [
        "FINE = False\n",
        "lock = Lock() # questo lo usiamo per gestire meglio l'output\n",
        "coda = Queue()\n",
        "ingressi = Ingressi(coda)\n",
        "sportello = Sportello(1, coda)\n",
        "\n",
        "ingressi.start()\n",
        "sportello.start()\n",
        "\n",
        "ingressi.join()\n",
        "sportello.join()"
      ],
      "metadata": {
        "colab": {
          "base_uri": "https://localhost:8080/"
        },
        "id": "HSh6HgcCbczh",
        "outputId": "1325931f-3d00-4e6d-986d-e77a4d8bacbe"
      },
      "execution_count": null,
      "outputs": [
        {
          "output_type": "stream",
          "name": "stdout",
          "text": [
            "Ingresso nuovo cliente al secondo  4:   1. Clienti in coda   1\n",
            "Sportello 1: Servo il cliente   1 per  8sec. Clienti in coda:  0\n",
            "Ingresso nuovo cliente al secondo 10:   2. Clienti in coda   1\n",
            "Sportello 1: Servo il cliente   2 per  4sec. Clienti in coda:  0\n",
            "Ingresso nuovo cliente al secondo 15:   3. Clienti in coda   1\n",
            "Sportello 1: Servo il cliente   3 per 11sec. Clienti in coda:  0\n",
            "Ingresso nuovo cliente al secondo 20:   4. Clienti in coda   1\n",
            "Ingresso nuovo cliente al secondo 22:   5. Clienti in coda   2\n",
            "Sportello 1: Servo il cliente   4 per  3sec. Clienti in coda:  1\n",
            "Ingresso nuovo cliente al secondo 28:   6. Clienti in coda   2\n",
            "Sportello 1: Servo il cliente   5 per  9sec. Clienti in coda:  1\n",
            "Ingresso nuovo cliente al secondo 32:   7. Clienti in coda   2\n",
            "Ingresso nuovo cliente al secondo 37:   8. Clienti in coda   3\n",
            "Sportello 1: Servo il cliente   6 per  5sec. Clienti in coda:  2\n",
            "Ingresso nuovo cliente al secondo 42:   9. Clienti in coda   3\n",
            "Ingresso nuovo cliente al secondo 44:  10. Clienti in coda   4\n",
            "Sportello 1: Servo il cliente   7 per  5sec. Clienti in coda:  3\n",
            "Ingresso nuovo cliente al secondo 47:  11. Clienti in coda   4\n",
            "Sportello 1: Servo il cliente   8 per  3sec. Clienti in coda:  3\n",
            "Ingresso nuovo cliente al secondo 51:  12. Clienti in coda   4\n",
            "Sportello 1: Servo il cliente   9 per  3sec. Clienti in coda:  3\n",
            "Sportello 1: Servo il cliente  10 per  1sec. Clienti in coda:  2\n",
            "Ingresso nuovo cliente al secondo 56:  13. Clienti in coda   3\n",
            "Sportello 1: Servo il cliente  11 per 10sec. Clienti in coda:  2\n",
            "Ingresso nuovo cliente al secondo 59:  14. Clienti in coda   3\n",
            "Ingresso nuovo cliente al secondo 63:  15. Clienti in coda   4\n",
            "Chiusura ingresso\n",
            "Sportello 1: Servo il cliente  12 per  7sec. Clienti in coda:  3\n",
            "Sportello 1: Servo il cliente  13 per  3sec. Clienti in coda:  2\n",
            "Sportello 1: Servo il cliente  14 per  2sec. Clienti in coda:  1\n",
            "Sportello 1: Servo il cliente  15 per  2sec. Clienti in coda:  0\n",
            "Chiusura sportello 1\n"
          ]
        }
      ]
    },
    {
      "cell_type": "markdown",
      "source": [
        "Eseguendo il codice possiamo notare che con un solo sportello aperto si può formare una coda piuttosto lunga di clienti in attesa di essere serviti, tanto che allo scadere dei 60 secondi di simulazione nell'esempio mostrato rimagono diversi clienti che essendo già in coda e dovendo essere serviti, allungano i tempi totali di esecuzione bel oltre i 60 secondi.\n",
        "\n",
        "Possiamo quindi provare a simulare la presenza di più sportelli, istanziando più classi Sportello e verificando se le coda migliora:"
      ],
      "metadata": {
        "id": "dRWbAgOSd4SG"
      }
    },
    {
      "cell_type": "code",
      "source": [
        "FINE = False\n",
        "lock = Lock()\n",
        "coda = Queue()\n",
        "ingressi = Ingressi(coda)\n",
        "sportelli = []\n",
        "\n",
        "for i in range(3): # attiviamo 3 sportelli\n",
        "    sportello = Sportello(i+1, coda)\n",
        "    sportelli.append(sportello)\n",
        "\n",
        "ingressi.start()\n",
        "for s in sportelli: s.start()\n",
        "\n",
        "ingressi.join()\n",
        "for s in sportelli: s.join()"
      ],
      "metadata": {
        "colab": {
          "base_uri": "https://localhost:8080/"
        },
        "id": "H3mJklBxeCHu",
        "outputId": "fa9fdf20-c59a-4018-8169-4f13e0321606"
      },
      "execution_count": null,
      "outputs": [
        {
          "output_type": "stream",
          "name": "stdout",
          "text": [
            "Ingresso nuovo cliente al secondo  5:   1. Clienti in coda   1\n",
            "Sportello 1: Servo il cliente   1 per  5sec. Clienti in coda:  0\n",
            "Ingresso nuovo cliente al secondo  8:   2. Clienti in coda   1\n",
            "Sportello 3: Servo il cliente   2 per  2sec. Clienti in coda:  0\n",
            "Ingresso nuovo cliente al secondo 13:   3. Clienti in coda   1\n",
            "Sportello 2: Servo il cliente   3 per  3sec. Clienti in coda:  0\n",
            "Ingresso nuovo cliente al secondo 18:   4. Clienti in coda   1\n",
            "Sportello 3: Servo il cliente   4 per 10sec. Clienti in coda:  0\n",
            "Ingresso nuovo cliente al secondo 20:   5. Clienti in coda   1\n",
            "Sportello 2: Servo il cliente   5 per  7sec. Clienti in coda:  0\n",
            "Ingresso nuovo cliente al secondo 25:   6. Clienti in coda   1\n",
            "Sportello 1: Servo il cliente   6 per  1sec. Clienti in coda:  0\n",
            "Ingresso nuovo cliente al secondo 27:   7. Clienti in coda   1\n",
            "Sportello 1: Servo il cliente   7 per  6sec. Clienti in coda:  0\n",
            "Ingresso nuovo cliente al secondo 30:   8. Clienti in coda   1\n",
            "Sportello 2: Servo il cliente   8 per 10sec. Clienti in coda:  0\n",
            "Ingresso nuovo cliente al secondo 35:   9. Clienti in coda   1\n",
            "Sportello 1: Servo il cliente   9 per  3sec. Clienti in coda:  0\n",
            "Ingresso nuovo cliente al secondo 36:  10. Clienti in coda   1\n",
            "Sportello 3: Servo il cliente  10 per 11sec. Clienti in coda:  0\n",
            "Ingresso nuovo cliente al secondo 38:  11. Clienti in coda   1\n",
            "Sportello 1: Servo il cliente  11 per  3sec. Clienti in coda:  0\n",
            "Ingresso nuovo cliente al secondo 40:  12. Clienti in coda   1\n",
            "Sportello 2: Servo il cliente  12 per 11sec. Clienti in coda:  0\n",
            "Ingresso nuovo cliente al secondo 41:  13. Clienti in coda   1\n",
            "Sportello 1: Servo il cliente  13 per  7sec. Clienti in coda:  0\n",
            "Ingresso nuovo cliente al secondo 44:  14. Clienti in coda   1\n",
            "Ingresso nuovo cliente al secondo 46:  15. Clienti in coda   2\n",
            "Sportello 3: Servo il cliente  14 per 10sec. Clienti in coda:  1\n",
            "Ingresso nuovo cliente al secondo 48:  16. Clienti in coda   2\n",
            "Sportello 1: Servo il cliente  15 per  5sec. Clienti in coda:  1\n",
            "Sportello 2: Servo il cliente  16 per  3sec. Clienti in coda:  0\n",
            "Ingresso nuovo cliente al secondo 51:  17. Clienti in coda   1\n",
            "Sportello 2: Servo il cliente  17 per  9sec. Clienti in coda:  0\n",
            "Ingresso nuovo cliente al secondo 56:  18. Clienti in coda   1\n",
            "Sportello 1: Servo il cliente  18 per 10sec. Clienti in coda:  0\n",
            "Ingresso nuovo cliente al secondo 61:  19. Clienti in coda   1\n",
            "Chiusura ingresso\n",
            "Sportello 3: Servo il cliente  19 per  4sec. Clienti in coda:  0\n",
            "Chiusura sportello 2\n",
            "Chiusura sportello 3\n",
            "Chiusura sportello 1\n"
          ]
        }
      ]
    },
    {
      "cell_type": "markdown",
      "source": [
        "Con 3 sportelli attivi la simulazione mostra una coda decisamente migliorata, con pochissimi clienti in attesa e uno sforamento del tempo totale di pochi secondi."
      ],
      "metadata": {
        "id": "kFHFOoyk609A"
      }
    },
    {
      "cell_type": "markdown",
      "source": [
        "### Esercizio Sportello: varianti\n",
        "\n",
        "Modificare l'esercizio dello sportello con le seguenti varianti/aggiunte:\n",
        "\n",
        "1.   Stampare alla fine il numero massimo di cienti in coda\n",
        "2.   Stampare alla fine il tempo medio di attesa dei clienti in coda, prima di essere serviti allo sportello. Per fare questo si potrebbe registrare in coda non solo il numero ma anche il minuto di ingresso. Al momento del servizio si calcola quanto tempo il cliente ha atteso e si procede con i calcoli della media.\n",
        "3.   Modificare il programma in modo che possa gestire più code (immaginate all'Ufficio Postale in cui c'è una coda per i pacchi e una per i servizi finanziari). Il produttore deve quindi assegnare il numero ad una coda scelta a caso tra quelle presenti e lo sportello deve avere assegnata una coda specifica.\n",
        "\n",
        "\n"
      ],
      "metadata": {
        "id": "vvABXypp67sp"
      }
    }
  ]
}